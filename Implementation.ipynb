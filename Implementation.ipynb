{
  "nbformat": 4,
  "nbformat_minor": 0,
  "metadata": {
    "colab": {
      "provenance": []
    },
    "kernelspec": {
      "name": "python3",
      "display_name": "Python 3"
    },
    "language_info": {
      "name": "python"
    }
  },
  "cells": [
    {
      "cell_type": "markdown",
      "source": [
        "# **Pricing options and computing implied volatilities using neural networks**\n",
        "\n",
        "---\n",
        "\n",
        "\n",
        "\n"
      ],
      "metadata": {
        "id": "jOhCpRrsw9s7"
      }
    },
    {
      "cell_type": "markdown",
      "source": [
        "We'll start by importing all the dependencies and defining all the functions necessary to computing the prices, manely: `BS(S,K,tau,r,sigma)`, `Heston_2(S,K,tau,mrs,r,volvol,v_bar,rho,sigma,L,N)` and `implied_vol(S,K,tau,r,[...])` in its two variations.\n",
        "Note: if you'd like to run this code, make sure to install the smt package (`pip install smt`) which contains the LHS (Latin Hypercube Sampling) method we'll use to sample from our parameter space."
      ],
      "metadata": {
        "id": "HElZcnwXxPDP"
      }
    },
    {
      "cell_type": "markdown",
      "source": [
        "The parameters are :\n",
        "<br>\n",
        "- S : spot price of the underlying\n",
        "- K : strike\n",
        "- tau : time to maturity\n",
        "- r : risk free interest rate\n",
        "- sigma : in the BS model it's the volatility, and in the Heston model it's the initial volatility\n",
        "- mrs : mean reversion speed\n",
        "- v_bar : long term variance\n",
        "- volvol : volatily of the variance\n",
        "- rho : brownian correlation\n",
        "<br> The code implementing the COS method was inspired by the COS-FFT project in the github reposiroty : https://github.com/larsphilipp/AdvNum19_COS-FFT"
      ],
      "metadata": {
        "id": "W5E8yBsT7ZWp"
      }
    },
    {
      "cell_type": "markdown",
      "source": [
        "The data generated for the Black-Scholes model is in the file titled \"BS_data.pt\" with each column is m, tau, r, sigma, price in that order. The one for the Heston model is in the file titled \"H_data.pt\" with each column being m, tau, mrs, r, volvol, v_bar, rho, sigma, price in that order. And lastly the implied volatilities data in in the file titled \"iv_data.pt\" with the same columns as H_data plus a last column with the implied volatilities. All these files are tensors and can be loaded using `torch.load(file_name)`"
      ],
      "metadata": {
        "id": "hXYbXAoIHUHs"
      }
    },
    {
      "cell_type": "markdown",
      "source": [
        "Similarly, the Black-Scholes and the Heston and the (last) implied volatility ANNs are also in the files titled \"BS_ANN.pt\", \"Heston_ANN.pt\" and \"iv_ANN_2.pt\" respectively."
      ],
      "metadata": {
        "id": "2o1AaAsdICWA"
      }
    },
    {
      "cell_type": "code",
      "source": [
        "from tqdm import tqdm\n",
        "import numpy as np\n",
        "from scipy.stats import norm\n",
        "from scipy import optimize\n",
        "import smt\n",
        "from smt.sampling_methods import LHS\n",
        "import torch\n",
        "from torch import nn\n",
        "from torch.utils.data import TensorDataset, DataLoader\n",
        "import matplotlib.pyplot as plt\n",
        "import plotly.express as px\n",
        "\n",
        "\n",
        "def BS(S,K,tau,r,sigma):\n",
        "  '''\n",
        "  Gives the scaled price of a european option as given by the closed B-S formula\n",
        "  '''\n",
        "  d_1 = np.divide((np.log(np.divide(S,K)) + (r+0.5*np.multiply(np.power(sigma,2),tau))), (np.multiply(sigma,np.sqrt(tau))))\n",
        "  d_2 = d_1 - np.multiply(sigma,np.sqrt(tau))\n",
        "\n",
        "  V = np.multiply(norm.cdf(x=d_1),S) - np.multiply(np.multiply(norm.cdf(x=d_2),K),np.exp(-np.multiply(r,tau)))\n",
        "\n",
        "  return V/K\n",
        "\n",
        "def truncation(L,tau,mrs,r,volvol,v_bar,rho,sigma):\n",
        "  '''\n",
        "  Finds the integration range for the COS method\n",
        "  L : truncation parameter\n",
        "  '''\n",
        "  c1 = r* tau + (1 - np.exp(-mrs * tau)) * (v_bar - sigma)/(2 * mrs) - v_bar * tau / 2 # this is the first order cumulant of the characterisctic function of the log-asset price\n",
        "\n",
        "  c2 = 1/(8 * np.power(mrs,3)) * (volvol * tau * mrs * np.exp(-mrs * tau) \\\n",
        "      * (sigma - v_bar) * (8 * mrs * rho - 4 * volvol) \\\n",
        "      + mrs * rho * volvol * (1 - np.exp(-mrs * tau)) * (16 * v_bar - 8 * sigma) \\\n",
        "      + 2 * v_bar * mrs * tau * (-4 * mrs * rho * volvol + np.power(volvol,2) + 4 * np.power(mrs,2)) \\\n",
        "      + np.power(volvol,2) * ((v_bar - 2 * sigma) * np.exp(-2 * mrs * tau) \\\n",
        "      + v_bar * (6 * np.exp(-mrs * tau) - 7) + 2 * sigma) \\\n",
        "      + 8 * np.power(mrs,2) * (sigma - v_bar) * (1 - np.exp(-mrs * tau))) # this is the second order cumulant of the characterisctic function of the log-asset price\n",
        "\n",
        "  a = c1 - L * np.sqrt(np.abs(c2))\n",
        "  b = c1 + L * np.sqrt(np.abs(c2))\n",
        "\n",
        "  return a, b\n",
        "\n",
        "def cosSerExp(a,b,c,d,k):\n",
        "  '''\n",
        "  The cosine series coefficients of g(y)=exp(y) on [c,d] included in [a,b]\n",
        "  k : positive integer\n",
        "\n",
        "  '''\n",
        "  bma = b-a\n",
        "  uu  = k * np.pi/bma\n",
        "  chi =  (1/(1 + np.power(uu,2)))*(np.cos(uu*(d-a))*np.exp(d) - np.cos(uu*(c-a))*np.exp(c) + uu*np.sin(uu*(d-a))*np.exp(d) - uu*np.sin(uu*(c-a))*np.exp(c))\n",
        "\n",
        "  return chi\n",
        "\n",
        "def cosSer1(a,b,c,d,k):\n",
        "  '''\n",
        "  The cosine series coefficients of g(y)=1 on [c,d] included in [a,b]\n",
        "  k : positive integer\n",
        "\n",
        "  '''\n",
        "  bma    = b-a\n",
        "  uu     = k * np.pi/bma\n",
        "  uu[0]  = 1\n",
        "  psi    = (1/uu)*(np.sin(uu*(d-a)) - np.sin(uu*(c-a)))\n",
        "  psi[0] = d-c\n",
        "  return psi\n",
        "\n",
        "def charFuncHestonFO(u,tau,mrs,r,volvol,v_bar,rho,sigma):\n",
        "  '''\n",
        "  The characteristic function of the Heston log-asset price evaluated at u\n",
        "  '''\n",
        "  d = np.sqrt(np.power(mrs - 1j*rho*volvol*u, 2) + np.power(volvol,2) * (np.power(u,2) + u*1j))\n",
        "  g = (mrs - 1j*rho*volvol*u - d)/(mrs - 1j*rho*volvol*u + d)\n",
        "  C = (mrs*v_bar/np.power(volvol,2)) * ((mrs - 1j*rho*volvol*u - d)*tau - 2*np.log((1 - g * np.exp(-d * tau))/(1-g)))\n",
        "  D = 1j*r*u*tau + (sigma/np.power(volvol,2)) * ((1 - np.exp(-d*tau))/(1 - g*np.exp(-d*tau))) * (mrs - 1j*rho*volvol*u - d)\n",
        "  phi = np.exp(D) * np.exp(C)\n",
        "  return phi\n",
        "\n",
        "def Heston(S,K,tau,mrs,r,volvol,v_bar,rho,sigma,L,N):\n",
        "  '''\n",
        "  Calculates the price of a european call option with a Heston asset and using the COS method\n",
        "  Initial asset price S, time to maturity tau, strike K with the rest of the Heston parameters\n",
        "  '''\n",
        "  k = np.arange(N)\n",
        "  x = np.log(S/K)\n",
        "  a,b = truncation(L,tau,mrs,r,volvol,v_bar,rho,sigma)\n",
        "  u = k*np.pi/(b-a)\n",
        "\n",
        "  phi_heston = charFuncHestonFO(u,tau,mrs,r,volvol,v_bar,rho,sigma)\n",
        "  ExpTerm = np.exp(1j*k*np.pi*(x-a)/(b-a))\n",
        "  Fk = np.real(phi_heston*ExpTerm)\n",
        "  Fk[0] = 0.5*Fk[0]\n",
        "  UkCall = 2/(b-a)*(cosSerExp(a,b,0,b,k) - cosSer1(a,b,0,b,k))\n",
        "\n",
        "  V = K*np.exp(-r*tau)*np.sum(np.multiply(Fk,UkCall))\n",
        "\n",
        "  return V\n",
        "\n",
        "def Heston_2(S,K,tau,mrs,r,volvol,v_bar,rho,sigma,L,N):\n",
        "  '''\n",
        "  Calculates the price of a european call option with a Heston asset and using the COS method but with put-call parity.\n",
        "  In fact, COS method doesn't give good results for deep OTM calls, so we'll use this function to generate our data\n",
        "  '''\n",
        "  k = np.arange(N)\n",
        "  x = np.log(S/K)\n",
        "  a,b = truncation(L,tau,mrs,r,volvol,v_bar,rho,sigma)\n",
        "  u = k*np.pi/(b-a)\n",
        "\n",
        "  phi_heston = charFuncHestonFO(u,tau,mrs,r,volvol,v_bar,rho,sigma)\n",
        "  ExpTerm = np.exp(1j*k*np.pi*(x-a)/(b-a))\n",
        "  Fk = np.real(phi_heston*ExpTerm)\n",
        "  Fk[0] = 0.5*Fk[0]\n",
        "  UkPut  = 2/(b-a)*(cosSer1(a,b,a,0,k) - cosSerExp(a,b,a,0,k))\n",
        "\n",
        "  V_Put = K * np.sum(Fk*UkPut)*np.exp(-r*tau)\n",
        "\n",
        "  V_Call = V_Put + S - K*np.exp(-r*tau)\n",
        "\n",
        "  return V_Call\n",
        "\n",
        "def implied_vol_(S,K,tau,mrs,r,volvol,v_bar,rho,sigma,L,N,a,b):\n",
        "  '''\n",
        "  Finds the B-S implied volatility using Heston otpions price as the \"market price\" and using Brent's root finding method from scipy.optimize\n",
        "  '''\n",
        "  g = lambda x : BS(S,K,tau,r,x)*K - Heston_2(S,K,tau,mrs,r,volvol,v_bar,rho,sigma,L,N)\n",
        "  root = optimize.brentq(g, a, b)\n",
        "  return root\n",
        "\n",
        "def implied_vol(S,K,tau,r,Heston_price):\n",
        "  '''\n",
        "  Finds the B-S implied volatility using Heston otpions prices that are already calculated as the \"market price\" and using Brent's root finding method from scipy.optimize\n",
        "  '''\n",
        "  a = -3\n",
        "  b = 5\n",
        "  g = lambda x : BS(S,K,tau,r,x)*K - Heston_price\n",
        "  root = optimize.brentq(g, a, b)\n",
        "  return root"
      ],
      "metadata": {
        "id": "kaeRlecpOC2P"
      },
      "execution_count": null,
      "outputs": []
    },
    {
      "cell_type": "markdown",
      "source": [
        "# Black-Scholes ANN"
      ],
      "metadata": {
        "id": "DXNAoJaK48AJ"
      }
    },
    {
      "cell_type": "markdown",
      "source": [
        "With all the necessary functions defined, we can move on to generating data for our first model; the BS-ANN. To do this, we define the bounds of our parameter space `(moneyness, tau, r, sigma)` and then we sample one million data points from this space using the `LHS` method, and then compute the BS price using `BS(S,K,tau,r,sigma)`. This cell takes approximately 4 minutes to run."
      ],
      "metadata": {
        "id": "E3buVhkCyiNI"
      }
    },
    {
      "cell_type": "code",
      "source": [
        "S = 100\n",
        "L = 50\n",
        "N = 1500\n",
        "\n",
        "# Latin Hypercube Sampling for the B-S model\n",
        "M_BS = [0.4,1.6] # moneyness = S0/K\n",
        "TAU_BS = [0.2,1.1]\n",
        "R_BS = [0.02,0.1]\n",
        "SIGMA_BS = [0.01,1.0]\n",
        "\n",
        "BS_param_space = np.array([M_BS,TAU_BS,R_BS,SIGMA_BS])\n",
        "\n",
        "sampling_BS = LHS(xlimits=BS_param_space)\n",
        "num_BS = 10**6 # we will generate 1 million labeled data points\n",
        "x_BS = sampling_BS(num_BS)\n",
        "\n",
        "labeled_BS = np.zeros((num_BS,5))\n",
        "for i in range(num_BS):\n",
        "  m,tau,r,sigma = x_BS[i,0],x_BS[i,1],x_BS[i,2],x_BS[i,3]\n",
        "  price = BS(S,S/m,tau,r,sigma)\n",
        "  labeled_BS[i,:] = [m,tau,r,sigma,price]\n",
        "\n",
        "BS_data = torch.tensor(labeled_BS).type(torch.float)\n",
        "\n",
        "# torch.save(BS_data, 'BS_data.pt')"
      ],
      "metadata": {
        "id": "Trcs_W02l672"
      },
      "execution_count": null,
      "outputs": []
    },
    {
      "cell_type": "markdown",
      "source": [
        "We will define out ANN using the `nn.Module`class. As you will see in the code, it containes 4 hidden layers with the `ReLU` activation function and 400 neurons each. Additonnally, I added the `weights_init` function which initializes the weights of the model using a Glorot uniform distribution."
      ],
      "metadata": {
        "id": "LAXV4FnR2GS8"
      }
    },
    {
      "cell_type": "code",
      "source": [
        "class BlackScholes_ANN(nn.Module):\n",
        "  def __init__(self):\n",
        "    super().__init__()\n",
        "    self.linear_relu_stack = nn.Sequential(\n",
        "\n",
        "        nn.Linear(4,400),\n",
        "        nn.ReLU(),\n",
        "\n",
        "        nn.Linear(400,400),\n",
        "        nn.ReLU(),\n",
        "\n",
        "        nn.Linear(400,400),\n",
        "        nn.ReLU(),\n",
        "\n",
        "        nn.Linear(400,400),\n",
        "        nn.ReLU(),\n",
        "\n",
        "        nn.Linear(400,1),\n",
        "    )\n",
        "\n",
        "  def forward(self,x):\n",
        "    target = self.linear_relu_stack(x)\n",
        "    return target\n",
        "\n",
        "  def weights_init(self): # initializing parameters using glorot uniform unitialization\n",
        "    for module in self.modules():\n",
        "      if isinstance(module, nn.Linear):\n",
        "        nn.init.xavier_uniform_(module.weight)\n",
        "\n",
        "def train_loop(dataloader, model, loss_fn, optimizer):\n",
        "  for batch, (X,y) in enumerate(dataloader):\n",
        "    # forward compute\n",
        "    pred = model(X)\n",
        "    loss = loss_fn(pred,y.unsqueeze(1))\n",
        "\n",
        "    # backpropagation\n",
        "    optimizer.zero_grad()\n",
        "    loss.backward()\n",
        "    optimizer.step()\n"
      ],
      "metadata": {
        "id": "5eOrynIEXh85"
      },
      "execution_count": null,
      "outputs": []
    },
    {
      "cell_type": "markdown",
      "source": [
        "We train the model on 90% of the geenrated data, that is 900 000 data points, and the rest is used to test. The chosen loss function is `MSE` and the batch size is 1000. I use Adam optimizer and a learning rate decaying schedule as well in accordance with the article."
      ],
      "metadata": {
        "id": "bpijGwbE3EqL"
      }
    },
    {
      "cell_type": "code",
      "source": [
        "BS_ANN = BlackScholes_ANN()\n",
        "BS_ANN.weights_init()\n",
        "loss_function = nn.MSELoss()\n",
        "batch_size = 1000\n",
        "epochs = 200\n",
        "optimizer = torch.optim.Adam(BS_ANN.parameters(), lr=10e-5)\n",
        "scheduler = torch.optim.lr_scheduler.StepLR(optimizer, step_size=10, gamma=0.1) # after 10 epochs the new lr is lr*gamma\n",
        "\n",
        "train_size = int(0.9*num_BS)\n",
        "X = BS_data[:,:-1] # inputs of the model\n",
        "Y = BS_data[:,-1] # the price\n",
        "Xtrain, Xtest = X[:train_size,:], X[train_size:,:]\n",
        "Ytrain, Ytest = Y[:train_size], Y[train_size:]\n",
        "\n",
        "train_set = TensorDataset(Xtrain,Ytrain)\n",
        "train_dataloader = DataLoader(train_set, batch_size=batch_size)"
      ],
      "metadata": {
        "id": "PSg_YwKAgTkU"
      },
      "execution_count": null,
      "outputs": []
    },
    {
      "cell_type": "markdown",
      "source": [
        "Note : Initially, I planned to train the model for 200 epochs, but it became clear that the model was trained enough by epoch 50 so I stopped the cell there, which is why my results will be plotted for only 50 epochs and not 200."
      ],
      "metadata": {
        "id": "XpkfTtjs3j7C"
      }
    },
    {
      "cell_type": "code",
      "source": [
        "training_loss = []\n",
        "test_loss = []\n",
        "for epoch in tqdm(range(epochs)):\n",
        "  running_training_loss = train_loop(train_dataloader, BS_ANN, loss_function, optimizer)\n",
        "  running_test_loss = loss_function(BS_ANN(Xtest),Ytest.unsqueeze(1))\n",
        "  running_training_loss = loss_function(BS_ANN(Xtrain),Ytrain.unsqueeze(1))\n",
        "\n",
        "  test_loss.append(running_test_loss.detach().numpy())\n",
        "  training_loss.append(running_training_loss.detach().numpy())\n",
        "\n",
        "  scheduler.step()"
      ],
      "metadata": {
        "id": "VMnsQp0bzawe"
      },
      "execution_count": null,
      "outputs": []
    },
    {
      "cell_type": "markdown",
      "source": [
        "Plotting the log loss for training and testing for the 50 epochs gives these plots :"
      ],
      "metadata": {
        "id": "okd4LcKM4Ekh"
      }
    },
    {
      "cell_type": "code",
      "source": [
        "plt.figure(figsize=(9,3))\n",
        "plt.plot(np.arange(1,51,1),np.log(np.array(training_loss)),'r',label=\"Training loss\")\n",
        "plt.plot(np.arange(1,51,1),np.log(np.array(test_loss)),'b',linestyle='dashed',label=\"Test loss\")\n",
        "plt.xlabel(\"Epochs\")\n",
        "plt.ylabel(\"Log MSE loss\")\n",
        "plt.legend()\n",
        "# plt.savefig(\"MSE_loss_BS_1mil_50_epochs.png\",dpi=1200)"
      ],
      "metadata": {
        "colab": {
          "base_uri": "https://localhost:8080/",
          "height": 311
        },
        "id": "4MCqYs4G8gyE",
        "outputId": "c809a7e6-b919-47ba-edc9-967dcba8fc53"
      },
      "execution_count": null,
      "outputs": [
        {
          "output_type": "display_data",
          "data": {
            "text/plain": [
              "<Figure size 900x300 with 1 Axes>"
            ],
            "image/png": "[encoded data removed]"
          },
          "metadata": {}
        }
      ]
    },
    {
      "cell_type": "markdown",
      "source": [
        "Additionnaly, we can use the model to compute BS option prices, and plot them against the analytic solution :"
      ],
      "metadata": {
        "id": "2v3KnkBD4OaJ"
      }
    },
    {
      "cell_type": "code",
      "source": [
        "S = 100\n",
        "K = np.arange(65,190,1)\n",
        "tau = 1\n",
        "r = 0.05\n",
        "sigma = 0.5\n",
        "\n",
        "inputs = np.zeros((len(K),4))\n",
        "\n",
        "for i in range(len(K)):\n",
        "  inputs[i,:] = [S/K[i],tau,r,sigma]\n",
        "\n",
        "inputs = torch.tensor(inputs).type(torch.float)\n",
        "\n",
        "real = BS(S,K,tau,r,sigma)\n",
        "model = BS_ANN(inputs).detach().numpy()\n",
        "plt.plot(K,real,'r',label=\"Real BS function\")\n",
        "plt.plot(K,model,'b',linestyle='dashed',label=\"BS-ANN\")\n",
        "plt.xlabel(\"Strike K\")\n",
        "plt.ylabel(\"Scaled price V/K\")\n",
        "plt.legend()\n",
        "# plt.savefig(\"predictions_BS_1mil_50_epochs.png\",dpi=1200)"
      ],
      "metadata": {
        "colab": {
          "base_uri": "https://localhost:8080/",
          "height": 449
        },
        "id": "6o0hrFdS94Eq",
        "outputId": "c1d4adae-8100-43fb-867c-ce5481500892"
      },
      "execution_count": null,
      "outputs": [
        {
          "output_type": "display_data",
          "data": {
            "text/plain": [
              "<Figure size 640x480 with 1 Axes>"
            ],
            "image/png": "[encoded data removed]"
          },
          "metadata": {}
        }
      ]
    },
    {
      "cell_type": "markdown",
      "source": [
        "# Heston ANN"
      ],
      "metadata": {
        "id": "ZDWgoWoi5CNI"
      }
    },
    {
      "cell_type": "markdown",
      "source": [
        "We approach this model similarly, generating the data first, then creating the ANN the same way as before."
      ],
      "metadata": {
        "id": "00s31yLa5EkZ"
      }
    },
    {
      "cell_type": "code",
      "source": [
        "S = 100\n",
        "L = 50\n",
        "N = 1500\n",
        "\n",
        "# Latin Hypercube Sampling for the Heston model\n",
        "M_H = [0.6,1.4] # moneyness = S0/K\n",
        "TAU_H = [0.1,1.4]\n",
        "R_H = [0.0,0.1]\n",
        "RHO = [-0.95,0.0]\n",
        "MRS = [0.0,2.0]\n",
        "V_BAR = [0.0,0.5]\n",
        "VOLVOL = [0.0,0.5]\n",
        "SIGMA_H = [0.05,0.5]\n",
        "\n",
        "H_param_space = np.array([M_H,TAU_H,MRS,R_H,VOLVOL,V_BAR,RHO,SIGMA_H])\n",
        "sampling_H = LHS(xlimits=H_param_space)\n",
        "num_H = 10**6\n",
        "# num_H = 1000\n",
        "x_H = sampling_H(num_H)\n",
        "\n",
        "labeled_H = np.zeros((num_H,9))\n",
        "for i in range(num_H):\n",
        "  m,tau,mrs,r,volvol,v_bar,rho,sigma = x_H[i,0],x_H[i,1],x_H[i,2],x_H[i,3],x_H[i,4],x_H[i,5],x_H[i,6],x_H[i,7]\n",
        "  price = Heston_2(S,S/m,tau,mrs,r,volvol,v_bar,rho,sigma,L,N)\n",
        "  labeled_H[i,:] = [m,tau,mrs,r,volvol,v_bar,rho,sigma,price]\n",
        "\n",
        "H_data = torch.tensor(labeled_H).type(torch.float)\n",
        "\n",
        "# torch.save(H_data, 'H_data.pt')"
      ],
      "metadata": {
        "id": "kPKOn4R2NS4x"
      },
      "execution_count": null,
      "outputs": []
    },
    {
      "cell_type": "code",
      "source": [
        "class Heston_ANN(nn.Module):\n",
        "  def __init__(self):\n",
        "    super().__init__()\n",
        "    self.linear_relu_stack = nn.Sequential(\n",
        "\n",
        "        nn.Linear(8,400),\n",
        "        nn.ReLU(),\n",
        "\n",
        "        nn.Linear(400,400),\n",
        "        nn.ReLU(),\n",
        "\n",
        "        nn.Linear(400,400),\n",
        "        nn.ReLU(),\n",
        "\n",
        "        nn.Linear(400,400),\n",
        "        nn.ReLU(),\n",
        "\n",
        "        nn.Linear(400,1),\n",
        "    )\n",
        "\n",
        "  def forward(self,x):\n",
        "    target = self.linear_relu_stack(x)\n",
        "    return target\n",
        "\n",
        "  def weights_init(self): # initializing parameters using glorot uniform unitialization\n",
        "    for module in self.modules():\n",
        "      if isinstance(module, nn.Linear):\n",
        "        nn.init.xavier_uniform_(module.weight)\n",
        "\n",
        "def train_loop(dataloader, model, loss_fn, optimizer):\n",
        "  for batch, (X,y) in enumerate(dataloader):\n",
        "    # forward compute\n",
        "    pred = model(X)\n",
        "    loss = loss_fn(pred,y.unsqueeze(1))\n",
        "\n",
        "    # backpropagation\n",
        "    optimizer.zero_grad()\n",
        "    loss.backward()\n",
        "    optimizer.step()"
      ],
      "metadata": {
        "id": "h8NB0EnIatRy"
      },
      "execution_count": null,
      "outputs": []
    },
    {
      "cell_type": "code",
      "source": [
        "Hest_ANN = Heston_ANN()\n",
        "Hest_ANN.weights_init()\n",
        "loss_function = nn.MSELoss()\n",
        "batch_size = 1000\n",
        "epochs = 100\n",
        "optimizer = torch.optim.Adam(Hest_ANN.parameters(), lr=10e-3)\n",
        "scheduler = torch.optim.lr_scheduler.StepLR(optimizer, step_size=20, gamma=0.1)\n",
        "\n",
        "train_size = int(0.9*num_H)\n",
        "X = H_data[:,:-1] # inputs of the model\n",
        "Y = H_data[:,-1] # the price\n",
        "Xtrain, Xtest = X[:train_size,:], X[train_size:,:]\n",
        "Ytrain, Ytest = Y[:train_size], Y[train_size:]\n",
        "\n",
        "train_set = TensorDataset(Xtrain,Ytrain)\n",
        "train_dataloader = DataLoader(train_set, batch_size=batch_size)"
      ],
      "metadata": {
        "id": "y-vtwCsYbcEd"
      },
      "execution_count": null,
      "outputs": []
    },
    {
      "cell_type": "markdown",
      "source": [
        "We can see that my results aren't as good as the paper. Although it should be noted that in the paper, they did hyperparameter optimization to find the best hyperparameters, which I didn't do. Mainly, they set the number of epochs to 3000 which is not feasable for me."
      ],
      "metadata": {
        "id": "mMRhAJgd5bAo"
      }
    },
    {
      "cell_type": "code",
      "source": [
        "training_loss = []\n",
        "test_loss = []\n",
        "for epoch in tqdm(range(epochs)):\n",
        "  running_training_loss = train_loop(train_dataloader, Hest_ANN, loss_function, optimizer)\n",
        "  running_test_loss = loss_function(Hest_ANN(Xtest),Ytest.unsqueeze(1))\n",
        "  running_training_loss = loss_function(Hest_ANN(Xtrain),Ytrain.unsqueeze(1))\n",
        "\n",
        "  if epoch%5==0:\n",
        "    print(\"Test loss :\", running_test_loss.detach().numpy())\n",
        "\n",
        "  test_loss.append(running_test_loss.detach().numpy())\n",
        "  training_loss.append(running_training_loss.detach().numpy())\n",
        "\n",
        "  scheduler.step()\n",
        "\n",
        "print(\"Done!\")"
      ],
      "metadata": {
        "colab": {
          "base_uri": "https://localhost:8080/"
        },
        "id": "LnQYlHEHjK9O",
        "outputId": "a5d18564-c67c-4673-a392-40cdb0457af7"
      },
      "execution_count": null,
      "outputs": [
        {
          "output_type": "stream",
          "name": "stderr",
          "text": [
            "  1%|          | 1/100 [01:38<2:41:49, 98.08s/it]"
          ]
        },
        {
          "output_type": "stream",
          "name": "stdout",
          "text": [
            "Test loss : 0.96615016\n"
          ]
        },
        {
          "output_type": "stream",
          "name": "stderr",
          "text": [
            "  6%|▌         | 6/100 [09:33<2:29:15, 95.27s/it]"
          ]
        },
        {
          "output_type": "stream",
          "name": "stdout",
          "text": [
            "Test loss : 0.23231044\n"
          ]
        },
        {
          "output_type": "stream",
          "name": "stderr",
          "text": [
            " 11%|█         | 11/100 [17:30<2:21:36, 95.47s/it]"
          ]
        },
        {
          "output_type": "stream",
          "name": "stdout",
          "text": [
            "Test loss : 0.26515198\n"
          ]
        },
        {
          "output_type": "stream",
          "name": "stderr",
          "text": [
            " 16%|█▌        | 16/100 [25:32<2:14:41, 96.21s/it]"
          ]
        },
        {
          "output_type": "stream",
          "name": "stdout",
          "text": [
            "Test loss : 0.2522753\n"
          ]
        },
        {
          "output_type": "stream",
          "name": "stderr",
          "text": [
            " 21%|██        | 21/100 [33:36<2:07:22, 96.74s/it]"
          ]
        },
        {
          "output_type": "stream",
          "name": "stdout",
          "text": [
            "Test loss : 0.1536732\n"
          ]
        },
        {
          "output_type": "stream",
          "name": "stderr",
          "text": [
            " 26%|██▌       | 26/100 [41:37<1:58:47, 96.32s/it]"
          ]
        },
        {
          "output_type": "stream",
          "name": "stdout",
          "text": [
            "Test loss : 0.094252415\n"
          ]
        },
        {
          "output_type": "stream",
          "name": "stderr",
          "text": [
            " 31%|███       | 31/100 [49:38<1:50:37, 96.19s/it]"
          ]
        },
        {
          "output_type": "stream",
          "name": "stdout",
          "text": [
            "Test loss : 0.051547162\n"
          ]
        },
        {
          "output_type": "stream",
          "name": "stderr",
          "text": [
            " 36%|███▌      | 36/100 [57:42<1:43:08, 96.70s/it]"
          ]
        },
        {
          "output_type": "stream",
          "name": "stdout",
          "text": [
            "Test loss : 0.046935927\n"
          ]
        },
        {
          "output_type": "stream",
          "name": "stderr",
          "text": [
            " 41%|████      | 41/100 [1:05:47<1:35:36, 97.23s/it]"
          ]
        },
        {
          "output_type": "stream",
          "name": "stdout",
          "text": [
            "Test loss : 0.031761926\n"
          ]
        },
        {
          "output_type": "stream",
          "name": "stderr",
          "text": [
            " 46%|████▌     | 46/100 [1:13:56<1:28:12, 98.01s/it]"
          ]
        },
        {
          "output_type": "stream",
          "name": "stdout",
          "text": [
            "Test loss : 0.030565593\n"
          ]
        },
        {
          "output_type": "stream",
          "name": "stderr",
          "text": [
            " 51%|█████     | 51/100 [1:22:09<1:20:25, 98.47s/it]"
          ]
        },
        {
          "output_type": "stream",
          "name": "stdout",
          "text": [
            "Test loss : 0.029673645\n"
          ]
        },
        {
          "output_type": "stream",
          "name": "stderr",
          "text": [
            " 56%|█████▌    | 56/100 [1:30:29<1:13:10, 99.79s/it] "
          ]
        },
        {
          "output_type": "stream",
          "name": "stdout",
          "text": [
            "Test loss : 0.028855149\n"
          ]
        },
        {
          "output_type": "stream",
          "name": "stderr",
          "text": [
            " 61%|██████    | 61/100 [1:38:57<1:05:53, 101.36s/it]"
          ]
        },
        {
          "output_type": "stream",
          "name": "stdout",
          "text": [
            "Test loss : 0.027422914\n"
          ]
        },
        {
          "output_type": "stream",
          "name": "stderr",
          "text": [
            " 66%|██████▌   | 66/100 [1:47:35<58:35, 103.39s/it]"
          ]
        },
        {
          "output_type": "stream",
          "name": "stdout",
          "text": [
            "Test loss : 0.027194625\n"
          ]
        },
        {
          "output_type": "stream",
          "name": "stderr",
          "text": [
            " 71%|███████   | 71/100 [1:56:26<51:13, 106.00s/it]"
          ]
        },
        {
          "output_type": "stream",
          "name": "stdout",
          "text": [
            "Test loss : 0.027081812\n"
          ]
        },
        {
          "output_type": "stream",
          "name": "stderr",
          "text": [
            " 76%|███████▌  | 76/100 [2:05:31<43:32, 108.86s/it]"
          ]
        },
        {
          "output_type": "stream",
          "name": "stdout",
          "text": [
            "Test loss : 0.026996372\n"
          ]
        },
        {
          "output_type": "stream",
          "name": "stderr",
          "text": [
            " 81%|████████  | 81/100 [2:14:57<35:47, 113.04s/it]"
          ]
        },
        {
          "output_type": "stream",
          "name": "stdout",
          "text": [
            "Test loss : 0.026885694\n"
          ]
        },
        {
          "output_type": "stream",
          "name": "stderr",
          "text": [
            " 86%|████████▌ | 86/100 [2:24:53<27:43, 118.85s/it]"
          ]
        },
        {
          "output_type": "stream",
          "name": "stdout",
          "text": [
            "Test loss : 0.0268579\n"
          ]
        },
        {
          "output_type": "stream",
          "name": "stderr",
          "text": [
            " 91%|█████████ | 91/100 [2:35:21<18:44, 124.97s/it]"
          ]
        },
        {
          "output_type": "stream",
          "name": "stdout",
          "text": [
            "Test loss : 0.026848651\n"
          ]
        },
        {
          "output_type": "stream",
          "name": "stderr",
          "text": [
            " 96%|█████████▌| 96/100 [2:46:10<08:39, 129.77s/it]"
          ]
        },
        {
          "output_type": "stream",
          "name": "stdout",
          "text": [
            "Test loss : 0.026841717\n"
          ]
        },
        {
          "output_type": "stream",
          "name": "stderr",
          "text": [
            "100%|██████████| 100/100 [2:54:54<00:00, 104.95s/it]"
          ]
        },
        {
          "output_type": "stream",
          "name": "stdout",
          "text": [
            "Done!\n"
          ]
        },
        {
          "output_type": "stream",
          "name": "stderr",
          "text": [
            "\n"
          ]
        }
      ]
    },
    {
      "cell_type": "markdown",
      "source": [
        "But at the very least, we can see that the model is not overfitting since the test and training errors are pretty close !"
      ],
      "metadata": {
        "id": "VM0PAsHr53GQ"
      }
    },
    {
      "cell_type": "code",
      "source": [
        "plt.figure(figsize=(9,3))\n",
        "plt.plot(np.arange(1,101,1),np.log(np.array(training_loss)),'r',label=\"Training loss\")\n",
        "plt.plot(np.arange(1,101,1),np.log(np.array(test_loss)),'b',linestyle='dashed',label=\"Test loss\")\n",
        "plt.xlabel(\"Epochs\")\n",
        "plt.ylabel(\"Log MSE loss\")\n",
        "plt.legend()\n",
        "# plt.savefig(\"log_MSE_loss_Heston_1mil_100_epochs.png\",dpi=1200)"
      ],
      "metadata": {
        "colab": {
          "base_uri": "https://localhost:8080/",
          "height": 328
        },
        "id": "EWVI8moXnJyY",
        "outputId": "fdffa5ec-c5ae-46cd-8d88-7dce33b270bd"
      },
      "execution_count": null,
      "outputs": [
        {
          "output_type": "execute_result",
          "data": {
            "text/plain": [
              "<matplotlib.legend.Legend at 0x7f51cc5f3910>"
            ]
          },
          "metadata": {},
          "execution_count": 53
        },
        {
          "output_type": "display_data",
          "data": {
            "text/plain": [
              "<Figure size 900x300 with 1 Axes>"
            ],
            "image/png": "[encoded data removed]"
          },
          "metadata": {}
        }
      ]
    },
    {
      "cell_type": "markdown",
      "source": [
        "SImilarely to before, we can plot the Heston prices computed by the model against the real ones given by `Heston_2` and `Heston`, and it is clear that the (in-sample) predictions of the model are decent."
      ],
      "metadata": {
        "id": "qy-HuKrM6DpH"
      }
    },
    {
      "cell_type": "code",
      "source": [
        "L = 50\n",
        "N = 1500\n",
        "S = 100\n",
        "K = np.arange(70,200,1)\n",
        "tau = 1\n",
        "r = 0.05\n",
        "sigma = 0.4\n",
        "volvol = 0.3\n",
        "v_bar = 0.2\n",
        "mrs = 1.5\n",
        "\n",
        "inputs = np.zeros((len(K),8))\n",
        "real = np.zeros((len(K)))\n",
        "real2 = np.zeros((len(K)))\n",
        "\n",
        "for i in range(len(K)):\n",
        "  inputs[i,:] = [S/K[i],tau,mrs,r,volvol,v_bar,rho,sigma]\n",
        "  real[i] = Heston(S,K[i],tau,mrs,r,volvol,v_bar,rho,sigma,L,N)\n",
        "  real2[i] = Heston_2(S,K[i],tau,mrs,r,volvol,v_bar,rho,sigma,L,N)\n",
        "\n",
        "inputs = torch.tensor(inputs).type(torch.float)\n",
        "\n",
        "model = Hest_ANN(inputs).detach().numpy()\n",
        "plt.plot(K,real,'r',label=\"Real Heston function\")\n",
        "plt.plot(K,real2,label=\"Real Heston 2 function\")\n",
        "plt.plot(K,model,'g',linestyle='dashed',label=\"Heston-ANN\")\n",
        "plt.xlabel(\"Strike K\")\n",
        "plt.ylabel(\"Price\")\n",
        "plt.legend()\n",
        "# plt.savefig(\"predictions_Heston_1mil_50_epochs.png\",dpi=1200)"
      ],
      "metadata": {
        "colab": {
          "base_uri": "https://localhost:8080/",
          "height": 466
        },
        "id": "K23l7e2kuPXF",
        "outputId": "6106b8aa-a731-4d66-8f47-a5d6fa81ca5d"
      },
      "execution_count": null,
      "outputs": [
        {
          "output_type": "execute_result",
          "data": {
            "text/plain": [
              "<matplotlib.legend.Legend at 0x7f51cc15a410>"
            ]
          },
          "metadata": {},
          "execution_count": 67
        },
        {
          "output_type": "display_data",
          "data": {
            "text/plain": [
              "<Figure size 640x480 with 1 Axes>"
            ],
            "image/png": "[encoded data removed]"
          },
          "metadata": {}
        }
      ]
    },
    {
      "cell_type": "markdown",
      "source": [
        "#Implied volatilities ANN\n",
        "\n",
        "\n",
        "---\n",
        "\n"
      ],
      "metadata": {
        "id": "4dDz0sDm9Yaj"
      }
    },
    {
      "cell_type": "markdown",
      "source": [
        "There are mutliple ways to go about learning the relationship between prices and implied volatilities. I chose to create my training data like this : use the Heston prices that are computed by `Heston_2` as my market prices, and then compute the implied volatilities using Brent's algorithm."
      ],
      "metadata": {
        "id": "7Q0nFDga7HWO"
      }
    },
    {
      "cell_type": "markdown",
      "source": [
        "The first model, and by far the worst, takes only one parameter; the Heston price. We proceed like before :"
      ],
      "metadata": {
        "id": "qSwdqHpZ7o4M"
      }
    },
    {
      "cell_type": "code",
      "source": [
        "class IV_ANN(nn.Module):\n",
        "  def __init__(self):\n",
        "    super().__init__()\n",
        "    self.linear_relu_stack = nn.Sequential(\n",
        "\n",
        "        nn.Linear(1,400),\n",
        "        nn.ReLU(),\n",
        "\n",
        "        nn.Linear(400,400),\n",
        "        nn.ReLU(),\n",
        "\n",
        "        nn.Linear(400,400),\n",
        "        nn.ReLU(),\n",
        "\n",
        "        nn.Linear(400,400),\n",
        "        nn.ReLU(),\n",
        "\n",
        "        nn.Linear(400,1),\n",
        "    )\n",
        "\n",
        "  def forward(self,x):\n",
        "    target = self.linear_relu_stack(x)\n",
        "    return target\n",
        "\n",
        "  def weights_init(self): # initializing parameters using glorot uniform unitialization\n",
        "    for module in self.modules():\n",
        "      if isinstance(module, nn.Linear):\n",
        "        nn.init.xavier_uniform_(module.weight)\n",
        "\n",
        "def train_loop(dataloader, model, loss_fn, optimizer):\n",
        "  for batch, (X,y) in enumerate(dataloader):\n",
        "    # forward compute\n",
        "    pred = model(X)\n",
        "    loss = loss_fn(pred,y.unsqueeze(1))\n",
        "\n",
        "    # backpropagation\n",
        "    optimizer.zero_grad()\n",
        "    loss.backward()\n",
        "    optimizer.step()"
      ],
      "metadata": {
        "id": "cQLeSG5U8Rcs"
      },
      "execution_count": null,
      "outputs": []
    },
    {
      "cell_type": "code",
      "source": [
        "H_data = torch.load(\"H_data.pt\") # H_data.pt contains the 1 million data points generated for the training of the Heston-ANN\n",
        "S = 100\n",
        "iv = np.zeros((len(H_data),1))\n",
        "\n",
        "for i in range(len(H_data)):\n",
        "  K, tau, r, Heston_price = S/H_data[i,0], H_data[i,1], H_data[i,3], H_data[i,-1]\n",
        "  iv[i,:] = implied_vol(S,K,tau,r,Heston_price)"
      ],
      "metadata": {
        "id": "KYkGjUjQq-Zf"
      },
      "execution_count": null,
      "outputs": []
    },
    {
      "cell_type": "code",
      "source": [
        "iv_data = np.zeros((len(iv),2))\n",
        "iv_data[:,1] = iv[:,0]\n",
        "iv_data[:,0] = H_data[:,-1].detach().numpy()\n",
        "iv_data = torch.tensor(iv_data).type(torch.float)\n",
        "# torch.save(iv_data, 'iv_data.pt')"
      ],
      "metadata": {
        "id": "Ok7TpD3iGMnU"
      },
      "execution_count": null,
      "outputs": []
    },
    {
      "cell_type": "code",
      "source": [
        "iv_ANN = IV_ANN()\n",
        "iv_ANN.weights_init()\n",
        "loss_function = nn.MSELoss()\n",
        "batch_size = 1000\n",
        "epochs = 60\n",
        "optimizer = torch.optim.Adam(iv_ANN.parameters(), lr=10e-4)\n",
        "scheduler = torch.optim.lr_scheduler.StepLR(optimizer, step_size=10, gamma=0.1)\n",
        "\n",
        "num_iv = len(iv_data)\n",
        "\n",
        "train_size = int(0.9*num_iv)\n",
        "X = iv_data[:,:-1] # inputs of the model : Heston prices\n",
        "Y = iv_data[:,-1] # outputs : BS implied volatility calculated with brent's method\n",
        "Xtrain, Xtest = X[:train_size,:], X[train_size:,:]\n",
        "Ytrain, Ytest = Y[:train_size], Y[train_size:]\n",
        "\n",
        "train_set = TensorDataset(Xtrain,Ytrain)\n",
        "train_dataloader = DataLoader(train_set, batch_size=batch_size)"
      ],
      "metadata": {
        "id": "1fB0VryT_J9o"
      },
      "execution_count": null,
      "outputs": []
    },
    {
      "cell_type": "code",
      "source": [
        "training_loss = []\n",
        "test_loss = []\n",
        "for epoch in tqdm(range(epochs)):\n",
        "  running_training_loss = train_loop(train_dataloader, iv_ANN, loss_function, optimizer)\n",
        "  running_test_loss = loss_function(iv_ANN(Xtest),Ytest.unsqueeze(1))\n",
        "  running_training_loss = loss_function(iv_ANN(Xtrain),Ytrain.unsqueeze(1))\n",
        "\n",
        "  if epoch%5==0:\n",
        "    print(\"Test loss :\", running_test_loss.detach().numpy())\n",
        "    print(\" Training loss :\", running_training_loss.detach().numpy())\n",
        "\n",
        "\n",
        "  test_loss.append(running_test_loss.detach().numpy())\n",
        "  training_loss.append(running_training_loss.detach().numpy())\n",
        "\n",
        "  scheduler.step()\n",
        "\n",
        "print(\"Done!\")"
      ],
      "metadata": {
        "colab": {
          "base_uri": "https://localhost:8080/"
        },
        "id": "0xvxYjEgckyZ",
        "outputId": "bf5c271a-eb57-4ab6-a0a1-c1a3f0e39083"
      },
      "execution_count": null,
      "outputs": [
        {
          "output_type": "stream",
          "name": "stderr",
          "text": [
            "  2%|▏         | 1/60 [01:39<1:37:32, 99.20s/it]"
          ]
        },
        {
          "output_type": "stream",
          "name": "stdout",
          "text": [
            "Test loss : 0.011224918\n",
            " Training loss : 0.011119721\n"
          ]
        },
        {
          "output_type": "stream",
          "name": "stderr",
          "text": [
            " 10%|█         | 6/60 [10:16<1:33:32, 103.93s/it]"
          ]
        },
        {
          "output_type": "stream",
          "name": "stdout",
          "text": [
            "Test loss : 0.011278517\n",
            " Training loss : 0.011154125\n"
          ]
        },
        {
          "output_type": "stream",
          "name": "stderr",
          "text": [
            " 18%|█▊        | 11/60 [18:44<1:23:18, 102.02s/it]"
          ]
        },
        {
          "output_type": "stream",
          "name": "stdout",
          "text": [
            "Test loss : 0.011163407\n",
            " Training loss : 0.011063045\n"
          ]
        },
        {
          "output_type": "stream",
          "name": "stderr",
          "text": [
            " 27%|██▋       | 16/60 [27:21<1:15:12, 102.55s/it]"
          ]
        },
        {
          "output_type": "stream",
          "name": "stdout",
          "text": [
            "Test loss : 0.011179931\n",
            " Training loss : 0.011081482\n"
          ]
        },
        {
          "output_type": "stream",
          "name": "stderr",
          "text": [
            " 35%|███▌      | 21/60 [35:48<1:06:04, 101.66s/it]"
          ]
        },
        {
          "output_type": "stream",
          "name": "stdout",
          "text": [
            "Test loss : 0.011081031\n",
            " Training loss : 0.010992861\n"
          ]
        },
        {
          "output_type": "stream",
          "name": "stderr",
          "text": [
            " 43%|████▎     | 26/60 [44:32<58:59, 104.11s/it]  "
          ]
        },
        {
          "output_type": "stream",
          "name": "stdout",
          "text": [
            "Test loss : 0.0110805025\n",
            " Training loss : 0.010992527\n"
          ]
        },
        {
          "output_type": "stream",
          "name": "stderr",
          "text": [
            " 52%|█████▏    | 31/60 [53:05<49:43, 102.87s/it]"
          ]
        },
        {
          "output_type": "stream",
          "name": "stdout",
          "text": [
            "Test loss : 0.011077589\n",
            " Training loss : 0.010990782\n"
          ]
        },
        {
          "output_type": "stream",
          "name": "stderr",
          "text": [
            " 60%|██████    | 36/60 [1:01:39<41:07, 102.80s/it]"
          ]
        },
        {
          "output_type": "stream",
          "name": "stdout",
          "text": [
            "Test loss : 0.011077414\n",
            " Training loss : 0.010990626\n"
          ]
        },
        {
          "output_type": "stream",
          "name": "stderr",
          "text": [
            " 68%|██████▊   | 41/60 [1:10:23<33:13, 104.90s/it]"
          ]
        },
        {
          "output_type": "stream",
          "name": "stdout",
          "text": [
            "Test loss : 0.011077115\n",
            " Training loss : 0.010990456\n"
          ]
        },
        {
          "output_type": "stream",
          "name": "stderr",
          "text": [
            " 77%|███████▋  | 46/60 [1:19:02<24:17, 104.08s/it]"
          ]
        },
        {
          "output_type": "stream",
          "name": "stdout",
          "text": [
            "Test loss : 0.01107701\n",
            " Training loss : 0.010990425\n"
          ]
        },
        {
          "output_type": "stream",
          "name": "stderr",
          "text": [
            " 85%|████████▌ | 51/60 [1:27:49<15:48, 105.43s/it]"
          ]
        },
        {
          "output_type": "stream",
          "name": "stdout",
          "text": [
            "Test loss : 0.011076996\n",
            " Training loss : 0.0109904185\n"
          ]
        },
        {
          "output_type": "stream",
          "name": "stderr",
          "text": [
            " 93%|█████████▎| 56/60 [1:36:46<07:08, 107.06s/it]"
          ]
        },
        {
          "output_type": "stream",
          "name": "stdout",
          "text": [
            "Test loss : 0.011077005\n",
            " Training loss : 0.0109904185\n"
          ]
        },
        {
          "output_type": "stream",
          "name": "stderr",
          "text": [
            "100%|██████████| 60/60 [1:44:02<00:00, 104.05s/it]"
          ]
        },
        {
          "output_type": "stream",
          "name": "stdout",
          "text": [
            "Done!\n"
          ]
        },
        {
          "output_type": "stream",
          "name": "stderr",
          "text": [
            "\n"
          ]
        }
      ]
    },
    {
      "cell_type": "markdown",
      "source": [
        "This model overfits quite a bit, and the loss is not great either."
      ],
      "metadata": {
        "id": "82_290nA8fLf"
      }
    },
    {
      "cell_type": "code",
      "source": [
        "# model = Heston_ANN()\n",
        "# model.load_state_dict(torch.load(\"Heston_ANN_1mil_100_epochs.pt\"))\n",
        "# model.eval()\n",
        "plt.figure(figsize=(9,3))\n",
        "plt.plot(np.arange(1,61,1),np.log(np.array(training_loss)),'r',label=\"Training loss\")\n",
        "plt.plot(np.arange(1,61,1),np.log(np.array(test_loss)),'b',linestyle='dashed',label=\"Test loss\")\n",
        "plt.xlabel(\"Epochs\")\n",
        "plt.ylabel(\"Log MSE loss\")\n",
        "plt.legend()\n",
        "plt.savefig(\"log_MSE_loss_IV_1mil_60_epochs.png\",dpi=1200)"
      ],
      "metadata": {
        "colab": {
          "base_uri": "https://localhost:8080/",
          "height": 311
        },
        "id": "JjqPJ1A8lO5A",
        "outputId": "fef6a222-db76-4b9c-853c-144f3fa2c7c3"
      },
      "execution_count": null,
      "outputs": [
        {
          "output_type": "display_data",
          "data": {
            "text/plain": [
              "<Figure size 900x300 with 1 Axes>"
            ],
            "image/png": "[encoded data removed]"
          },
          "metadata": {}
        }
      ]
    },
    {
      "cell_type": "markdown",
      "source": [
        "In fact, we will use this model to fit the volatility surface. We compute the volatility surface for fixed parameters except for maturity and moneyness, which we change to see the implied volatily curve."
      ],
      "metadata": {
        "id": "m7Azt2Kz8ovd"
      }
    },
    {
      "cell_type": "code",
      "source": [
        "S,mrs,r,volvol,v_bar,rho,sigma,L,N,a,b = 100, 1.5, 0.02, 0.3, 0.1, -0.05, 0.1, 50, 1500, -3, 5\n",
        "nbr = 15\n",
        "moneyness = np.linspace(0.7,1.3,nbr)\n",
        "time_to_maturities = np.linspace(0.5,1,nbr)\n",
        "\n",
        "prices = np.zeros((len(moneyness),len(time_to_maturities)))\n",
        "imp_vol = np.zeros((len(moneyness),len(time_to_maturities)))\n",
        "imp_vol_ann = np.zeros((len(moneyness),len(time_to_maturities)))\n",
        "\n",
        "\n",
        "X, Y = np.meshgrid(moneyness, time_to_maturities)\n",
        "\n",
        "for i in range(len(moneyness)):\n",
        "  K = S/moneyness[i]\n",
        "  for j in range(len(time_to_maturities)):\n",
        "    tau = time_to_maturities[j]\n",
        "    imp_vol[i,j] = implied_vol_(S,K,tau,mrs,r,volvol,v_bar,rho,sigma,L,N,a,b)\n",
        "    prices[i,j] = Heston_2(S,K,tau,mrs,r,volvol,v_bar,rho,sigma,L,N)\n",
        "    imp_vol_ann[i,j] = iv_ANN(torch.tensor(np.array([prices[i,j]])).type(torch.float))"
      ],
      "metadata": {
        "id": "rOoxUQvi_uyP"
      },
      "execution_count": null,
      "outputs": []
    },
    {
      "cell_type": "markdown",
      "source": [
        "### Implied volatilty surface computed by Brent's algorithm :"
      ],
      "metadata": {
        "id": "lneXA3OTNUkB"
      }
    },
    {
      "cell_type": "markdown",
      "source": [
        "First, we plot the surface using the implied volatilities computed by Brent's algorithm so we can see what it is supposed to look like."
      ],
      "metadata": {
        "id": "yUpDIcBfDafX"
      }
    },
    {
      "cell_type": "code",
      "source": [
        "import plotly.graph_objects as go\n",
        "fig = go.Figure(go.Surface(x=time_to_maturities,y=moneyness,z=imp_vol,opacity=0.9, colorscale='Viridis'))\n",
        "fig.update_layout(scene = dict(\n",
        "                    xaxis_title='Time to maturity',\n",
        "                    yaxis_title='Moneyness',\n",
        "                    zaxis_title='Brent implied volatility'),\n",
        "                    width=800,\n",
        "                    height = 700,\n",
        "                    # margin=dict(r=20, b=10, l=10, t=10)\n",
        "                    )\n",
        "fig.show()"
      ],
      "metadata": {
        "colab": {
          "base_uri": "https://localhost:8080/",
          "height": 717
        },
        "id": "sJURQDYmNSxx",
        "outputId": "5f5ec99c-5488-4278-91d5-8f72b512c635"
      },
      "execution_count": null,
      "outputs": [
        {
          "output_type": "display_data",
          "data": {
            "text/html": [
              "<html>\n",
              "<head><meta charset=\"utf-8\" /></head>\n",
              "<body>\n",
              "    <div>            <script src=\"https://cdnjs.cloudflare.com/ajax/libs/mathjax/2.7.5/MathJax.js?config=TeX-AMS-MML_SVG\"></script><script type=\"text/javascript\">if (window.MathJax && window.MathJax.Hub && window.MathJax.Hub.Config) {window.MathJax.Hub.Config({SVG: {font: \"STIX-Web\"}});}</script>                <script type=\"text/javascript\">window.PlotlyConfig = {MathJaxConfig: 'local'};</script>\n",
              "        <script src=\"https://cdn.plot.ly/plotly-2.18.2.min.js\"></script>                <div id=\"44085a51-5df4-4249-8ba5-cb00ab53cde9\" class=\"plotly-graph-div\" style=\"height:700px; width:800px;\"></div>            <script type=\"text/javascript\">                                    window.PLOTLYENV=window.PLOTLYENV || {};                                    if (document.getElementById(\"44085a51-5df4-4249-8ba5-cb00ab53cde9\")) {                    Plotly.newPlot(                        \"44085a51-5df4-4249-8ba5-cb00ab53cde9\",                        [{\"colorscale\":[[0.0,\"#440154\"],[0.1111111111111111,\"#482878\"],[0.2222222222222222,\"#3e4989\"],[0.3333333333333333,\"#31688e\"],[0.4444444444444444,\"#26828e\"],[0.5555555555555556,\"#1f9e89\"],[0.6666666666666666,\"#35b779\"],[0.7777777777777778,\"#6ece58\"],[0.8888888888888888,\"#b5de2b\"],[1.0,\"#fde725\"]],\"opacity\":0.9,\"x\":[0.5,0.5357142857142857,0.5714285714285714,0.6071428571428571,0.6428571428571428,0.6785714285714286,0.7142857142857143,0.75,0.7857142857142857,0.8214285714285714,0.8571428571428571,0.8928571428571428,0.9285714285714286,0.9642857142857142,1.0],\"y\":[0.7,0.7428571428571428,0.7857142857142857,0.8285714285714285,0.8714285714285714,0.9142857142857143,0.9571428571428571,1.0,1.042857142857143,1.0857142857142859,1.1285714285714286,1.1714285714285715,1.2142857142857144,1.2571428571428571,1.3],\"z\":[[0.3179054965356801,0.31746949843456695,0.31706575964881445,0.3166911290831781,0.3163430005601929,0.31601916869672925,0.31571773099786715,0.315437019763914,0.31517555369892786,0.31493200281914396,0.31470516251291325,0.31449393399884995,0.31429730933173655,0.31411435968270957,0.31394422601108657],[0.31596669018045825,0.31560063139721595,0.3152647381662858,0.3149558853988439,0.3146714859803427,0.3144093523086334,0.3141676015053551,0.31394458892513316,0.3137388604629192,0.3135491176102623,0.3133741913321115,0.313213022151093,0.3130646446813387,0.31292817538772666,0.31280280273448213],[0.3144895818046521,0.3141827527882307,0.3139040300457218,0.3136503361369885,0.31341912437254615,0.3132082454265266,0.31301585525949344,0.3128403499675971,0.312680318619537,0.31253450836434804,0.3124017981012138,0.3122811782087451,0.31217173465856385,0.31207263634385124,0.3119831248062833],[0.31344570420372564,0.3131863702031417,0.31295324563520105,0.3127433192089319,0.312554101711785,0.312383497310326,0.31222971399081806,0.31209119968803184,0.311966595667569,0.31185470177492425,0.31175445000661234,0.31166488402933545,0.311585143033718,0.311514448788877,0.3114520951115891],[0.3128028609104356,0.31257876516509264,0.3123792612288751,0.31220141577850846,0.31204280680479374,0.3119013994441778,0.3117754589677849,0.3116634882934622,0.3115641820935302,0.3114763923739099,0.31139910215751826,0.311331404998059,0.31127248876588665,0.31122162261709707,0.3111781463713164],[0.312525354505082,0.3123242962235697,0.312146575809951,0.311989341797902,0.31185024113591775,0.31172729957564715,0.31161883735991075,0.31152340834814474,0.3114397550796222,0.31136677492936254,0.31130349412916647,0.3112490474846459,0.3112026622837484,0.3111636453436188,0.3111313724439151],[0.312574911805389,0.3123853042071586,0.31221818392855333,0.31207077852506004,0.31194079930569585,0.3118263263799038,0.31172572724909253,0.31163759777871625,0.31156071846519495,0.3114940213898202,0.31143656478209475,0.3113875131222908,0.3113461213267035,0.3113117219988333,0.3112837150296297],[0.3129120392920545,0.31272336488493463,0.3125567249039601,0.3124094190666434,0.3122792149565112,0.3121642378141813,0.31206289220327116,0.3119738050310982,0.31189578321705275,0.3118277816274246,0.3117688783491358,0.31171825531318925,0.3116751828670773,0.31163900733796734,0.3116091408666774],[0.3134975047076538,0.31330061826176253,0.31312566899603006,0.31297002079404634,0.31283148880282163,0.31270823397664604,0.31259868792258294,0.3125014980998941,0.31241548703290106,0.3123396213617738,0.312272987943209,0.31221477509309703,0.3121642576435876,0.31212078487454187,0.31208377064342524],[0.3142936829075868,0.31408095202251585,0.3138903526553812,0.3137193058170972,0.3135656668914455,0.3134276248438182,0.31330363025121266,0.3131923427506531,0.3130925918730569,0.31300334729508317,0.31292369584581625,0.3128528234442776,0.312790000697321,0.3127345712567791,0.31268594228324764],[0.3152655976720122,0.31503090240768244,0.31481875264731374,0.314626621439935,0.3144523993708639,0.314294298251276,0.3141507822646307,0.3140205176489185,0.3139023351803692,0.313795201661699,0.31369819788172904,0.31361050129375667,0.31353137219686383,0.31346014255641097,0.3133962068421665],[0.3163815950533282,0.31612022497373043,0.3158819651440839,0.3156643375645795,0.3154652652844245,0.31528298030780244,0.31511595771293033,0.3149628674979619,0.3148225386799416,0.3146939320243005,0.3145761189669651,0.3144682650581143,0.3143696167471524,0.3142794907008429,0.3141972650346875],[0.3176136661738107,0.31732215612904957,0.31705441254082406,0.31680800480706117,0.3165808874913655,0.3163713121234455,0.31617776409095927,0.3159989165278924,0.3158335959615144,0.3156807562391076,0.31553945839989395,0.31540885487673154,0.3152881769039295,0.31517672433342897,0.3150738572829031],[0.31893748534513167,0.3186134251908044,0.31831383212158765,0.3180363222884222,0.31777888193028037,0.31753978272171607,0.3173175212074479,0.3171107745777334,0.3169183677548369,0.31673924845492973,0.31657246796253613,0.3164171660721767,0.3162725591017453,0.31613793021211095,0.3160126214771063],[0.3203322458701783,0.31997408946904443,0.3196411104004623,0.3193309712752076,0.31904169066437954,0.31877156165142384,0.31851909356105085,0.3182829694475304,0.3180620144983751,0.31785517213730596,0.3176614856461277,0.3174800837970204,0.3173101694507189,0.31715101036255705,0.3170019316672488]],\"type\":\"surface\"}],                        {\"template\":{\"data\":{\"histogram2dcontour\":[{\"type\":\"histogram2dcontour\",\"colorbar\":{\"outlinewidth\":0,\"ticks\":\"\"},\"colorscale\":[[0.0,\"#0d0887\"],[0.1111111111111111,\"#46039f\"],[0.2222222222222222,\"#7201a8\"],[0.3333333333333333,\"#9c179e\"],[0.4444444444444444,\"#bd3786\"],[0.5555555555555556,\"#d8576b\"],[0.6666666666666666,\"#ed7953\"],[0.7777777777777778,\"#fb9f3a\"],[0.8888888888888888,\"#fdca26\"],[1.0,\"#f0f921\"]]}],\"choropleth\":[{\"type\":\"choropleth\",\"colorbar\":{\"outlinewidth\":0,\"ticks\":\"\"}}],\"histogram2d\":[{\"type\":\"histogram2d\",\"colorbar\":{\"outlinewidth\":0,\"ticks\":\"\"},\"colorscale\":[[0.0,\"#0d0887\"],[0.1111111111111111,\"#46039f\"],[0.2222222222222222,\"#7201a8\"],[0.3333333333333333,\"#9c179e\"],[0.4444444444444444,\"#bd3786\"],[0.5555555555555556,\"#d8576b\"],[0.6666666666666666,\"#ed7953\"],[0.7777777777777778,\"#fb9f3a\"],[0.8888888888888888,\"#fdca26\"],[1.0,\"#f0f921\"]]}],\"heatmap\":[{\"type\":\"heatmap\",\"colorbar\":{\"outlinewidth\":0,\"ticks\":\"\"},\"colorscale\":[[0.0,\"#0d0887\"],[0.1111111111111111,\"#46039f\"],[0.2222222222222222,\"#7201a8\"],[0.3333333333333333,\"#9c179e\"],[0.4444444444444444,\"#bd3786\"],[0.5555555555555556,\"#d8576b\"],[0.6666666666666666,\"#ed7953\"],[0.7777777777777778,\"#fb9f3a\"],[0.8888888888888888,\"#fdca26\"],[1.0,\"#f0f921\"]]}],\"heatmapgl\":[{\"type\":\"heatmapgl\",\"colorbar\":{\"outlinewidth\":0,\"ticks\":\"\"},\"colorscale\":[[0.0,\"#0d0887\"],[0.1111111111111111,\"#46039f\"],[0.2222222222222222,\"#7201a8\"],[0.3333333333333333,\"#9c179e\"],[0.4444444444444444,\"#bd3786\"],[0.5555555555555556,\"#d8576b\"],[0.6666666666666666,\"#ed7953\"],[0.7777777777777778,\"#fb9f3a\"],[0.8888888888888888,\"#fdca26\"],[1.0,\"#f0f921\"]]}],\"contourcarpet\":[{\"type\":\"contourcarpet\",\"colorbar\":{\"outlinewidth\":0,\"ticks\":\"\"}}],\"contour\":[{\"type\":\"contour\",\"colorbar\":{\"outlinewidth\":0,\"ticks\":\"\"},\"colorscale\":[[0.0,\"#0d0887\"],[0.1111111111111111,\"#46039f\"],[0.2222222222222222,\"#7201a8\"],[0.3333333333333333,\"#9c179e\"],[0.4444444444444444,\"#bd3786\"],[0.5555555555555556,\"#d8576b\"],[0.6666666666666666,\"#ed7953\"],[0.7777777777777778,\"#fb9f3a\"],[0.8888888888888888,\"#fdca26\"],[1.0,\"#f0f921\"]]}],\"surface\":[{\"type\":\"surface\",\"colorbar\":{\"outlinewidth\":0,\"ticks\":\"\"},\"colorscale\":[[0.0,\"#0d0887\"],[0.1111111111111111,\"#46039f\"],[0.2222222222222222,\"#7201a8\"],[0.3333333333333333,\"#9c179e\"],[0.4444444444444444,\"#bd3786\"],[0.5555555555555556,\"#d8576b\"],[0.6666666666666666,\"#ed7953\"],[0.7777777777777778,\"#fb9f3a\"],[0.8888888888888888,\"#fdca26\"],[1.0,\"#f0f921\"]]}],\"mesh3d\":[{\"type\":\"mesh3d\",\"colorbar\":{\"outlinewidth\":0,\"ticks\":\"\"}}],\"scatter\":[{\"fillpattern\":{\"fillmode\":\"overlay\",\"size\":10,\"solidity\":0.2},\"type\":\"scatter\"}],\"parcoords\":[{\"type\":\"parcoords\",\"line\":{\"colorbar\":{\"outlinewidth\":0,\"ticks\":\"\"}}}],\"scatterpolargl\":[{\"type\":\"scatterpolargl\",\"marker\":{\"colorbar\":{\"outlinewidth\":0,\"ticks\":\"\"}}}],\"bar\":[{\"error_x\":{\"color\":\"#2a3f5f\"},\"error_y\":{\"color\":\"#2a3f5f\"},\"marker\":{\"line\":{\"color\":\"#E5ECF6\",\"width\":0.5},\"pattern\":{\"fillmode\":\"overlay\",\"size\":10,\"solidity\":0.2}},\"type\":\"bar\"}],\"scattergeo\":[{\"type\":\"scattergeo\",\"marker\":{\"colorbar\":{\"outlinewidth\":0,\"ticks\":\"\"}}}],\"scatterpolar\":[{\"type\":\"scatterpolar\",\"marker\":{\"colorbar\":{\"outlinewidth\":0,\"ticks\":\"\"}}}],\"histogram\":[{\"marker\":{\"pattern\":{\"fillmode\":\"overlay\",\"size\":10,\"solidity\":0.2}},\"type\":\"histogram\"}],\"scattergl\":[{\"type\":\"scattergl\",\"marker\":{\"colorbar\":{\"outlinewidth\":0,\"ticks\":\"\"}}}],\"scatter3d\":[{\"type\":\"scatter3d\",\"line\":{\"colorbar\":{\"outlinewidth\":0,\"ticks\":\"\"}},\"marker\":{\"colorbar\":{\"outlinewidth\":0,\"ticks\":\"\"}}}],\"scattermapbox\":[{\"type\":\"scattermapbox\",\"marker\":{\"colorbar\":{\"outlinewidth\":0,\"ticks\":\"\"}}}],\"scatterternary\":[{\"type\":\"scatterternary\",\"marker\":{\"colorbar\":{\"outlinewidth\":0,\"ticks\":\"\"}}}],\"scattercarpet\":[{\"type\":\"scattercarpet\",\"marker\":{\"colorbar\":{\"outlinewidth\":0,\"ticks\":\"\"}}}],\"carpet\":[{\"aaxis\":{\"endlinecolor\":\"#2a3f5f\",\"gridcolor\":\"white\",\"linecolor\":\"white\",\"minorgridcolor\":\"white\",\"startlinecolor\":\"#2a3f5f\"},\"baxis\":{\"endlinecolor\":\"#2a3f5f\",\"gridcolor\":\"white\",\"linecolor\":\"white\",\"minorgridcolor\":\"white\",\"startlinecolor\":\"#2a3f5f\"},\"type\":\"carpet\"}],\"table\":[{\"cells\":{\"fill\":{\"color\":\"#EBF0F8\"},\"line\":{\"color\":\"white\"}},\"header\":{\"fill\":{\"color\":\"#C8D4E3\"},\"line\":{\"color\":\"white\"}},\"type\":\"table\"}],\"barpolar\":[{\"marker\":{\"line\":{\"color\":\"#E5ECF6\",\"width\":0.5},\"pattern\":{\"fillmode\":\"overlay\",\"size\":10,\"solidity\":0.2}},\"type\":\"barpolar\"}],\"pie\":[{\"automargin\":true,\"type\":\"pie\"}]},\"layout\":{\"autotypenumbers\":\"strict\",\"colorway\":[\"#636efa\",\"#EF553B\",\"#00cc96\",\"#ab63fa\",\"#FFA15A\",\"#19d3f3\",\"#FF6692\",\"#B6E880\",\"#FF97FF\",\"#FECB52\"],\"font\":{\"color\":\"#2a3f5f\"},\"hovermode\":\"closest\",\"hoverlabel\":{\"align\":\"left\"},\"paper_bgcolor\":\"white\",\"plot_bgcolor\":\"#E5ECF6\",\"polar\":{\"bgcolor\":\"#E5ECF6\",\"angularaxis\":{\"gridcolor\":\"white\",\"linecolor\":\"white\",\"ticks\":\"\"},\"radialaxis\":{\"gridcolor\":\"white\",\"linecolor\":\"white\",\"ticks\":\"\"}},\"ternary\":{\"bgcolor\":\"#E5ECF6\",\"aaxis\":{\"gridcolor\":\"white\",\"linecolor\":\"white\",\"ticks\":\"\"},\"baxis\":{\"gridcolor\":\"white\",\"linecolor\":\"white\",\"ticks\":\"\"},\"caxis\":{\"gridcolor\":\"white\",\"linecolor\":\"white\",\"ticks\":\"\"}},\"coloraxis\":{\"colorbar\":{\"outlinewidth\":0,\"ticks\":\"\"}},\"colorscale\":{\"sequential\":[[0.0,\"#0d0887\"],[0.1111111111111111,\"#46039f\"],[0.2222222222222222,\"#7201a8\"],[0.3333333333333333,\"#9c179e\"],[0.4444444444444444,\"#bd3786\"],[0.5555555555555556,\"#d8576b\"],[0.6666666666666666,\"#ed7953\"],[0.7777777777777778,\"#fb9f3a\"],[0.8888888888888888,\"#fdca26\"],[1.0,\"#f0f921\"]],\"sequentialminus\":[[0.0,\"#0d0887\"],[0.1111111111111111,\"#46039f\"],[0.2222222222222222,\"#7201a8\"],[0.3333333333333333,\"#9c179e\"],[0.4444444444444444,\"#bd3786\"],[0.5555555555555556,\"#d8576b\"],[0.6666666666666666,\"#ed7953\"],[0.7777777777777778,\"#fb9f3a\"],[0.8888888888888888,\"#fdca26\"],[1.0,\"#f0f921\"]],\"diverging\":[[0,\"#8e0152\"],[0.1,\"#c51b7d\"],[0.2,\"#de77ae\"],[0.3,\"#f1b6da\"],[0.4,\"#fde0ef\"],[0.5,\"#f7f7f7\"],[0.6,\"#e6f5d0\"],[0.7,\"#b8e186\"],[0.8,\"#7fbc41\"],[0.9,\"#4d9221\"],[1,\"#276419\"]]},\"xaxis\":{\"gridcolor\":\"white\",\"linecolor\":\"white\",\"ticks\":\"\",\"title\":{\"standoff\":15},\"zerolinecolor\":\"white\",\"automargin\":true,\"zerolinewidth\":2},\"yaxis\":{\"gridcolor\":\"white\",\"linecolor\":\"white\",\"ticks\":\"\",\"title\":{\"standoff\":15},\"zerolinecolor\":\"white\",\"automargin\":true,\"zerolinewidth\":2},\"scene\":{\"xaxis\":{\"backgroundcolor\":\"#E5ECF6\",\"gridcolor\":\"white\",\"linecolor\":\"white\",\"showbackground\":true,\"ticks\":\"\",\"zerolinecolor\":\"white\",\"gridwidth\":2},\"yaxis\":{\"backgroundcolor\":\"#E5ECF6\",\"gridcolor\":\"white\",\"linecolor\":\"white\",\"showbackground\":true,\"ticks\":\"\",\"zerolinecolor\":\"white\",\"gridwidth\":2},\"zaxis\":{\"backgroundcolor\":\"#E5ECF6\",\"gridcolor\":\"white\",\"linecolor\":\"white\",\"showbackground\":true,\"ticks\":\"\",\"zerolinecolor\":\"white\",\"gridwidth\":2}},\"shapedefaults\":{\"line\":{\"color\":\"#2a3f5f\"}},\"annotationdefaults\":{\"arrowcolor\":\"#2a3f5f\",\"arrowhead\":0,\"arrowwidth\":1},\"geo\":{\"bgcolor\":\"white\",\"landcolor\":\"#E5ECF6\",\"subunitcolor\":\"white\",\"showland\":true,\"showlakes\":true,\"lakecolor\":\"white\"},\"title\":{\"x\":0.05},\"mapbox\":{\"style\":\"light\"}}},\"scene\":{\"xaxis\":{\"title\":{\"text\":\"Time to maturity\"}},\"yaxis\":{\"title\":{\"text\":\"Moneyness\"}},\"zaxis\":{\"title\":{\"text\":\"Brent implied volatility\"}}},\"width\":800,\"height\":700},                        {\"responsive\": true}                    ).then(function(){\n",
              "                            \n",
              "var gd = document.getElementById('44085a51-5df4-4249-8ba5-cb00ab53cde9');\n",
              "var x = new MutationObserver(function (mutations, observer) {{\n",
              "        var display = window.getComputedStyle(gd).display;\n",
              "        if (!display || display === 'none') {{\n",
              "            console.log([gd, 'removed!']);\n",
              "            Plotly.purge(gd);\n",
              "            observer.disconnect();\n",
              "        }}\n",
              "}});\n",
              "\n",
              "// Listen for the removal of the full notebook cells\n",
              "var notebookContainer = gd.closest('#notebook-container');\n",
              "if (notebookContainer) {{\n",
              "    x.observe(notebookContainer, {childList: true});\n",
              "}}\n",
              "\n",
              "// Listen for the clearing of the current output cell\n",
              "var outputEl = gd.closest('.output');\n",
              "if (outputEl) {{\n",
              "    x.observe(outputEl, {childList: true});\n",
              "}}\n",
              "\n",
              "                        })                };                            </script>        </div>\n",
              "</body>\n",
              "</html>"
            ]
          },
          "metadata": {}
        }
      ]
    },
    {
      "cell_type": "markdown",
      "source": [
        "### Implied volatility surface using the ANN..."
      ],
      "metadata": {
        "id": "oCAleK8lLtDM"
      }
    },
    {
      "cell_type": "code",
      "source": [
        "import plotly.graph_objects as go\n",
        "fig = go.Figure(go.Surface(x=time_to_maturities,y=moneyness,z=imp_vol_ann,opacity=0.9, colorscale='Viridis'))\n",
        "fig.update_layout(scene = dict(\n",
        "                    xaxis_title='Time to maturity',\n",
        "                    yaxis_title='Moneyness',\n",
        "                    zaxis_title='ANN implied volatility'),\n",
        "                    width=800,\n",
        "                    height = 700,\n",
        "                    # margin=dict(r=20, b=10, l=10, t=10)\n",
        "                    )\n",
        "fig.show()"
      ],
      "metadata": {
        "colab": {
          "base_uri": "https://localhost:8080/",
          "height": 717
        },
        "id": "70Or6OkkBp4o",
        "outputId": "84d6d550-1634-49d1-ba9d-439060e4c58e"
      },
      "execution_count": null,
      "outputs": [
        {
          "output_type": "display_data",
          "data": {
            "text/html": [
              "<html>\n",
              "<head><meta charset=\"utf-8\" /></head>\n",
              "<body>\n",
              "    <div>            <script src=\"https://cdnjs.cloudflare.com/ajax/libs/mathjax/2.7.5/MathJax.js?config=TeX-AMS-MML_SVG\"></script><script type=\"text/javascript\">if (window.MathJax && window.MathJax.Hub && window.MathJax.Hub.Config) {window.MathJax.Hub.Config({SVG: {font: \"STIX-Web\"}});}</script>                <script type=\"text/javascript\">window.PlotlyConfig = {MathJaxConfig: 'local'};</script>\n",
              "        <script src=\"https://cdn.plot.ly/plotly-2.18.2.min.js\"></script>                <div id=\"dc8d281d-1e8f-4fa5-84e8-61b896aa99a7\" class=\"plotly-graph-div\" style=\"height:700px; width:800px;\"></div>            <script type=\"text/javascript\">                                    window.PLOTLYENV=window.PLOTLYENV || {};                                    if (document.getElementById(\"dc8d281d-1e8f-4fa5-84e8-61b896aa99a7\")) {                    Plotly.newPlot(                        \"dc8d281d-1e8f-4fa5-84e8-61b896aa99a7\",                        [{\"colorscale\":[[0.0,\"#440154\"],[0.1111111111111111,\"#482878\"],[0.2222222222222222,\"#3e4989\"],[0.3333333333333333,\"#31688e\"],[0.4444444444444444,\"#26828e\"],[0.5555555555555556,\"#1f9e89\"],[0.6666666666666666,\"#35b779\"],[0.7777777777777778,\"#6ece58\"],[0.8888888888888888,\"#b5de2b\"],[1.0,\"#fde725\"]],\"opacity\":0.9,\"x\":[0.5,0.5357142857142857,0.5714285714285714,0.6071428571428571,0.6428571428571428,0.6785714285714286,0.7142857142857143,0.75,0.7857142857142857,0.8214285714285714,0.8571428571428571,0.8928571428571428,0.9285714285714286,0.9642857142857142,1.0],\"y\":[0.7,0.7428571428571428,0.7857142857142857,0.8285714285714285,0.8714285714285714,0.9142857142857143,0.9571428571428571,1.0,1.042857142857143,1.0857142857142859,1.1285714285714286,1.1714285714285715,1.2142857142857144,1.2571428571428571,1.3],\"z\":[[0.42139503359794617,0.42430293560028076,0.4272909164428711,0.4296216368675232,0.43160590529441833,0.43365103006362915,0.43543413281440735,0.4369264245033264,0.43843045830726624,0.4399372339248657,0.4412248432636261,0.4425319731235504,0.4438091516494751,0.44505539536476135,0.44630157947540283],[0.4314897656440735,0.43396732211112976,0.43596377968788147,0.43775442242622375,0.43957051634788513,0.4411372244358063,0.44268035888671875,0.4441758096218109,0.445639967918396,0.44712015986442566,0.4486667811870575,0.45023050904273987,0.45179277658462524,0.4533331096172333,0.455037385225296],[0.43992379307746887,0.4417766332626343,0.4436083137989044,0.44536444544792175,0.44712480902671814,0.448960542678833,0.45080408453941345,0.4526352286338806,0.45454689860343933,0.45649775862693787,0.4583835303783417,0.4602343738079071,0.4619200527667999,0.46351590752601624,0.46508628129959106],[0.44805416464805603,0.4502829313278198,0.4524866044521332,0.4547663927078247,0.4570598602294922,0.45927903056144714,0.4613555371761322,0.4632342457771301,0.46506842970848083,0.4665983021259308,0.4680579602718353,0.4695175588130951,0.47090622782707214,0.47216126322746277,0.47337284684181213],[0.458964079618454,0.4614727199077606,0.46371206641197205,0.46580907702445984,0.467511385679245,0.46923258900642395,0.47087231278419495,0.4723295271396637,0.4737400710582733,0.4751557409763336,0.4765211045742035,0.4778555929660797,0.479124516248703,0.4803391098976135,0.48150208592414856],[0.4696631133556366,0.47155001759529114,0.473229318857193,0.47490909695625305,0.4765206277370453,0.478081077337265,0.4795328378677368,0.4809128940105438,0.4822351634502411,0.48352429270744324,0.48471349477767944,0.48583993315696716,0.48694318532943726,0.48802366852760315,0.489081472158432],[0.4791070520877838,0.480767160654068,0.48233017325401306,0.48381832242012024,0.4851807653903961,0.4864768385887146,0.4877322316169739,0.48895779252052307,0.4900566637516022,0.4911293089389801,0.49215278029441833,0.4931584298610687,0.494139701128006,0.4950958788394928,0.49603813886642456],[0.48798778653144836,0.489386647939682,0.49065443873405457,0.49186280369758606,0.49302926659584045,0.49415871500968933,0.49525150656700134,0.4963202178478241,0.4973658621311188,0.4983900785446167,0.4993942081928253,0.5003759860992432,0.5013145804405212,0.5020103454589844,0.5025531649589539],[0.49607720971107483,0.4972943961620331,0.49847540259361267,0.49962344765663147,0.5007345080375671,0.5017011165618896,0.5023689866065979,0.5029169321060181,0.5034191012382507,0.5039077997207642,0.5043830275535583,0.5048242211341858,0.5052316784858704,0.5056321024894714,0.506026029586792],[0.5031192898750305,0.5036810636520386,0.504226565361023,0.5047350525856018,0.5051983594894409,0.5056465864181519,0.5060849785804749,0.5065133571624756,0.506931483745575,0.5073115229606628,0.5076189637184143,0.5078942179679871,0.5081535577774048,0.5084086656570435,0.5086597800254822],[0.506963849067688,0.5073752403259277,0.5077062845230103,0.5079994797706604,0.5082831382751465,0.5085609555244446,0.5088334679603577,0.5090863108634949,0.509307861328125,0.5095255374908447,0.5097395777702332,0.5099515318870544,0.5101678967475891,0.5104139447212219,0.5106662511825562],[0.5094861388206482,0.5097180008888245,0.509946882724762,0.5101819634437561,0.5104467868804932,0.5107192397117615,0.5109872221946716,0.5112510323524475,0.5115111470222473,0.5117617249488831,0.5119999051094055,0.5122347474098206,0.5124664306640625,0.5126950740814209,0.5129082798957825],[0.5119069218635559,0.5121535658836365,0.512397289276123,0.5126379132270813,0.5128686428070068,0.5130584239959717,0.5132378935813904,0.5134150981903076,0.5135956406593323,0.5137953162193298,0.5139904618263245,0.5141833424568176,0.5143739581108093,0.5145624876022339,0.5147489309310913],[0.5140755772590637,0.5142685174942017,0.5144604444503784,0.5146510601043701,0.5148402452468872,0.5150279402732849,0.5152117609977722,0.5153513550758362,0.5154794454574585,0.5156064033508301,0.5157322883605957,0.5158569812774658,0.5159805417060852,0.5160917043685913,0.5162001252174377],[0.5158945918083191,0.516011655330658,0.516118049621582,0.5162243843078613,0.5163522958755493,0.5164831876754761,0.5166136026382446,0.5167433023452759,0.5168722867965698,0.5170006155967712,0.5171279311180115,0.5172543525695801,0.517379879951477,0.5175033807754517,0.5176010727882385]],\"type\":\"surface\"}],                        {\"template\":{\"data\":{\"histogram2dcontour\":[{\"type\":\"histogram2dcontour\",\"colorbar\":{\"outlinewidth\":0,\"ticks\":\"\"},\"colorscale\":[[0.0,\"#0d0887\"],[0.1111111111111111,\"#46039f\"],[0.2222222222222222,\"#7201a8\"],[0.3333333333333333,\"#9c179e\"],[0.4444444444444444,\"#bd3786\"],[0.5555555555555556,\"#d8576b\"],[0.6666666666666666,\"#ed7953\"],[0.7777777777777778,\"#fb9f3a\"],[0.8888888888888888,\"#fdca26\"],[1.0,\"#f0f921\"]]}],\"choropleth\":[{\"type\":\"choropleth\",\"colorbar\":{\"outlinewidth\":0,\"ticks\":\"\"}}],\"histogram2d\":[{\"type\":\"histogram2d\",\"colorbar\":{\"outlinewidth\":0,\"ticks\":\"\"},\"colorscale\":[[0.0,\"#0d0887\"],[0.1111111111111111,\"#46039f\"],[0.2222222222222222,\"#7201a8\"],[0.3333333333333333,\"#9c179e\"],[0.4444444444444444,\"#bd3786\"],[0.5555555555555556,\"#d8576b\"],[0.6666666666666666,\"#ed7953\"],[0.7777777777777778,\"#fb9f3a\"],[0.8888888888888888,\"#fdca26\"],[1.0,\"#f0f921\"]]}],\"heatmap\":[{\"type\":\"heatmap\",\"colorbar\":{\"outlinewidth\":0,\"ticks\":\"\"},\"colorscale\":[[0.0,\"#0d0887\"],[0.1111111111111111,\"#46039f\"],[0.2222222222222222,\"#7201a8\"],[0.3333333333333333,\"#9c179e\"],[0.4444444444444444,\"#bd3786\"],[0.5555555555555556,\"#d8576b\"],[0.6666666666666666,\"#ed7953\"],[0.7777777777777778,\"#fb9f3a\"],[0.8888888888888888,\"#fdca26\"],[1.0,\"#f0f921\"]]}],\"heatmapgl\":[{\"type\":\"heatmapgl\",\"colorbar\":{\"outlinewidth\":0,\"ticks\":\"\"},\"colorscale\":[[0.0,\"#0d0887\"],[0.1111111111111111,\"#46039f\"],[0.2222222222222222,\"#7201a8\"],[0.3333333333333333,\"#9c179e\"],[0.4444444444444444,\"#bd3786\"],[0.5555555555555556,\"#d8576b\"],[0.6666666666666666,\"#ed7953\"],[0.7777777777777778,\"#fb9f3a\"],[0.8888888888888888,\"#fdca26\"],[1.0,\"#f0f921\"]]}],\"contourcarpet\":[{\"type\":\"contourcarpet\",\"colorbar\":{\"outlinewidth\":0,\"ticks\":\"\"}}],\"contour\":[{\"type\":\"contour\",\"colorbar\":{\"outlinewidth\":0,\"ticks\":\"\"},\"colorscale\":[[0.0,\"#0d0887\"],[0.1111111111111111,\"#46039f\"],[0.2222222222222222,\"#7201a8\"],[0.3333333333333333,\"#9c179e\"],[0.4444444444444444,\"#bd3786\"],[0.5555555555555556,\"#d8576b\"],[0.6666666666666666,\"#ed7953\"],[0.7777777777777778,\"#fb9f3a\"],[0.8888888888888888,\"#fdca26\"],[1.0,\"#f0f921\"]]}],\"surface\":[{\"type\":\"surface\",\"colorbar\":{\"outlinewidth\":0,\"ticks\":\"\"},\"colorscale\":[[0.0,\"#0d0887\"],[0.1111111111111111,\"#46039f\"],[0.2222222222222222,\"#7201a8\"],[0.3333333333333333,\"#9c179e\"],[0.4444444444444444,\"#bd3786\"],[0.5555555555555556,\"#d8576b\"],[0.6666666666666666,\"#ed7953\"],[0.7777777777777778,\"#fb9f3a\"],[0.8888888888888888,\"#fdca26\"],[1.0,\"#f0f921\"]]}],\"mesh3d\":[{\"type\":\"mesh3d\",\"colorbar\":{\"outlinewidth\":0,\"ticks\":\"\"}}],\"scatter\":[{\"fillpattern\":{\"fillmode\":\"overlay\",\"size\":10,\"solidity\":0.2},\"type\":\"scatter\"}],\"parcoords\":[{\"type\":\"parcoords\",\"line\":{\"colorbar\":{\"outlinewidth\":0,\"ticks\":\"\"}}}],\"scatterpolargl\":[{\"type\":\"scatterpolargl\",\"marker\":{\"colorbar\":{\"outlinewidth\":0,\"ticks\":\"\"}}}],\"bar\":[{\"error_x\":{\"color\":\"#2a3f5f\"},\"error_y\":{\"color\":\"#2a3f5f\"},\"marker\":{\"line\":{\"color\":\"#E5ECF6\",\"width\":0.5},\"pattern\":{\"fillmode\":\"overlay\",\"size\":10,\"solidity\":0.2}},\"type\":\"bar\"}],\"scattergeo\":[{\"type\":\"scattergeo\",\"marker\":{\"colorbar\":{\"outlinewidth\":0,\"ticks\":\"\"}}}],\"scatterpolar\":[{\"type\":\"scatterpolar\",\"marker\":{\"colorbar\":{\"outlinewidth\":0,\"ticks\":\"\"}}}],\"histogram\":[{\"marker\":{\"pattern\":{\"fillmode\":\"overlay\",\"size\":10,\"solidity\":0.2}},\"type\":\"histogram\"}],\"scattergl\":[{\"type\":\"scattergl\",\"marker\":{\"colorbar\":{\"outlinewidth\":0,\"ticks\":\"\"}}}],\"scatter3d\":[{\"type\":\"scatter3d\",\"line\":{\"colorbar\":{\"outlinewidth\":0,\"ticks\":\"\"}},\"marker\":{\"colorbar\":{\"outlinewidth\":0,\"ticks\":\"\"}}}],\"scattermapbox\":[{\"type\":\"scattermapbox\",\"marker\":{\"colorbar\":{\"outlinewidth\":0,\"ticks\":\"\"}}}],\"scatterternary\":[{\"type\":\"scatterternary\",\"marker\":{\"colorbar\":{\"outlinewidth\":0,\"ticks\":\"\"}}}],\"scattercarpet\":[{\"type\":\"scattercarpet\",\"marker\":{\"colorbar\":{\"outlinewidth\":0,\"ticks\":\"\"}}}],\"carpet\":[{\"aaxis\":{\"endlinecolor\":\"#2a3f5f\",\"gridcolor\":\"white\",\"linecolor\":\"white\",\"minorgridcolor\":\"white\",\"startlinecolor\":\"#2a3f5f\"},\"baxis\":{\"endlinecolor\":\"#2a3f5f\",\"gridcolor\":\"white\",\"linecolor\":\"white\",\"minorgridcolor\":\"white\",\"startlinecolor\":\"#2a3f5f\"},\"type\":\"carpet\"}],\"table\":[{\"cells\":{\"fill\":{\"color\":\"#EBF0F8\"},\"line\":{\"color\":\"white\"}},\"header\":{\"fill\":{\"color\":\"#C8D4E3\"},\"line\":{\"color\":\"white\"}},\"type\":\"table\"}],\"barpolar\":[{\"marker\":{\"line\":{\"color\":\"#E5ECF6\",\"width\":0.5},\"pattern\":{\"fillmode\":\"overlay\",\"size\":10,\"solidity\":0.2}},\"type\":\"barpolar\"}],\"pie\":[{\"automargin\":true,\"type\":\"pie\"}]},\"layout\":{\"autotypenumbers\":\"strict\",\"colorway\":[\"#636efa\",\"#EF553B\",\"#00cc96\",\"#ab63fa\",\"#FFA15A\",\"#19d3f3\",\"#FF6692\",\"#B6E880\",\"#FF97FF\",\"#FECB52\"],\"font\":{\"color\":\"#2a3f5f\"},\"hovermode\":\"closest\",\"hoverlabel\":{\"align\":\"left\"},\"paper_bgcolor\":\"white\",\"plot_bgcolor\":\"#E5ECF6\",\"polar\":{\"bgcolor\":\"#E5ECF6\",\"angularaxis\":{\"gridcolor\":\"white\",\"linecolor\":\"white\",\"ticks\":\"\"},\"radialaxis\":{\"gridcolor\":\"white\",\"linecolor\":\"white\",\"ticks\":\"\"}},\"ternary\":{\"bgcolor\":\"#E5ECF6\",\"aaxis\":{\"gridcolor\":\"white\",\"linecolor\":\"white\",\"ticks\":\"\"},\"baxis\":{\"gridcolor\":\"white\",\"linecolor\":\"white\",\"ticks\":\"\"},\"caxis\":{\"gridcolor\":\"white\",\"linecolor\":\"white\",\"ticks\":\"\"}},\"coloraxis\":{\"colorbar\":{\"outlinewidth\":0,\"ticks\":\"\"}},\"colorscale\":{\"sequential\":[[0.0,\"#0d0887\"],[0.1111111111111111,\"#46039f\"],[0.2222222222222222,\"#7201a8\"],[0.3333333333333333,\"#9c179e\"],[0.4444444444444444,\"#bd3786\"],[0.5555555555555556,\"#d8576b\"],[0.6666666666666666,\"#ed7953\"],[0.7777777777777778,\"#fb9f3a\"],[0.8888888888888888,\"#fdca26\"],[1.0,\"#f0f921\"]],\"sequentialminus\":[[0.0,\"#0d0887\"],[0.1111111111111111,\"#46039f\"],[0.2222222222222222,\"#7201a8\"],[0.3333333333333333,\"#9c179e\"],[0.4444444444444444,\"#bd3786\"],[0.5555555555555556,\"#d8576b\"],[0.6666666666666666,\"#ed7953\"],[0.7777777777777778,\"#fb9f3a\"],[0.8888888888888888,\"#fdca26\"],[1.0,\"#f0f921\"]],\"diverging\":[[0,\"#8e0152\"],[0.1,\"#c51b7d\"],[0.2,\"#de77ae\"],[0.3,\"#f1b6da\"],[0.4,\"#fde0ef\"],[0.5,\"#f7f7f7\"],[0.6,\"#e6f5d0\"],[0.7,\"#b8e186\"],[0.8,\"#7fbc41\"],[0.9,\"#4d9221\"],[1,\"#276419\"]]},\"xaxis\":{\"gridcolor\":\"white\",\"linecolor\":\"white\",\"ticks\":\"\",\"title\":{\"standoff\":15},\"zerolinecolor\":\"white\",\"automargin\":true,\"zerolinewidth\":2},\"yaxis\":{\"gridcolor\":\"white\",\"linecolor\":\"white\",\"ticks\":\"\",\"title\":{\"standoff\":15},\"zerolinecolor\":\"white\",\"automargin\":true,\"zerolinewidth\":2},\"scene\":{\"xaxis\":{\"backgroundcolor\":\"#E5ECF6\",\"gridcolor\":\"white\",\"linecolor\":\"white\",\"showbackground\":true,\"ticks\":\"\",\"zerolinecolor\":\"white\",\"gridwidth\":2},\"yaxis\":{\"backgroundcolor\":\"#E5ECF6\",\"gridcolor\":\"white\",\"linecolor\":\"white\",\"showbackground\":true,\"ticks\":\"\",\"zerolinecolor\":\"white\",\"gridwidth\":2},\"zaxis\":{\"backgroundcolor\":\"#E5ECF6\",\"gridcolor\":\"white\",\"linecolor\":\"white\",\"showbackground\":true,\"ticks\":\"\",\"zerolinecolor\":\"white\",\"gridwidth\":2}},\"shapedefaults\":{\"line\":{\"color\":\"#2a3f5f\"}},\"annotationdefaults\":{\"arrowcolor\":\"#2a3f5f\",\"arrowhead\":0,\"arrowwidth\":1},\"geo\":{\"bgcolor\":\"white\",\"landcolor\":\"#E5ECF6\",\"subunitcolor\":\"white\",\"showland\":true,\"showlakes\":true,\"lakecolor\":\"white\"},\"title\":{\"x\":0.05},\"mapbox\":{\"style\":\"light\"}}},\"scene\":{\"xaxis\":{\"title\":{\"text\":\"Time to maturity\"}},\"yaxis\":{\"title\":{\"text\":\"Moneyness\"}},\"zaxis\":{\"title\":{\"text\":\"ANN implied volatility\"}}},\"width\":800,\"height\":700},                        {\"responsive\": true}                    ).then(function(){\n",
              "                            \n",
              "var gd = document.getElementById('dc8d281d-1e8f-4fa5-84e8-61b896aa99a7');\n",
              "var x = new MutationObserver(function (mutations, observer) {{\n",
              "        var display = window.getComputedStyle(gd).display;\n",
              "        if (!display || display === 'none') {{\n",
              "            console.log([gd, 'removed!']);\n",
              "            Plotly.purge(gd);\n",
              "            observer.disconnect();\n",
              "        }}\n",
              "}});\n",
              "\n",
              "// Listen for the removal of the full notebook cells\n",
              "var notebookContainer = gd.closest('#notebook-container');\n",
              "if (notebookContainer) {{\n",
              "    x.observe(notebookContainer, {childList: true});\n",
              "}}\n",
              "\n",
              "// Listen for the clearing of the current output cell\n",
              "var outputEl = gd.closest('.output');\n",
              "if (outputEl) {{\n",
              "    x.observe(outputEl, {childList: true});\n",
              "}}\n",
              "\n",
              "                        })                };                            </script>        </div>\n",
              "</body>\n",
              "</html>"
            ]
          },
          "metadata": {}
        }
      ]
    },
    {
      "cell_type": "markdown",
      "source": [
        "The volatility range is wrong (it should be between 0.31 and 0.32 at most) and the direction of the curve is also wrong.\n",
        "<br>\n",
        "In hindsight, it should have been obvious that a neural network trying to approximate a quantity that depends on multiple parameters should have more than one parameter. And that is made clear by this curve that is completely incorrect.  So that's what the next section is."
      ],
      "metadata": {
        "id": "tYH1RcLhz6NG"
      }
    },
    {
      "cell_type": "markdown",
      "source": [
        "## ANN with more parameters"
      ],
      "metadata": {
        "id": "CTf5RVwfL1z4"
      }
    },
    {
      "cell_type": "markdown",
      "source": [
        "This time, we will keep all the Heston parameters plus the computed price as input. It could be interesting to geneate the Heston prices that are fed into this model by the Heston-ANN rather than the COS method, but since the loss in my Heston ANN is not the best I elected to use the prices computed by the COS method to avoid any error accumulation. It could also be interesting to see how this compares to a network trained on only `(moneyness, tau, price)` as these are generally what we use as variables when we want to see the implied volatily smile. I won't be doing this for lack of time.."
      ],
      "metadata": {
        "id": "C0ObAfbw0dcN"
      }
    },
    {
      "cell_type": "code",
      "source": [
        "class IV_ANN_2(nn.Module):\n",
        "  def __init__(self):\n",
        "    super().__init__()\n",
        "    self.linear_relu_stack = nn.Sequential(\n",
        "\n",
        "        nn.Linear(9,400),\n",
        "        nn.ReLU(),\n",
        "\n",
        "        nn.Linear(400,400),\n",
        "        nn.ReLU(),\n",
        "\n",
        "        nn.Linear(400,400),\n",
        "        nn.ReLU(),\n",
        "\n",
        "        nn.Linear(400,400),\n",
        "        nn.ReLU(),\n",
        "\n",
        "        nn.Linear(400,1),\n",
        "    )\n",
        "\n",
        "  def forward(self,x):\n",
        "    target = self.linear_relu_stack(x)\n",
        "    return target\n",
        "\n",
        "  def weights_init(self): # initializing parameters using glorot uniform unitialization\n",
        "    for module in self.modules():\n",
        "      if isinstance(module, nn.Linear):\n",
        "        nn.init.xavier_uniform_(module.weight)\n",
        "\n",
        "def train_loop(dataloader, model, loss_fn, optimizer):\n",
        "  for batch, (X,y) in enumerate(dataloader):\n",
        "    # forward compute\n",
        "    pred = model(X)\n",
        "    # loss = loss_fn(pred,y.unsqueeze(1))\n",
        "    loss = loss_fn(pred,y)\n",
        "\n",
        "    # backpropagation\n",
        "    optimizer.zero_grad()\n",
        "    loss.backward()\n",
        "    optimizer.step()"
      ],
      "metadata": {
        "id": "CLSpb7SOUg8L"
      },
      "execution_count": null,
      "outputs": []
    },
    {
      "cell_type": "code",
      "source": [
        "H_data = torch.load(\"H_data.pt\") #input to the ann, we're taking all the Heston parameters + the Heston price this time instead of just the price\n",
        "iv = torch.load(\"iv.pt\") #output of the ann, which is the implied vol computed by Brent's algorithm for each data point in H_data (same output as the previous ANN)\n",
        "\n",
        "iv_ANN = IV_ANN_2()\n",
        "iv_ANN.weights_init() #initialize the weights\n",
        "loss_function = nn.MSELoss()\n",
        "batch_size = 1000\n",
        "epochs = 60\n",
        "optimizer = torch.optim.Adam(iv_ANN.parameters(), lr=10e-4)\n",
        "scheduler = torch.optim.lr_scheduler.StepLR(optimizer, step_size=10, gamma=0.1)\n",
        "\n",
        "num_iv = 10**6\n",
        "\n",
        "train_size = int(0.9*num_iv)\n",
        "X = H_data\n",
        "Y = iv\n",
        "Xtrain, Xtest = X[:train_size,:], X[train_size:,:]\n",
        "Ytrain, Ytest = Y[:train_size], Y[train_size:]\n",
        "\n",
        "train_set = TensorDataset(Xtrain,Ytrain)\n",
        "train_dataloader = DataLoader(train_set, batch_size=batch_size)"
      ],
      "metadata": {
        "id": "6j_dEfvSUs_5"
      },
      "execution_count": null,
      "outputs": []
    },
    {
      "cell_type": "markdown",
      "source": [
        "Looking at the loss for this new model, it already looks much more promising."
      ],
      "metadata": {
        "id": "al1C10FA97HX"
      }
    },
    {
      "cell_type": "code",
      "source": [
        "training_loss = []\n",
        "test_loss = []\n",
        "for epoch in tqdm(range(epochs)):\n",
        "  running_training_loss = train_loop(train_dataloader, iv_ANN, loss_function, optimizer)\n",
        "  running_test_loss = loss_function(iv_ANN(Xtest),Ytest)\n",
        "  running_training_loss = loss_function(iv_ANN(Xtrain),Ytrain)\n",
        "\n",
        "  if epoch%5==0:\n",
        "    print(\"Test loss :\", running_test_loss.detach().numpy())\n",
        "    print(\" Training loss :\", running_training_loss.detach().numpy())\n",
        "\n",
        "\n",
        "  test_loss.append(running_test_loss.detach().numpy())\n",
        "  training_loss.append(running_training_loss.detach().numpy())\n",
        "\n",
        "  scheduler.step()\n",
        "\n",
        "print(\"Done!\")"
      ],
      "metadata": {
        "colab": {
          "base_uri": "https://localhost:8080/"
        },
        "id": "i_9074UEU_aa",
        "outputId": "3ca283db-fbe9-4b79-94ba-375230c77e68"
      },
      "execution_count": null,
      "outputs": [
        {
          "output_type": "stream",
          "name": "stderr",
          "text": [
            "  2%|▏         | 1/60 [00:58<57:31, 58.50s/it]"
          ]
        },
        {
          "output_type": "stream",
          "name": "stdout",
          "text": [
            "Test loss : 0.00050937413\n",
            " Training loss : 0.0004583294\n"
          ]
        },
        {
          "output_type": "stream",
          "name": "stderr",
          "text": [
            " 10%|█         | 6/60 [05:47<52:07, 57.92s/it]"
          ]
        },
        {
          "output_type": "stream",
          "name": "stdout",
          "text": [
            "Test loss : 0.0003618376\n",
            " Training loss : 0.00034330308\n"
          ]
        },
        {
          "output_type": "stream",
          "name": "stderr",
          "text": [
            " 18%|█▊        | 11/60 [10:38<47:57, 58.72s/it]"
          ]
        },
        {
          "output_type": "stream",
          "name": "stdout",
          "text": [
            "Test loss : 6.6350636e-05\n",
            " Training loss : 5.8591286e-05\n"
          ]
        },
        {
          "output_type": "stream",
          "name": "stderr",
          "text": [
            " 27%|██▋       | 16/60 [16:09<47:14, 64.42s/it]"
          ]
        },
        {
          "output_type": "stream",
          "name": "stdout",
          "text": [
            "Test loss : 5.6535333e-05\n",
            " Training loss : 5.3478398e-05\n"
          ]
        },
        {
          "output_type": "stream",
          "name": "stderr",
          "text": [
            " 35%|███▌      | 21/60 [21:32<42:27, 65.32s/it]"
          ]
        },
        {
          "output_type": "stream",
          "name": "stdout",
          "text": [
            "Test loss : 3.1748823e-05\n",
            " Training loss : 2.713907e-05\n"
          ]
        },
        {
          "output_type": "stream",
          "name": "stderr",
          "text": [
            " 43%|████▎     | 26/60 [26:50<36:34, 64.54s/it]"
          ]
        },
        {
          "output_type": "stream",
          "name": "stdout",
          "text": [
            "Test loss : 2.9365894e-05\n",
            " Training loss : 2.4307912e-05\n"
          ]
        },
        {
          "output_type": "stream",
          "name": "stderr",
          "text": [
            " 52%|█████▏    | 31/60 [32:23<32:23, 67.00s/it]"
          ]
        },
        {
          "output_type": "stream",
          "name": "stdout",
          "text": [
            "Test loss : 2.6577827e-05\n",
            " Training loss : 2.1510887e-05\n"
          ]
        },
        {
          "output_type": "stream",
          "name": "stderr",
          "text": [
            " 60%|██████    | 36/60 [37:20<24:07, 60.30s/it]"
          ]
        },
        {
          "output_type": "stream",
          "name": "stdout",
          "text": [
            "Test loss : 2.62626e-05\n",
            " Training loss : 2.1145002e-05\n"
          ]
        },
        {
          "output_type": "stream",
          "name": "stderr",
          "text": [
            " 68%|██████▊   | 41/60 [42:10<18:29, 58.39s/it]"
          ]
        },
        {
          "output_type": "stream",
          "name": "stdout",
          "text": [
            "Test loss : 2.5940257e-05\n",
            " Training loss : 2.0820138e-05\n"
          ]
        },
        {
          "output_type": "stream",
          "name": "stderr",
          "text": [
            " 77%|███████▋  | 46/60 [47:07<13:44, 58.91s/it]"
          ]
        },
        {
          "output_type": "stream",
          "name": "stdout",
          "text": [
            "Test loss : 2.586844e-05\n",
            " Training loss : 2.078407e-05\n"
          ]
        },
        {
          "output_type": "stream",
          "name": "stderr",
          "text": [
            " 85%|████████▌ | 51/60 [52:00<08:47, 58.65s/it]"
          ]
        },
        {
          "output_type": "stream",
          "name": "stdout",
          "text": [
            "Test loss : 2.583362e-05\n",
            " Training loss : 2.075716e-05\n"
          ]
        },
        {
          "output_type": "stream",
          "name": "stderr",
          "text": [
            " 93%|█████████▎| 56/60 [57:06<04:04, 61.21s/it]"
          ]
        },
        {
          "output_type": "stream",
          "name": "stdout",
          "text": [
            "Test loss : 2.5814303e-05\n",
            " Training loss : 2.0754436e-05\n"
          ]
        },
        {
          "output_type": "stream",
          "name": "stderr",
          "text": [
            "100%|██████████| 60/60 [1:01:36<00:00, 61.61s/it]"
          ]
        },
        {
          "output_type": "stream",
          "name": "stdout",
          "text": [
            "Done!\n"
          ]
        },
        {
          "output_type": "stream",
          "name": "stderr",
          "text": [
            "\n"
          ]
        }
      ]
    },
    {
      "cell_type": "markdown",
      "source": [
        "And the overfitting is not so bad either."
      ],
      "metadata": {
        "id": "Y-VWuVyC-FbV"
      }
    },
    {
      "cell_type": "code",
      "source": [
        "plt.figure(figsize=(9,3))\n",
        "plt.plot(np.arange(1,61,1),np.log(np.array(training_loss)),'r',label=\"Training loss\")\n",
        "plt.plot(np.arange(1,61,1),np.log(np.array(test_loss)),'b',linestyle='dashed',label=\"Test loss\")\n",
        "plt.xlabel(\"Epochs\")\n",
        "plt.ylabel(\"Log MSE loss\")\n",
        "plt.legend()\n",
        "# plt.savefig(\"log_MSE_loss_new_IV_1mil_60_epochs.png\",dpi=1200)"
      ],
      "metadata": {
        "colab": {
          "base_uri": "https://localhost:8080/",
          "height": 311
        },
        "id": "xMbFxt7I8iz3",
        "outputId": "f5ac0a4a-aeff-4452-b11e-696f78f6b4f6"
      },
      "execution_count": null,
      "outputs": [
        {
          "output_type": "display_data",
          "data": {
            "text/plain": [
              "<Figure size 900x300 with 1 Axes>"
            ],
            "image/png": "[encoded data removed]"
          },
          "metadata": {}
        }
      ]
    },
    {
      "cell_type": "markdown",
      "source": [
        "Now we will use it to generate the volatility surface with the same parameters as before :"
      ],
      "metadata": {
        "id": "YlSLvQrf-Nvu"
      }
    },
    {
      "cell_type": "code",
      "source": [
        "S,mrs,r,volvol,v_bar,rho,sigma,L,N,a,b = 100, 1.5, 0.02, 0.2, 0.1, -0.05, 0.1, 50, 1500, -3, 5\n",
        "nbr = 15\n",
        "moneyness = np.linspace(0.7,1.3,nbr)\n",
        "time_to_maturities = np.linspace(0.5,1,nbr)\n",
        "\n",
        "prices = np.zeros((len(moneyness),len(time_to_maturities)))\n",
        "imp_vol = np.zeros((len(moneyness),len(time_to_maturities)))\n",
        "imp_vol_ann = np.zeros((len(moneyness),len(time_to_maturities)))\n",
        "\n",
        "\n",
        "X, Y = np.meshgrid(moneyness, time_to_maturities)\n",
        "\n",
        "for i in range(len(moneyness)):\n",
        "  K = S/moneyness[i]\n",
        "  for j in range(len(time_to_maturities)):\n",
        "    tau = time_to_maturities[j]\n",
        "    imp_vol[i,j] = implied_vol_(S,K,tau,mrs,r,volvol,v_bar,rho,sigma,L,N,a,b)\n",
        "    price = Heston_2(S,K,tau,mrs,r,volvol,v_bar,rho,sigma,L,N)\n",
        "    imp_vol_ann[i,j] = iv_ANN(torch.tensor([S/K,tau,mrs,r,volvol,v_bar,rho,sigma,price]).type(torch.float))"
      ],
      "metadata": {
        "id": "mIv-BLK5Wkjy"
      },
      "execution_count": null,
      "outputs": []
    },
    {
      "cell_type": "code",
      "source": [
        "import plotly.graph_objects as go\n",
        "fig = go.Figure(go.Surface(x=time_to_maturities,y=moneyness,z=imp_vol_ann,opacity=0.9, colorscale='Viridis'))\n",
        "fig.update_layout(scene = dict(\n",
        "                    xaxis_title='Time to maturity',\n",
        "                    yaxis_title='Moneyness',\n",
        "                    zaxis_title='ANN implied volatility'),\n",
        "                    width=800,\n",
        "                    height = 700,\n",
        "                    # margin=dict(r=20, b=10, l=10, t=10)\n",
        "                    )\n",
        "fig.show()"
      ],
      "metadata": {
        "colab": {
          "base_uri": "https://localhost:8080/",
          "height": 717
        },
        "id": "EjTbuV6CXBiR",
        "outputId": "bf685663-7256-499a-d90d-127bbd051fa6"
      },
      "execution_count": null,
      "outputs": [
        {
          "output_type": "display_data",
          "data": {
            "text/html": [
              "<html>\n",
              "<head><meta charset=\"utf-8\" /></head>\n",
              "<body>\n",
              "    <div>            <script src=\"https://cdnjs.cloudflare.com/ajax/libs/mathjax/2.7.5/MathJax.js?config=TeX-AMS-MML_SVG\"></script><script type=\"text/javascript\">if (window.MathJax && window.MathJax.Hub && window.MathJax.Hub.Config) {window.MathJax.Hub.Config({SVG: {font: \"STIX-Web\"}});}</script>                <script type=\"text/javascript\">window.PlotlyConfig = {MathJaxConfig: 'local'};</script>\n",
              "        <script src=\"https://cdn.plot.ly/plotly-2.18.2.min.js\"></script>                <div id=\"c0dcc32c-2d9c-4c16-ba61-ce51b511911f\" class=\"plotly-graph-div\" style=\"height:700px; width:800px;\"></div>            <script type=\"text/javascript\">                                    window.PLOTLYENV=window.PLOTLYENV || {};                                    if (document.getElementById(\"c0dcc32c-2d9c-4c16-ba61-ce51b511911f\")) {                    Plotly.newPlot(                        \"c0dcc32c-2d9c-4c16-ba61-ce51b511911f\",                        [{\"colorscale\":[[0.0,\"#440154\"],[0.1111111111111111,\"#482878\"],[0.2222222222222222,\"#3e4989\"],[0.3333333333333333,\"#31688e\"],[0.4444444444444444,\"#26828e\"],[0.5555555555555556,\"#1f9e89\"],[0.6666666666666666,\"#35b779\"],[0.7777777777777778,\"#6ece58\"],[0.8888888888888888,\"#b5de2b\"],[1.0,\"#fde725\"]],\"opacity\":0.9,\"x\":[0.5,0.5357142857142857,0.5714285714285714,0.6071428571428571,0.6428571428571428,0.6785714285714286,0.7142857142857143,0.75,0.7857142857142857,0.8214285714285714,0.8571428571428571,0.8928571428571428,0.9285714285714286,0.9642857142857142,1.0],\"y\":[0.7,0.7428571428571428,0.7857142857142857,0.8285714285714285,0.8714285714285714,0.9142857142857143,0.9571428571428571,1.0,1.042857142857143,1.0857142857142859,1.1285714285714286,1.1714285714285715,1.2142857142857144,1.2571428571428571,1.3],\"z\":[[0.31505492329597473,0.31593063473701477,0.31729212403297424,0.3178899586200714,0.31834477186203003,0.3190750777721405,0.3200129568576813,0.3208175003528595,0.32158586382865906,0.3224995732307434,0.32229503989219666,0.3217266798019409,0.3210924565792084,0.3198169469833374,0.31856101751327515],[0.3170229494571686,0.3175739347934723,0.3176143765449524,0.3171258270740509,0.3170648515224457,0.3173384964466095,0.3179415464401245,0.31903478503227234,0.319909930229187,0.32058385014533997,0.3203676640987396,0.31910333037376404,0.3181169629096985,0.31722158193588257,0.3160921037197113],[0.31505468487739563,0.31432241201400757,0.3138485848903656,0.31388160586357117,0.31383436918258667,0.3146704137325287,0.3155810832977295,0.3163194954395294,0.31711676716804504,0.3178754150867462,0.31797274947166443,0.3176213502883911,0.31652066111564636,0.31557437777519226,0.3148593604564667],[0.31223294138908386,0.3118700087070465,0.31243351101875305,0.3129281997680664,0.3137858808040619,0.31475260853767395,0.31541678309440613,0.31565478444099426,0.3158761262893677,0.31597375869750977,0.31580424308776855,0.3158397078514099,0.31537166237831116,0.31470438838005066,0.3141946494579315],[0.313617467880249,0.31315478682518005,0.3132422864437103,0.3133503198623657,0.3135221600532532,0.3140017092227936,0.31464800238609314,0.3153708279132843,0.31629642844200134,0.3164190351963043,0.31667307019233704,0.3170796036720276,0.31729280948638916,0.316937655210495,0.3162972033023834],[0.31450584530830383,0.31373101472854614,0.31281813979148865,0.31315138936042786,0.3134167492389679,0.3138315677642822,0.3148641884326935,0.31617167592048645,0.31725314259529114,0.3175283670425415,0.3177444040775299,0.3179405629634857,0.31780514121055603,0.3168867528438568,0.31563040614128113],[0.3137064576148987,0.31247347593307495,0.31236791610717773,0.312725305557251,0.313313752412796,0.31424909830093384,0.31553369760513306,0.3170831501483917,0.3179844319820404,0.318121075630188,0.3180733621120453,0.317861944437027,0.3173484802246094,0.3164041340351105,0.31555652618408203],[0.3141936659812927,0.31382089853286743,0.31419602036476135,0.3144891560077667,0.31492510437965393,0.3158525228500366,0.31680554151535034,0.3175920844078064,0.3176747262477875,0.3178730309009552,0.31806108355522156,0.3182819187641144,0.3179996907711029,0.31730636954307556,0.3164558708667755],[0.316769003868103,0.3153453767299652,0.31478723883628845,0.31461402773857117,0.31487447023391724,0.31607410311698914,0.3174968361854553,0.3181099593639374,0.3183978497982025,0.31870633363723755,0.3191200792789459,0.3193545639514923,0.31855735182762146,0.3175727128982544,0.3164912760257721],[0.3188669979572296,0.31788912415504456,0.3176506459712982,0.3176249563694,0.31746503710746765,0.3173673450946808,0.31788626313209534,0.3181557357311249,0.31849244236946106,0.31882795691490173,0.31909921765327454,0.3194948136806488,0.3187207877635956,0.3177435100078583,0.31645599007606506],[0.32055678963661194,0.31932881474494934,0.3188347816467285,0.3185237944126129,0.31841155886650085,0.3186527490615845,0.3184840977191925,0.31897321343421936,0.3195593059062958,0.3201051652431488,0.32050570845603943,0.32033756375312805,0.3194546103477478,0.31853777170181274,0.31761622428894043],[0.3233415186405182,0.3222513496875763,0.3212398290634155,0.32096603512763977,0.3208242654800415,0.3203512728214264,0.31972911953926086,0.3197142481803894,0.320122629404068,0.3205329179763794,0.32084226608276367,0.3203960955142975,0.31950414180755615,0.31878602504730225,0.3178916871547699],[0.3224555552005768,0.32355350255966187,0.32272234559059143,0.3226388990879059,0.3227942883968353,0.32195815443992615,0.3214641213417053,0.321426659822464,0.3215961158275604,0.32203906774520874,0.32225731015205383,0.32180115580558777,0.32102012634277344,0.32020315527915955,0.31945106387138367],[0.32004478573799133,0.3216360807418823,0.3221408724784851,0.3224281966686249,0.32218798995018005,0.3216417729854584,0.321207195520401,0.3214051425457001,0.3216003477573395,0.32183870673179626,0.3218173086643219,0.3212248682975769,0.32062485814094543,0.31988516449928284,0.3191920220851898],[0.3188180923461914,0.32036271691322327,0.32227468490600586,0.3224605917930603,0.3218320608139038,0.3211423456668854,0.32043230533599854,0.320059210062027,0.3200199007987976,0.3201567530632019,0.3201371133327484,0.3201533854007721,0.3200688064098358,0.3197650909423828,0.3190412223339081]],\"type\":\"surface\"}],                        {\"template\":{\"data\":{\"histogram2dcontour\":[{\"type\":\"histogram2dcontour\",\"colorbar\":{\"outlinewidth\":0,\"ticks\":\"\"},\"colorscale\":[[0.0,\"#0d0887\"],[0.1111111111111111,\"#46039f\"],[0.2222222222222222,\"#7201a8\"],[0.3333333333333333,\"#9c179e\"],[0.4444444444444444,\"#bd3786\"],[0.5555555555555556,\"#d8576b\"],[0.6666666666666666,\"#ed7953\"],[0.7777777777777778,\"#fb9f3a\"],[0.8888888888888888,\"#fdca26\"],[1.0,\"#f0f921\"]]}],\"choropleth\":[{\"type\":\"choropleth\",\"colorbar\":{\"outlinewidth\":0,\"ticks\":\"\"}}],\"histogram2d\":[{\"type\":\"histogram2d\",\"colorbar\":{\"outlinewidth\":0,\"ticks\":\"\"},\"colorscale\":[[0.0,\"#0d0887\"],[0.1111111111111111,\"#46039f\"],[0.2222222222222222,\"#7201a8\"],[0.3333333333333333,\"#9c179e\"],[0.4444444444444444,\"#bd3786\"],[0.5555555555555556,\"#d8576b\"],[0.6666666666666666,\"#ed7953\"],[0.7777777777777778,\"#fb9f3a\"],[0.8888888888888888,\"#fdca26\"],[1.0,\"#f0f921\"]]}],\"heatmap\":[{\"type\":\"heatmap\",\"colorbar\":{\"outlinewidth\":0,\"ticks\":\"\"},\"colorscale\":[[0.0,\"#0d0887\"],[0.1111111111111111,\"#46039f\"],[0.2222222222222222,\"#7201a8\"],[0.3333333333333333,\"#9c179e\"],[0.4444444444444444,\"#bd3786\"],[0.5555555555555556,\"#d8576b\"],[0.6666666666666666,\"#ed7953\"],[0.7777777777777778,\"#fb9f3a\"],[0.8888888888888888,\"#fdca26\"],[1.0,\"#f0f921\"]]}],\"heatmapgl\":[{\"type\":\"heatmapgl\",\"colorbar\":{\"outlinewidth\":0,\"ticks\":\"\"},\"colorscale\":[[0.0,\"#0d0887\"],[0.1111111111111111,\"#46039f\"],[0.2222222222222222,\"#7201a8\"],[0.3333333333333333,\"#9c179e\"],[0.4444444444444444,\"#bd3786\"],[0.5555555555555556,\"#d8576b\"],[0.6666666666666666,\"#ed7953\"],[0.7777777777777778,\"#fb9f3a\"],[0.8888888888888888,\"#fdca26\"],[1.0,\"#f0f921\"]]}],\"contourcarpet\":[{\"type\":\"contourcarpet\",\"colorbar\":{\"outlinewidth\":0,\"ticks\":\"\"}}],\"contour\":[{\"type\":\"contour\",\"colorbar\":{\"outlinewidth\":0,\"ticks\":\"\"},\"colorscale\":[[0.0,\"#0d0887\"],[0.1111111111111111,\"#46039f\"],[0.2222222222222222,\"#7201a8\"],[0.3333333333333333,\"#9c179e\"],[0.4444444444444444,\"#bd3786\"],[0.5555555555555556,\"#d8576b\"],[0.6666666666666666,\"#ed7953\"],[0.7777777777777778,\"#fb9f3a\"],[0.8888888888888888,\"#fdca26\"],[1.0,\"#f0f921\"]]}],\"surface\":[{\"type\":\"surface\",\"colorbar\":{\"outlinewidth\":0,\"ticks\":\"\"},\"colorscale\":[[0.0,\"#0d0887\"],[0.1111111111111111,\"#46039f\"],[0.2222222222222222,\"#7201a8\"],[0.3333333333333333,\"#9c179e\"],[0.4444444444444444,\"#bd3786\"],[0.5555555555555556,\"#d8576b\"],[0.6666666666666666,\"#ed7953\"],[0.7777777777777778,\"#fb9f3a\"],[0.8888888888888888,\"#fdca26\"],[1.0,\"#f0f921\"]]}],\"mesh3d\":[{\"type\":\"mesh3d\",\"colorbar\":{\"outlinewidth\":0,\"ticks\":\"\"}}],\"scatter\":[{\"fillpattern\":{\"fillmode\":\"overlay\",\"size\":10,\"solidity\":0.2},\"type\":\"scatter\"}],\"parcoords\":[{\"type\":\"parcoords\",\"line\":{\"colorbar\":{\"outlinewidth\":0,\"ticks\":\"\"}}}],\"scatterpolargl\":[{\"type\":\"scatterpolargl\",\"marker\":{\"colorbar\":{\"outlinewidth\":0,\"ticks\":\"\"}}}],\"bar\":[{\"error_x\":{\"color\":\"#2a3f5f\"},\"error_y\":{\"color\":\"#2a3f5f\"},\"marker\":{\"line\":{\"color\":\"#E5ECF6\",\"width\":0.5},\"pattern\":{\"fillmode\":\"overlay\",\"size\":10,\"solidity\":0.2}},\"type\":\"bar\"}],\"scattergeo\":[{\"type\":\"scattergeo\",\"marker\":{\"colorbar\":{\"outlinewidth\":0,\"ticks\":\"\"}}}],\"scatterpolar\":[{\"type\":\"scatterpolar\",\"marker\":{\"colorbar\":{\"outlinewidth\":0,\"ticks\":\"\"}}}],\"histogram\":[{\"marker\":{\"pattern\":{\"fillmode\":\"overlay\",\"size\":10,\"solidity\":0.2}},\"type\":\"histogram\"}],\"scattergl\":[{\"type\":\"scattergl\",\"marker\":{\"colorbar\":{\"outlinewidth\":0,\"ticks\":\"\"}}}],\"scatter3d\":[{\"type\":\"scatter3d\",\"line\":{\"colorbar\":{\"outlinewidth\":0,\"ticks\":\"\"}},\"marker\":{\"colorbar\":{\"outlinewidth\":0,\"ticks\":\"\"}}}],\"scattermapbox\":[{\"type\":\"scattermapbox\",\"marker\":{\"colorbar\":{\"outlinewidth\":0,\"ticks\":\"\"}}}],\"scatterternary\":[{\"type\":\"scatterternary\",\"marker\":{\"colorbar\":{\"outlinewidth\":0,\"ticks\":\"\"}}}],\"scattercarpet\":[{\"type\":\"scattercarpet\",\"marker\":{\"colorbar\":{\"outlinewidth\":0,\"ticks\":\"\"}}}],\"carpet\":[{\"aaxis\":{\"endlinecolor\":\"#2a3f5f\",\"gridcolor\":\"white\",\"linecolor\":\"white\",\"minorgridcolor\":\"white\",\"startlinecolor\":\"#2a3f5f\"},\"baxis\":{\"endlinecolor\":\"#2a3f5f\",\"gridcolor\":\"white\",\"linecolor\":\"white\",\"minorgridcolor\":\"white\",\"startlinecolor\":\"#2a3f5f\"},\"type\":\"carpet\"}],\"table\":[{\"cells\":{\"fill\":{\"color\":\"#EBF0F8\"},\"line\":{\"color\":\"white\"}},\"header\":{\"fill\":{\"color\":\"#C8D4E3\"},\"line\":{\"color\":\"white\"}},\"type\":\"table\"}],\"barpolar\":[{\"marker\":{\"line\":{\"color\":\"#E5ECF6\",\"width\":0.5},\"pattern\":{\"fillmode\":\"overlay\",\"size\":10,\"solidity\":0.2}},\"type\":\"barpolar\"}],\"pie\":[{\"automargin\":true,\"type\":\"pie\"}]},\"layout\":{\"autotypenumbers\":\"strict\",\"colorway\":[\"#636efa\",\"#EF553B\",\"#00cc96\",\"#ab63fa\",\"#FFA15A\",\"#19d3f3\",\"#FF6692\",\"#B6E880\",\"#FF97FF\",\"#FECB52\"],\"font\":{\"color\":\"#2a3f5f\"},\"hovermode\":\"closest\",\"hoverlabel\":{\"align\":\"left\"},\"paper_bgcolor\":\"white\",\"plot_bgcolor\":\"#E5ECF6\",\"polar\":{\"bgcolor\":\"#E5ECF6\",\"angularaxis\":{\"gridcolor\":\"white\",\"linecolor\":\"white\",\"ticks\":\"\"},\"radialaxis\":{\"gridcolor\":\"white\",\"linecolor\":\"white\",\"ticks\":\"\"}},\"ternary\":{\"bgcolor\":\"#E5ECF6\",\"aaxis\":{\"gridcolor\":\"white\",\"linecolor\":\"white\",\"ticks\":\"\"},\"baxis\":{\"gridcolor\":\"white\",\"linecolor\":\"white\",\"ticks\":\"\"},\"caxis\":{\"gridcolor\":\"white\",\"linecolor\":\"white\",\"ticks\":\"\"}},\"coloraxis\":{\"colorbar\":{\"outlinewidth\":0,\"ticks\":\"\"}},\"colorscale\":{\"sequential\":[[0.0,\"#0d0887\"],[0.1111111111111111,\"#46039f\"],[0.2222222222222222,\"#7201a8\"],[0.3333333333333333,\"#9c179e\"],[0.4444444444444444,\"#bd3786\"],[0.5555555555555556,\"#d8576b\"],[0.6666666666666666,\"#ed7953\"],[0.7777777777777778,\"#fb9f3a\"],[0.8888888888888888,\"#fdca26\"],[1.0,\"#f0f921\"]],\"sequentialminus\":[[0.0,\"#0d0887\"],[0.1111111111111111,\"#46039f\"],[0.2222222222222222,\"#7201a8\"],[0.3333333333333333,\"#9c179e\"],[0.4444444444444444,\"#bd3786\"],[0.5555555555555556,\"#d8576b\"],[0.6666666666666666,\"#ed7953\"],[0.7777777777777778,\"#fb9f3a\"],[0.8888888888888888,\"#fdca26\"],[1.0,\"#f0f921\"]],\"diverging\":[[0,\"#8e0152\"],[0.1,\"#c51b7d\"],[0.2,\"#de77ae\"],[0.3,\"#f1b6da\"],[0.4,\"#fde0ef\"],[0.5,\"#f7f7f7\"],[0.6,\"#e6f5d0\"],[0.7,\"#b8e186\"],[0.8,\"#7fbc41\"],[0.9,\"#4d9221\"],[1,\"#276419\"]]},\"xaxis\":{\"gridcolor\":\"white\",\"linecolor\":\"white\",\"ticks\":\"\",\"title\":{\"standoff\":15},\"zerolinecolor\":\"white\",\"automargin\":true,\"zerolinewidth\":2},\"yaxis\":{\"gridcolor\":\"white\",\"linecolor\":\"white\",\"ticks\":\"\",\"title\":{\"standoff\":15},\"zerolinecolor\":\"white\",\"automargin\":true,\"zerolinewidth\":2},\"scene\":{\"xaxis\":{\"backgroundcolor\":\"#E5ECF6\",\"gridcolor\":\"white\",\"linecolor\":\"white\",\"showbackground\":true,\"ticks\":\"\",\"zerolinecolor\":\"white\",\"gridwidth\":2},\"yaxis\":{\"backgroundcolor\":\"#E5ECF6\",\"gridcolor\":\"white\",\"linecolor\":\"white\",\"showbackground\":true,\"ticks\":\"\",\"zerolinecolor\":\"white\",\"gridwidth\":2},\"zaxis\":{\"backgroundcolor\":\"#E5ECF6\",\"gridcolor\":\"white\",\"linecolor\":\"white\",\"showbackground\":true,\"ticks\":\"\",\"zerolinecolor\":\"white\",\"gridwidth\":2}},\"shapedefaults\":{\"line\":{\"color\":\"#2a3f5f\"}},\"annotationdefaults\":{\"arrowcolor\":\"#2a3f5f\",\"arrowhead\":0,\"arrowwidth\":1},\"geo\":{\"bgcolor\":\"white\",\"landcolor\":\"#E5ECF6\",\"subunitcolor\":\"white\",\"showland\":true,\"showlakes\":true,\"lakecolor\":\"white\"},\"title\":{\"x\":0.05},\"mapbox\":{\"style\":\"light\"}}},\"scene\":{\"xaxis\":{\"title\":{\"text\":\"Time to maturity\"}},\"yaxis\":{\"title\":{\"text\":\"Moneyness\"}},\"zaxis\":{\"title\":{\"text\":\"ANN implied volatility\"}}},\"width\":800,\"height\":700},                        {\"responsive\": true}                    ).then(function(){\n",
              "                            \n",
              "var gd = document.getElementById('c0dcc32c-2d9c-4c16-ba61-ce51b511911f');\n",
              "var x = new MutationObserver(function (mutations, observer) {{\n",
              "        var display = window.getComputedStyle(gd).display;\n",
              "        if (!display || display === 'none') {{\n",
              "            console.log([gd, 'removed!']);\n",
              "            Plotly.purge(gd);\n",
              "            observer.disconnect();\n",
              "        }}\n",
              "}});\n",
              "\n",
              "// Listen for the removal of the full notebook cells\n",
              "var notebookContainer = gd.closest('#notebook-container');\n",
              "if (notebookContainer) {{\n",
              "    x.observe(notebookContainer, {childList: true});\n",
              "}}\n",
              "\n",
              "// Listen for the clearing of the current output cell\n",
              "var outputEl = gd.closest('.output');\n",
              "if (outputEl) {{\n",
              "    x.observe(outputEl, {childList: true});\n",
              "}}\n",
              "\n",
              "                        })                };                            </script>        </div>\n",
              "</body>\n",
              "</html>"
            ]
          },
          "metadata": {}
        }
      ]
    },
    {
      "cell_type": "markdown",
      "source": [
        "The volatility range is an improvement from the last model, and also the curve generally follows the shape of the volatility smile. Unfortunately, the surface generated by this model is very bumpy.\n",
        "<br>\n",
        "The article mentions flattening the prices fed into the model in order to flatten the gradients, so that's what this next section is about. This time we feed the log of the time value of the option divided by the strike into the ANN isntead of just the price."
      ],
      "metadata": {
        "id": "OX8Ve8rh-bbW"
      }
    },
    {
      "cell_type": "code",
      "source": [
        "H = torch.column_stack((H_data, iv))\n",
        "H_positive_data = H[H[:,-2]>0]\n",
        "I = torch.ones_like(H_positive_data[:,-1])\n",
        "H_positive_data[:,-2] = H_positive_data[:,-2] - torch.maximum( S*I - (S/H_positive_data[:,0])*torch.exp(-H_positive_data[:,3]*H_positive_data[:,1]), torch.zeros_like(H_positive_data[:,-2])) *  ( S*I >= S/H_positive_data[:,0])\n",
        "\n",
        "H_positive_data = H_positive_data[H_positive_data[:,-2]>0]\n",
        "H_positive_data[:,-2] = torch.log( H_positive_data[:,-2] / (S/H_positive_data[:,0]) )"
      ],
      "metadata": {
        "id": "W7H_S_CSIQJX"
      },
      "execution_count": null,
      "outputs": []
    },
    {
      "cell_type": "code",
      "source": [
        "iv_ANN_2 = IV_ANN_2()\n",
        "iv_ANN_2.weights_init() #initialize the weights\n",
        "loss_function = nn.MSELoss()\n",
        "batch_size = 1000\n",
        "epochs = 60\n",
        "optimizer = torch.optim.Adam(iv_ANN_2.parameters(), lr=10e-4)\n",
        "scheduler = torch.optim.lr_scheduler.StepLR(optimizer, step_size=10, gamma=0.1)\n",
        "\n",
        "num_iv = 10**6\n",
        "\n",
        "train_size = int(0.9*num_iv)\n",
        "X = H_positive_data[:,:-1]\n",
        "Y = H_positive_data[:,-1]\n",
        "Xtrain, Xtest = X[:train_size,:], X[train_size:,:]\n",
        "Ytrain, Ytest = Y[:train_size].unsqueeze(1), Y[train_size:].unsqueeze(1)\n",
        "\n",
        "train_set = TensorDataset(Xtrain,Ytrain)\n",
        "train_dataloader = DataLoader(train_set, batch_size=batch_size)"
      ],
      "metadata": {
        "id": "nzNNnmAyRvqs"
      },
      "execution_count": null,
      "outputs": []
    },
    {
      "cell_type": "code",
      "source": [
        "training_loss = []\n",
        "test_loss = []\n",
        "for epoch in tqdm(range(epochs)):\n",
        "  running_training_loss = train_loop(train_dataloader, iv_ANN_2, loss_function, optimizer)\n",
        "  running_test_loss = loss_function(iv_ANN_2(Xtest),Ytest)\n",
        "  running_training_loss = loss_function(iv_ANN_2(Xtrain),Ytrain)\n",
        "\n",
        "  if epoch%5==0:\n",
        "    print(\"Test loss :\", running_test_loss.detach().numpy())\n",
        "    print(\" Training loss :\", running_training_loss.detach().numpy())\n",
        "\n",
        "\n",
        "  test_loss.append(running_test_loss.detach().numpy())\n",
        "  training_loss.append(running_training_loss.detach().numpy())\n",
        "\n",
        "  scheduler.step()\n",
        "\n",
        "print(\"Done!\")"
      ],
      "metadata": {
        "colab": {
          "base_uri": "https://localhost:8080/"
        },
        "id": "So0sQLedSZNO",
        "outputId": "b01066b8-5e22-48ef-efa5-cb7eefdbdad5"
      },
      "execution_count": null,
      "outputs": [
        {
          "output_type": "stream",
          "name": "stderr",
          "text": [
            "  2%|▏         | 1/60 [01:05<1:04:15, 65.35s/it]"
          ]
        },
        {
          "output_type": "stream",
          "name": "stdout",
          "text": [
            "Test loss : 0.00013774063\n",
            " Training loss : 0.00014322266\n"
          ]
        },
        {
          "output_type": "stream",
          "name": "stderr",
          "text": [
            " 10%|█         | 6/60 [05:58<53:11, 59.10s/it]"
          ]
        },
        {
          "output_type": "stream",
          "name": "stdout",
          "text": [
            "Test loss : 3.294881e-05\n",
            " Training loss : 2.415151e-05\n"
          ]
        },
        {
          "output_type": "stream",
          "name": "stderr",
          "text": [
            " 18%|█▊        | 11/60 [10:52<47:58, 58.74s/it]"
          ]
        },
        {
          "output_type": "stream",
          "name": "stdout",
          "text": [
            "Test loss : 1.4594879e-05\n",
            " Training loss : 1.0383299e-05\n"
          ]
        },
        {
          "output_type": "stream",
          "name": "stderr",
          "text": [
            " 27%|██▋       | 16/60 [15:48<43:00, 58.65s/it]"
          ]
        },
        {
          "output_type": "stream",
          "name": "stdout",
          "text": [
            "Test loss : 1.3448717e-05\n",
            " Training loss : 9.473456e-06\n"
          ]
        },
        {
          "output_type": "stream",
          "name": "stderr",
          "text": [
            " 35%|███▌      | 21/60 [20:40<37:57, 58.40s/it]"
          ]
        },
        {
          "output_type": "stream",
          "name": "stdout",
          "text": [
            "Test loss : 7.2447056e-06\n",
            " Training loss : 4.643843e-06\n"
          ]
        },
        {
          "output_type": "stream",
          "name": "stderr",
          "text": [
            " 43%|████▎     | 26/60 [25:34<33:15, 58.70s/it]"
          ]
        },
        {
          "output_type": "stream",
          "name": "stdout",
          "text": [
            "Test loss : 7.08603e-06\n",
            " Training loss : 4.4410344e-06\n"
          ]
        },
        {
          "output_type": "stream",
          "name": "stderr",
          "text": [
            " 52%|█████▏    | 31/60 [30:28<28:23, 58.75s/it]"
          ]
        },
        {
          "output_type": "stream",
          "name": "stdout",
          "text": [
            "Test loss : 6.573434e-06\n",
            " Training loss : 4.054843e-06\n"
          ]
        },
        {
          "output_type": "stream",
          "name": "stderr",
          "text": [
            " 60%|██████    | 36/60 [35:22<23:28, 58.69s/it]"
          ]
        },
        {
          "output_type": "stream",
          "name": "stdout",
          "text": [
            "Test loss : 6.5311074e-06\n",
            " Training loss : 4.0255363e-06\n"
          ]
        },
        {
          "output_type": "stream",
          "name": "stderr",
          "text": [
            " 68%|██████▊   | 41/60 [40:19<18:45, 59.26s/it]"
          ]
        },
        {
          "output_type": "stream",
          "name": "stdout",
          "text": [
            "Test loss : 6.5076706e-06\n",
            " Training loss : 3.992786e-06\n"
          ]
        },
        {
          "output_type": "stream",
          "name": "stderr",
          "text": [
            " 77%|███████▋  | 46/60 [45:11<13:39, 58.50s/it]"
          ]
        },
        {
          "output_type": "stream",
          "name": "stdout",
          "text": [
            "Test loss : 6.5139943e-06\n",
            " Training loss : 3.987681e-06\n"
          ]
        },
        {
          "output_type": "stream",
          "name": "stderr",
          "text": [
            " 85%|████████▌ | 51/60 [50:06<08:50, 58.90s/it]"
          ]
        },
        {
          "output_type": "stream",
          "name": "stdout",
          "text": [
            "Test loss : 6.5116983e-06\n",
            " Training loss : 3.984569e-06\n"
          ]
        },
        {
          "output_type": "stream",
          "name": "stderr",
          "text": [
            " 93%|█████████▎| 56/60 [55:01<03:56, 59.12s/it]"
          ]
        },
        {
          "output_type": "stream",
          "name": "stdout",
          "text": [
            "Test loss : 6.5133117e-06\n",
            " Training loss : 3.984248e-06\n"
          ]
        },
        {
          "output_type": "stream",
          "name": "stderr",
          "text": [
            "100%|██████████| 60/60 [59:03<00:00, 59.05s/it]"
          ]
        },
        {
          "output_type": "stream",
          "name": "stdout",
          "text": [
            "Done!\n"
          ]
        },
        {
          "output_type": "stream",
          "name": "stderr",
          "text": [
            "\n"
          ]
        }
      ]
    },
    {
      "cell_type": "code",
      "source": [
        "plt.figure(figsize=(9,3))\n",
        "plt.plot(np.arange(1,61,1),np.log(np.array(training_loss)),'r',label=\"Training loss\")\n",
        "plt.plot(np.arange(1,61,1),np.log(np.array(test_loss)),'b',linestyle='dashed',label=\"Test loss\")\n",
        "plt.xlabel(\"Epochs\")\n",
        "plt.ylabel(\"Log MSE loss\")\n",
        "plt.legend()\n",
        "# plt.savefig(\"log_MSE_loss_new_new_IV_1mil_60_epochs.png\",dpi=1200)"
      ],
      "metadata": {
        "colab": {
          "base_uri": "https://localhost:8080/",
          "height": 311
        },
        "id": "3taRF88rgilL",
        "outputId": "169666df-bcf0-45d6-e65a-0fe90870528b"
      },
      "execution_count": null,
      "outputs": [
        {
          "output_type": "display_data",
          "data": {
            "text/plain": [
              "<Figure size 900x300 with 1 Axes>"
            ],
            "image/png": "[encoded data removed]"
          },
          "metadata": {}
        }
      ]
    },
    {
      "cell_type": "markdown",
      "source": [
        "We hope that this change makes the volatility surface smoother, and to a certain extent it does, although it is still not perfect."
      ],
      "metadata": {
        "id": "i0phEu1h_o3U"
      }
    },
    {
      "cell_type": "code",
      "source": [
        "S,mrs,r,volvol,v_bar,rho,sigma,L,N,a,b = 100, 1.5, 0.02, 0.3, 0.1, -0.05, 0.1, 50, 1500, -3, 5\n",
        "nbr = 10\n",
        "moneyness = np.linspace(0.7,1.3,nbr)\n",
        "time_to_maturities = np.linspace(0.5,1,nbr)\n",
        "\n",
        "prices = np.zeros((len(moneyness),len(time_to_maturities)))\n",
        "imp_vol = np.zeros((len(moneyness),len(time_to_maturities)))\n",
        "imp_vol_ann = np.zeros((len(moneyness),len(time_to_maturities)))\n",
        "\n",
        "\n",
        "X, Y = np.meshgrid(moneyness, time_to_maturities)\n",
        "\n",
        "for i in range(len(moneyness)):\n",
        "  K = S/moneyness[i]\n",
        "  for j in range(len(time_to_maturities)):\n",
        "    tau = time_to_maturities[j]\n",
        "    imp_vol[i,j] = implied_vol_(S,K,tau,mrs,r,volvol,v_bar,rho,sigma,L,N,a,b)\n",
        "    price = Heston_2(S,K,tau,mrs,r,volvol,v_bar,rho,sigma,L,N)\n",
        "    price_tilt = price - max(S-K*np.exp(-r*tau),0)*(S>K)\n",
        "    imp_vol_ann[i,j] = iv_ANN_2(torch.tensor([S/K,tau,mrs,r,volvol,v_bar,rho,sigma,np.log(price_tilt)-np.log(K)]).type(torch.float))"
      ],
      "metadata": {
        "id": "t8aGTGVogt-5"
      },
      "execution_count": null,
      "outputs": []
    },
    {
      "cell_type": "code",
      "source": [
        "import plotly.graph_objects as go\n",
        "fig = go.Figure(go.Surface(x=time_to_maturities,y=moneyness,z=imp_vol_ann,opacity=0.9, colorscale='Viridis'))\n",
        "fig.update_layout(scene = dict(\n",
        "                    xaxis_title='Time to maturity',\n",
        "                    yaxis_title='Moneyness',\n",
        "                    zaxis_title='ANN implied volatility'),\n",
        "                    width=800,\n",
        "                    height = 700,\n",
        "                    # margin=dict(r=20, b=10, l=10, t=10)\n",
        "                    )\n",
        "fig.show()"
      ],
      "metadata": {
        "colab": {
          "base_uri": "https://localhost:8080/",
          "height": 717
        },
        "id": "dTNO3fOUhiUm",
        "outputId": "43c76cd3-7db7-43ff-d6b2-1fbf1d50b0b0"
      },
      "execution_count": null,
      "outputs": [
        {
          "output_type": "display_data",
          "data": {
            "text/html": [
              "<html>\n",
              "<head><meta charset=\"utf-8\" /></head>\n",
              "<body>\n",
              "    <div>            <script src=\"https://cdnjs.cloudflare.com/ajax/libs/mathjax/2.7.5/MathJax.js?config=TeX-AMS-MML_SVG\"></script><script type=\"text/javascript\">if (window.MathJax && window.MathJax.Hub && window.MathJax.Hub.Config) {window.MathJax.Hub.Config({SVG: {font: \"STIX-Web\"}});}</script>                <script type=\"text/javascript\">window.PlotlyConfig = {MathJaxConfig: 'local'};</script>\n",
              "        <script src=\"https://cdn.plot.ly/plotly-2.18.2.min.js\"></script>                <div id=\"843c884b-20fb-4981-8a49-492274d533fd\" class=\"plotly-graph-div\" style=\"height:700px; width:800px;\"></div>            <script type=\"text/javascript\">                                    window.PLOTLYENV=window.PLOTLYENV || {};                                    if (document.getElementById(\"843c884b-20fb-4981-8a49-492274d533fd\")) {                    Plotly.newPlot(                        \"843c884b-20fb-4981-8a49-492274d533fd\",                        [{\"colorscale\":[[0.0,\"#440154\"],[0.1111111111111111,\"#482878\"],[0.2222222222222222,\"#3e4989\"],[0.3333333333333333,\"#31688e\"],[0.4444444444444444,\"#26828e\"],[0.5555555555555556,\"#1f9e89\"],[0.6666666666666666,\"#35b779\"],[0.7777777777777778,\"#6ece58\"],[0.8888888888888888,\"#b5de2b\"],[1.0,\"#fde725\"]],\"opacity\":0.9,\"x\":[0.5,0.5555555555555556,0.6111111111111112,0.6666666666666666,0.7222222222222222,0.7777777777777778,0.8333333333333333,0.8888888888888888,0.9444444444444444,1.0],\"y\":[0.7,0.7666666666666666,0.8333333333333333,0.9,0.9666666666666667,1.0333333333333332,1.1,1.1666666666666667,1.2333333333333334,1.3],\"z\":[[0.3201984167098999,0.31875452399253845,0.3186168372631073,0.318132609128952,0.3176485002040863,0.3164990544319153,0.31446772813796997,0.3139554262161255,0.31373903155326843,0.31271740794181824],[0.31822824478149414,0.3169460594654083,0.31509947776794434,0.3141864538192749,0.314085990190506,0.3136152923107147,0.31306910514831543,0.31235837936401367,0.3125309348106384,0.3121396601200104],[0.31298863887786865,0.3126060962677002,0.31170332431793213,0.3104510009288788,0.31062981486320496,0.3115357756614685,0.31162261962890625,0.3103189170360565,0.3101682960987091,0.31075361371040344],[0.3112732470035553,0.31071946024894714,0.30971559882164,0.3094155490398407,0.3093480169773102,0.31083759665489197,0.31175559759140015,0.31099891662597656,0.31033116579055786,0.3108226954936981],[0.3108791708946228,0.31082862615585327,0.31095626950263977,0.31127485632896423,0.31138312816619873,0.3134763240814209,0.31344473361968994,0.312593549489975,0.3113649785518646,0.3106156289577484],[0.31373563408851624,0.3128785490989685,0.3128823935985565,0.3132861852645874,0.31373557448387146,0.31493884325027466,0.3151032030582428,0.3143675923347473,0.3131999671459198,0.3121872544288635],[0.3140769302845001,0.3131786286830902,0.31306028366088867,0.31297406554222107,0.31363049149513245,0.3140414357185364,0.3143446743488312,0.3144674599170685,0.3143496811389923,0.31402161717414856],[0.3164973556995392,0.3149363100528717,0.31429407000541687,0.3147696852684021,0.3157612979412079,0.3160737156867981,0.3165375292301178,0.31742849946022034,0.3179920017719269,0.31758996844291687],[0.31780752539634705,0.31762826442718506,0.31709280610084534,0.3169427216053009,0.3176461160182953,0.3179111182689667,0.31737324595451355,0.3172757923603058,0.31704238057136536,0.31722405552864075],[0.32037514448165894,0.32013094425201416,0.3194320499897003,0.31944993138313293,0.31885021924972534,0.3175821602344513,0.31712695956230164,0.31709280610084534,0.31719139218330383,0.3171824514865875]],\"type\":\"surface\"}],                        {\"template\":{\"data\":{\"histogram2dcontour\":[{\"type\":\"histogram2dcontour\",\"colorbar\":{\"outlinewidth\":0,\"ticks\":\"\"},\"colorscale\":[[0.0,\"#0d0887\"],[0.1111111111111111,\"#46039f\"],[0.2222222222222222,\"#7201a8\"],[0.3333333333333333,\"#9c179e\"],[0.4444444444444444,\"#bd3786\"],[0.5555555555555556,\"#d8576b\"],[0.6666666666666666,\"#ed7953\"],[0.7777777777777778,\"#fb9f3a\"],[0.8888888888888888,\"#fdca26\"],[1.0,\"#f0f921\"]]}],\"choropleth\":[{\"type\":\"choropleth\",\"colorbar\":{\"outlinewidth\":0,\"ticks\":\"\"}}],\"histogram2d\":[{\"type\":\"histogram2d\",\"colorbar\":{\"outlinewidth\":0,\"ticks\":\"\"},\"colorscale\":[[0.0,\"#0d0887\"],[0.1111111111111111,\"#46039f\"],[0.2222222222222222,\"#7201a8\"],[0.3333333333333333,\"#9c179e\"],[0.4444444444444444,\"#bd3786\"],[0.5555555555555556,\"#d8576b\"],[0.6666666666666666,\"#ed7953\"],[0.7777777777777778,\"#fb9f3a\"],[0.8888888888888888,\"#fdca26\"],[1.0,\"#f0f921\"]]}],\"heatmap\":[{\"type\":\"heatmap\",\"colorbar\":{\"outlinewidth\":0,\"ticks\":\"\"},\"colorscale\":[[0.0,\"#0d0887\"],[0.1111111111111111,\"#46039f\"],[0.2222222222222222,\"#7201a8\"],[0.3333333333333333,\"#9c179e\"],[0.4444444444444444,\"#bd3786\"],[0.5555555555555556,\"#d8576b\"],[0.6666666666666666,\"#ed7953\"],[0.7777777777777778,\"#fb9f3a\"],[0.8888888888888888,\"#fdca26\"],[1.0,\"#f0f921\"]]}],\"heatmapgl\":[{\"type\":\"heatmapgl\",\"colorbar\":{\"outlinewidth\":0,\"ticks\":\"\"},\"colorscale\":[[0.0,\"#0d0887\"],[0.1111111111111111,\"#46039f\"],[0.2222222222222222,\"#7201a8\"],[0.3333333333333333,\"#9c179e\"],[0.4444444444444444,\"#bd3786\"],[0.5555555555555556,\"#d8576b\"],[0.6666666666666666,\"#ed7953\"],[0.7777777777777778,\"#fb9f3a\"],[0.8888888888888888,\"#fdca26\"],[1.0,\"#f0f921\"]]}],\"contourcarpet\":[{\"type\":\"contourcarpet\",\"colorbar\":{\"outlinewidth\":0,\"ticks\":\"\"}}],\"contour\":[{\"type\":\"contour\",\"colorbar\":{\"outlinewidth\":0,\"ticks\":\"\"},\"colorscale\":[[0.0,\"#0d0887\"],[0.1111111111111111,\"#46039f\"],[0.2222222222222222,\"#7201a8\"],[0.3333333333333333,\"#9c179e\"],[0.4444444444444444,\"#bd3786\"],[0.5555555555555556,\"#d8576b\"],[0.6666666666666666,\"#ed7953\"],[0.7777777777777778,\"#fb9f3a\"],[0.8888888888888888,\"#fdca26\"],[1.0,\"#f0f921\"]]}],\"surface\":[{\"type\":\"surface\",\"colorbar\":{\"outlinewidth\":0,\"ticks\":\"\"},\"colorscale\":[[0.0,\"#0d0887\"],[0.1111111111111111,\"#46039f\"],[0.2222222222222222,\"#7201a8\"],[0.3333333333333333,\"#9c179e\"],[0.4444444444444444,\"#bd3786\"],[0.5555555555555556,\"#d8576b\"],[0.6666666666666666,\"#ed7953\"],[0.7777777777777778,\"#fb9f3a\"],[0.8888888888888888,\"#fdca26\"],[1.0,\"#f0f921\"]]}],\"mesh3d\":[{\"type\":\"mesh3d\",\"colorbar\":{\"outlinewidth\":0,\"ticks\":\"\"}}],\"scatter\":[{\"fillpattern\":{\"fillmode\":\"overlay\",\"size\":10,\"solidity\":0.2},\"type\":\"scatter\"}],\"parcoords\":[{\"type\":\"parcoords\",\"line\":{\"colorbar\":{\"outlinewidth\":0,\"ticks\":\"\"}}}],\"scatterpolargl\":[{\"type\":\"scatterpolargl\",\"marker\":{\"colorbar\":{\"outlinewidth\":0,\"ticks\":\"\"}}}],\"bar\":[{\"error_x\":{\"color\":\"#2a3f5f\"},\"error_y\":{\"color\":\"#2a3f5f\"},\"marker\":{\"line\":{\"color\":\"#E5ECF6\",\"width\":0.5},\"pattern\":{\"fillmode\":\"overlay\",\"size\":10,\"solidity\":0.2}},\"type\":\"bar\"}],\"scattergeo\":[{\"type\":\"scattergeo\",\"marker\":{\"colorbar\":{\"outlinewidth\":0,\"ticks\":\"\"}}}],\"scatterpolar\":[{\"type\":\"scatterpolar\",\"marker\":{\"colorbar\":{\"outlinewidth\":0,\"ticks\":\"\"}}}],\"histogram\":[{\"marker\":{\"pattern\":{\"fillmode\":\"overlay\",\"size\":10,\"solidity\":0.2}},\"type\":\"histogram\"}],\"scattergl\":[{\"type\":\"scattergl\",\"marker\":{\"colorbar\":{\"outlinewidth\":0,\"ticks\":\"\"}}}],\"scatter3d\":[{\"type\":\"scatter3d\",\"line\":{\"colorbar\":{\"outlinewidth\":0,\"ticks\":\"\"}},\"marker\":{\"colorbar\":{\"outlinewidth\":0,\"ticks\":\"\"}}}],\"scattermapbox\":[{\"type\":\"scattermapbox\",\"marker\":{\"colorbar\":{\"outlinewidth\":0,\"ticks\":\"\"}}}],\"scatterternary\":[{\"type\":\"scatterternary\",\"marker\":{\"colorbar\":{\"outlinewidth\":0,\"ticks\":\"\"}}}],\"scattercarpet\":[{\"type\":\"scattercarpet\",\"marker\":{\"colorbar\":{\"outlinewidth\":0,\"ticks\":\"\"}}}],\"carpet\":[{\"aaxis\":{\"endlinecolor\":\"#2a3f5f\",\"gridcolor\":\"white\",\"linecolor\":\"white\",\"minorgridcolor\":\"white\",\"startlinecolor\":\"#2a3f5f\"},\"baxis\":{\"endlinecolor\":\"#2a3f5f\",\"gridcolor\":\"white\",\"linecolor\":\"white\",\"minorgridcolor\":\"white\",\"startlinecolor\":\"#2a3f5f\"},\"type\":\"carpet\"}],\"table\":[{\"cells\":{\"fill\":{\"color\":\"#EBF0F8\"},\"line\":{\"color\":\"white\"}},\"header\":{\"fill\":{\"color\":\"#C8D4E3\"},\"line\":{\"color\":\"white\"}},\"type\":\"table\"}],\"barpolar\":[{\"marker\":{\"line\":{\"color\":\"#E5ECF6\",\"width\":0.5},\"pattern\":{\"fillmode\":\"overlay\",\"size\":10,\"solidity\":0.2}},\"type\":\"barpolar\"}],\"pie\":[{\"automargin\":true,\"type\":\"pie\"}]},\"layout\":{\"autotypenumbers\":\"strict\",\"colorway\":[\"#636efa\",\"#EF553B\",\"#00cc96\",\"#ab63fa\",\"#FFA15A\",\"#19d3f3\",\"#FF6692\",\"#B6E880\",\"#FF97FF\",\"#FECB52\"],\"font\":{\"color\":\"#2a3f5f\"},\"hovermode\":\"closest\",\"hoverlabel\":{\"align\":\"left\"},\"paper_bgcolor\":\"white\",\"plot_bgcolor\":\"#E5ECF6\",\"polar\":{\"bgcolor\":\"#E5ECF6\",\"angularaxis\":{\"gridcolor\":\"white\",\"linecolor\":\"white\",\"ticks\":\"\"},\"radialaxis\":{\"gridcolor\":\"white\",\"linecolor\":\"white\",\"ticks\":\"\"}},\"ternary\":{\"bgcolor\":\"#E5ECF6\",\"aaxis\":{\"gridcolor\":\"white\",\"linecolor\":\"white\",\"ticks\":\"\"},\"baxis\":{\"gridcolor\":\"white\",\"linecolor\":\"white\",\"ticks\":\"\"},\"caxis\":{\"gridcolor\":\"white\",\"linecolor\":\"white\",\"ticks\":\"\"}},\"coloraxis\":{\"colorbar\":{\"outlinewidth\":0,\"ticks\":\"\"}},\"colorscale\":{\"sequential\":[[0.0,\"#0d0887\"],[0.1111111111111111,\"#46039f\"],[0.2222222222222222,\"#7201a8\"],[0.3333333333333333,\"#9c179e\"],[0.4444444444444444,\"#bd3786\"],[0.5555555555555556,\"#d8576b\"],[0.6666666666666666,\"#ed7953\"],[0.7777777777777778,\"#fb9f3a\"],[0.8888888888888888,\"#fdca26\"],[1.0,\"#f0f921\"]],\"sequentialminus\":[[0.0,\"#0d0887\"],[0.1111111111111111,\"#46039f\"],[0.2222222222222222,\"#7201a8\"],[0.3333333333333333,\"#9c179e\"],[0.4444444444444444,\"#bd3786\"],[0.5555555555555556,\"#d8576b\"],[0.6666666666666666,\"#ed7953\"],[0.7777777777777778,\"#fb9f3a\"],[0.8888888888888888,\"#fdca26\"],[1.0,\"#f0f921\"]],\"diverging\":[[0,\"#8e0152\"],[0.1,\"#c51b7d\"],[0.2,\"#de77ae\"],[0.3,\"#f1b6da\"],[0.4,\"#fde0ef\"],[0.5,\"#f7f7f7\"],[0.6,\"#e6f5d0\"],[0.7,\"#b8e186\"],[0.8,\"#7fbc41\"],[0.9,\"#4d9221\"],[1,\"#276419\"]]},\"xaxis\":{\"gridcolor\":\"white\",\"linecolor\":\"white\",\"ticks\":\"\",\"title\":{\"standoff\":15},\"zerolinecolor\":\"white\",\"automargin\":true,\"zerolinewidth\":2},\"yaxis\":{\"gridcolor\":\"white\",\"linecolor\":\"white\",\"ticks\":\"\",\"title\":{\"standoff\":15},\"zerolinecolor\":\"white\",\"automargin\":true,\"zerolinewidth\":2},\"scene\":{\"xaxis\":{\"backgroundcolor\":\"#E5ECF6\",\"gridcolor\":\"white\",\"linecolor\":\"white\",\"showbackground\":true,\"ticks\":\"\",\"zerolinecolor\":\"white\",\"gridwidth\":2},\"yaxis\":{\"backgroundcolor\":\"#E5ECF6\",\"gridcolor\":\"white\",\"linecolor\":\"white\",\"showbackground\":true,\"ticks\":\"\",\"zerolinecolor\":\"white\",\"gridwidth\":2},\"zaxis\":{\"backgroundcolor\":\"#E5ECF6\",\"gridcolor\":\"white\",\"linecolor\":\"white\",\"showbackground\":true,\"ticks\":\"\",\"zerolinecolor\":\"white\",\"gridwidth\":2}},\"shapedefaults\":{\"line\":{\"color\":\"#2a3f5f\"}},\"annotationdefaults\":{\"arrowcolor\":\"#2a3f5f\",\"arrowhead\":0,\"arrowwidth\":1},\"geo\":{\"bgcolor\":\"white\",\"landcolor\":\"#E5ECF6\",\"subunitcolor\":\"white\",\"showland\":true,\"showlakes\":true,\"lakecolor\":\"white\"},\"title\":{\"x\":0.05},\"mapbox\":{\"style\":\"light\"}}},\"scene\":{\"xaxis\":{\"title\":{\"text\":\"Time to maturity\"}},\"yaxis\":{\"title\":{\"text\":\"Moneyness\"}},\"zaxis\":{\"title\":{\"text\":\"ANN implied volatility\"}}},\"width\":800,\"height\":700},                        {\"responsive\": true}                    ).then(function(){\n",
              "                            \n",
              "var gd = document.getElementById('843c884b-20fb-4981-8a49-492274d533fd');\n",
              "var x = new MutationObserver(function (mutations, observer) {{\n",
              "        var display = window.getComputedStyle(gd).display;\n",
              "        if (!display || display === 'none') {{\n",
              "            console.log([gd, 'removed!']);\n",
              "            Plotly.purge(gd);\n",
              "            observer.disconnect();\n",
              "        }}\n",
              "}});\n",
              "\n",
              "// Listen for the removal of the full notebook cells\n",
              "var notebookContainer = gd.closest('#notebook-container');\n",
              "if (notebookContainer) {{\n",
              "    x.observe(notebookContainer, {childList: true});\n",
              "}}\n",
              "\n",
              "// Listen for the clearing of the current output cell\n",
              "var outputEl = gd.closest('.output');\n",
              "if (outputEl) {{\n",
              "    x.observe(outputEl, {childList: true});\n",
              "}}\n",
              "\n",
              "                        })                };                            </script>        </div>\n",
              "</body>\n",
              "</html>"
            ]
          },
          "metadata": {}
        }
      ]
    },
    {
      "cell_type": "markdown",
      "source": [
        "We can also plot the difference between the surface given by the ANN and the one given by Brent's method in a sort of heatmap to see how far off we are from the correct values. The map shows that although the surface isn't very smooth, the error is not so bad."
      ],
      "metadata": {
        "id": "1Rz_2q30_2Xd"
      }
    },
    {
      "cell_type": "code",
      "source": [
        "S,mrs,r,volvol,v_bar,rho,sigma,L,N,a,b = 100, 1.5, 0.02, 0.3, 0.1, -0.05, 0.1, 50, 1500, -3, 5\n",
        "nbr = 50\n",
        "moneyness = np.linspace(0.7,1.3,nbr)\n",
        "time_to_maturities = np.linspace(0.5,1,nbr)\n",
        "\n",
        "prices = np.zeros((len(moneyness),len(time_to_maturities)))\n",
        "imp_vol = np.zeros((len(moneyness),len(time_to_maturities)))\n",
        "imp_vol_ann = np.zeros((len(moneyness),len(time_to_maturities)))\n",
        "\n",
        "\n",
        "X, Y = np.meshgrid(moneyness, time_to_maturities)\n",
        "\n",
        "for i in range(len(moneyness)):\n",
        "  K = S/moneyness[i]\n",
        "  for j in range(len(time_to_maturities)):\n",
        "    tau = time_to_maturities[j]\n",
        "    imp_vol[i,j] = implied_vol_(S,K,tau,mrs,r,volvol,v_bar,rho,sigma,L,N,a,b)\n",
        "    price = Heston_2(S,K,tau,mrs,r,volvol,v_bar,rho,sigma,L,N)\n",
        "    price_tilt = price - max(S-K*np.exp(-r*tau),0)*(S>K)\n",
        "    imp_vol_ann[i,j] = iv_ANN_2(torch.tensor([S/K,tau,mrs,r,volvol,v_bar,rho,sigma,np.log(price_tilt)-np.log(K)]).type(torch.float))\n",
        "\n",
        "diff = imp_vol - imp_vol_ann\n",
        "fig = px.imshow(diff,color_continuous_scale='Viridis',x=moneyness,y=time_to_maturities)\n",
        "fig.show()"
      ],
      "metadata": {
        "colab": {
          "base_uri": "https://localhost:8080/",
          "height": 542
        },
        "id": "ub0JIyCumr1u",
        "outputId": "506d978f-372c-4a35-c487-beef36345422"
      },
      "execution_count": null,
      "outputs": [
        {
          "output_type": "display_data",
          "data": {
            "text/html": [
              "<html>\n",
              "<head><meta charset=\"utf-8\" /></head>\n",
              "<body>\n",
              "    <div>            <script src=\"https://cdnjs.cloudflare.com/ajax/libs/mathjax/2.7.5/MathJax.js?config=TeX-AMS-MML_SVG\"></script><script type=\"text/javascript\">if (window.MathJax && window.MathJax.Hub && window.MathJax.Hub.Config) {window.MathJax.Hub.Config({SVG: {font: \"STIX-Web\"}});}</script>                <script type=\"text/javascript\">window.PlotlyConfig = {MathJaxConfig: 'local'};</script>\n",
              "        <script src=\"https://cdn.plot.ly/plotly-2.18.2.min.js\"></script>                <div id=\"85e0ffad-6e1e-477e-9df4-222978ace338\" class=\"plotly-graph-div\" style=\"height:525px; width:100%;\"></div>            <script type=\"text/javascript\">                                    window.PLOTLYENV=window.PLOTLYENV || {};                                    if (document.getElementById(\"85e0ffad-6e1e-477e-9df4-222978ace338\")) {                    Plotly.newPlot(                        \"85e0ffad-6e1e-477e-9df4-222978ace338\",                        [{\"coloraxis\":\"coloraxis\",\"name\":\"0\",\"x\":[0.7,0.7122448979591837,0.7244897959183673,0.736734693877551,0.7489795918367347,0.7612244897959183,0.773469387755102,0.7857142857142857,0.7979591836734694,0.810204081632653,0.8224489795918367,0.8346938775510204,0.846938775510204,0.8591836734693877,0.8714285714285714,0.883673469387755,0.8959183673469387,0.9081632653061225,0.9204081632653061,0.9326530612244898,0.9448979591836735,0.9571428571428571,0.9693877551020408,0.9816326530612245,0.9938775510204081,1.0061224489795917,1.0183673469387755,1.030612244897959,1.0428571428571427,1.0551020408163265,1.0673469387755101,1.079591836734694,1.0918367346938775,1.1040816326530611,1.116326530612245,1.1285714285714286,1.1408163265306124,1.153061224489796,1.1653061224489796,1.1775510204081634,1.189795918367347,1.2020408163265306,1.2142857142857144,1.226530612244898,1.2387755102040816,1.2510204081632654,1.263265306122449,1.2755102040816326,1.2877551020408164,1.3],\"y\":[0.5,0.5102040816326531,0.5204081632653061,0.5306122448979592,0.5408163265306123,0.5510204081632653,0.5612244897959183,0.5714285714285714,0.5816326530612245,0.5918367346938775,0.6020408163265306,0.6122448979591837,0.6224489795918368,0.6326530612244898,0.6428571428571428,0.6530612244897959,0.6632653061224489,0.673469387755102,0.6836734693877551,0.6938775510204082,0.7040816326530612,0.7142857142857143,0.7244897959183674,0.7346938775510203,0.7448979591836735,0.7551020408163265,0.7653061224489796,0.7755102040816326,0.7857142857142857,0.7959183673469388,0.8061224489795917,0.8163265306122449,0.8265306122448979,0.8367346938775511,0.846938775510204,0.8571428571428571,0.8673469387755102,0.8775510204081632,0.8877551020408163,0.8979591836734693,0.9081632653061225,0.9183673469387754,0.9285714285714286,0.9387755102040816,0.9489795918367346,0.9591836734693877,0.9693877551020408,0.9795918367346939,0.9897959183673469,1.0],\"z\":[[-0.0022929201742197813,-0.002179833503758055,-0.0019935058884459345,-0.0017720868042889193,-0.0015372988681061073,-0.0015141411175534913,-0.0015169020603384986,-0.0015785553555343057,-0.0017119839934837677,-0.0018230770699130816,-0.001908975136665103,-0.0019803460188881905,-0.0019928695195940427,-0.002003968050889704,-0.0019799858041717466,-0.00198838410311597,-0.0020205965579115914,-0.0019289972965464974,-0.0018192784706632104,-0.0018761365889982118,-0.0020051083130996905,-0.0020188052665524037,-0.001986763585155482,-0.0019427553888972104,-0.0018759971698860678,-0.0017903372716537302,-0.0016412836416895837,-0.0013402954258696642,-0.0010040794416361076,-0.0006562987840991741,-0.0003502392276675259,-5.4696174089541305e-05,0.00026633390032027027,0.0004568686754530815,0.0005455817056825851,0.0005482725974469416,0.000553489053909284,0.0005527728208565841,0.0005590642897204678,0.0005389915985435367,0.0005086552753978957,0.00047456001572065976,0.0004452375696515909,0.00044847246712925726,0.0005296628739274167,0.0006629202486371777,0.0008014352530676949,0.0009450396034605402,0.0010842670984964053,0.0012268180692683317],[-0.0018911041293436792,-0.0016733702671174466,-0.0017488640308366277,-0.0018076435346612851,-0.0018545630871221186,-0.0019381918186826552,-0.00214315497191242,-0.0023192014185267062,-0.0024252122494445305,-0.0025449069370681032,-0.002716463759336707,-0.002873034634997995,-0.00297673660527481,-0.0030383215826271792,-0.002982023012678192,-0.0029068926135784046,-0.002772028404121718,-0.002544155946215043,-0.0023453585852559744,-0.002224583160800764,-0.002160262716480177,-0.0020790026522076732,-0.0019480276161050192,-0.0017121496697874439,-0.0014585454076948556,-0.001203073365461771,-0.0009679091349219515,-0.0007176492399475487,-0.0004696691879743642,-0.00033310495519256467,-0.00019530279649576654,-4.916799514181891e-05,0.00010384165918791988,0.0003075984345458638,0.0004954384784284227,0.0004592865818175973,0.00040707878931772745,0.00034615232293966347,0.0002796428624272651,0.00023113104315553024,0.00021522754277863987,0.0002124795058580098,0.0002472141912512327,0.0003287091701222322,0.00047059362135426497,0.0005956895004800011,0.000726388760318275,0.0008658910823949872,0.0009862233315508506,0.001097768356830009],[-0.002046757908556518,-0.0021593008229662813,-0.002219920530650288,-0.0023314072333090463,-0.0025389375496214783,-0.0027131307440069197,-0.002887530707005481,-0.003036221449359111,-0.00317721173518537,-0.003302131738221581,-0.0034043667324384908,-0.0035015581119282047,-0.003595966540369311,-0.0036019631144146858,-0.003544214999630757,-0.0033669805423762744,-0.0030338279964211012,-0.002734702199780059,-0.0024344195182969264,-0.002124408176878756,-0.0018977506164675195,-0.0016630216847182688,-0.0014375435788830382,-0.001205884497738563,-0.0009821157657708413,-0.0008441143728734057,-0.0008141451297227209,-0.0008058721946532788,-0.0007365946715393035,-0.0006350714598285512,-0.0005243087645463995,-0.0004078808710414328,-0.0002661750900131987,-7.165058151015202e-05,0.00015161657247214633,0.00022630741846008107,0.00017024925211062136,0.00012310187885117285,9.276962820653489e-05,0.0001070951517298524,0.0001561323031011863,0.00018004637475094176,0.00021472822790241652,0.0003203581031179237,0.0004160027204317962,0.0005219379428264559,0.0006346578221783084,0.0007523257683059725,0.0008754301866518155,0.000980290200842393],[-0.0020793327237697556,-0.0022938354111849413,-0.0025768063682750086,-0.002797206461419899,-0.002992314420510067,-0.0031773203366276537,-0.003325358578825044,-0.003452653450751464,-0.00356797481885629,-0.003618666441463525,-0.0036188558526361048,-0.003524791511305192,-0.0033921694971588146,-0.003230519574970503,-0.0030231431386273377,-0.0027027350832451447,-0.0023394664138292054,-0.002008930300574363,-0.0016604457361305003,-0.0013293693993188804,-0.0011531294080488474,-0.0010079053023859808,-0.0010387518418950026,-0.0010772319033336974,-0.0011054387127583665,-0.001120037717410649,-0.001124667054658468,-0.0011021022390545476,-0.0010736820450107376,-0.001008977715451942,-0.000889778592067958,-0.0007564943722085382,-0.0005559546863022069,-0.00032040188129117686,-5.4242228264944625e-05,0.0001689772900185793,0.00019133996374576245,0.00016997005612623406,0.00015342256312389502,0.00010779003091793138,6.315114242666509e-05,5.828738978769232e-05,0.00014694154280731064,0.0002467198562620121,0.00035143359987904743,0.00046610017698395234,0.0005603918816777242,0.0005773679648017893,0.0006084738572977866,0.0006288667320068497],[-0.002479052186555586,-0.0027679552948190467,-0.003061569599154268,-0.0032754068387336743,-0.0033898825984969294,-0.0034611946831979434,-0.003492309332099486,-0.0034437500721208325,-0.003343479247738035,-0.0031945111482284405,-0.0029686538114829797,-0.0027300101082586847,-0.0025102254539517976,-0.0022523106430862305,-0.0019871015841609885,-0.001614599833683561,-0.00126040852450382,-0.0010413074368197939,-0.0009514678572520863,-0.0009554955437452439,-0.0010139118151955007,-0.0010705770663307357,-0.0010745955611473068,-0.0010711827931125795,-0.0010580779683890817,-0.001005183802826548,-0.0009212045760243481,-0.0008326653525987937,-0.0007693088961603922,-0.0007168292339352345,-0.0006402665241465044,-0.0005169386635501816,-0.00042298726821049515,-0.0002947505177371412,-8.665588664241719e-05,0.00010790160161766593,0.0001994614828977337,0.00017607975947703247,0.00013894265028741026,0.00010707194874415293,8.747966763200665e-05,0.00013781250000571843,0.0002471127077792734,0.0003126616988098352,0.0003173038277758389,0.00029720026689888934,0.0002863966707866705,0.00027888480528681647,0.00027431929610310934,0.00027420291821017573],[-0.003035269394452922,-0.0032643000493542407,-0.0032374998500577234,-0.0031516544588621187,-0.00304761821433841,-0.0029221031630157213,-0.002707652359572099,-0.002451662823745704,-0.0022010509168400305,-0.0019469991579176282,-0.0017139760492022038,-0.001485558353300498,-0.0012563171680461949,-0.001017274600220941,-0.0008233168062247165,-0.0007173472501197375,-0.0006181705191765641,-0.0006042105710937773,-0.000619302332545868,-0.000623759785199407,-0.0006794915020119641,-0.0008507590082566518,-0.0008627316601700352,-0.0008261003905858377,-0.0007359219280589913,-0.0006397635662973022,-0.000557028338685317,-0.0004939754453607836,-0.0004876191243308736,-0.0004430080239228307,-0.00043485454628161557,-0.0004106441567916508,-0.00033416340598418914,-0.00019303995273445285,-2.4044769162567814e-05,0.00014976092632584814,0.00023557913748839532,0.0002897731210966814,0.0002195163122250543,0.00018533226893224786,0.00013871161813572286,0.00010988325958483092,6.380952430407039e-05,4.6813582054383573e-05,3.4706788898664076e-05,2.85733346360173e-05,3.203105508903237e-05,4.12774414664252e-05,5.516281114870125e-05,7.3312747878862e-05],[-0.002940628102313436,-0.002840457178505229,-0.0026313106061106595,-0.002461306418674203,-0.0022759311267920856,-0.001993933537744186,-0.001747651137255779,-0.0014332338425503965,-0.0011472185815171176,-0.0008681215976327206,-0.0006157023483295276,-0.0005174229375567996,-0.0005228526890873053,-0.0005232352702486676,-0.0004405382164819893,-0.0002814549068131944,-0.0001423220984060336,-8.69603442640865e-05,-4.492898907576537e-05,-1.0665400695331062e-05,8.905847702633807e-07,-0.0001767144405025456,-0.00031675049581647574,-0.00034102110492750803,-0.00038381915221108454,-0.00041147050157008813,-0.0004532126492128863,-0.00047560779350735993,-0.000450849810388676,-0.0004151172467270481,-0.0003526721382338116,-0.0002758196757370879,-0.00015415753413777766,1.151433317292394e-05,0.0002004291366211608,0.00039381753058698177,0.00047340087444874834,0.00045384931984415733,0.0003982623988433853,0.0002288348457756273,0.00012036643953822201,1.642127838019647e-05,-8.313943370685806e-05,-0.00010257728008306044,-4.4265249009745045e-05,1.9835713620686146e-05,4.577929416915705e-05,4.6989083617943184e-05,5.1671044535017696e-05,5.3639665410498694e-05],[-0.002301326770405898,-0.0020863536914846326,-0.0019484494794565488,-0.0017814284766754507,-0.001530419128714433,-0.001211206201815862,-0.0008923200328126435,-0.0006301274688503278,-0.0005601763391465675,-0.0005235044499264374,-0.00045392104578584336,-0.00040801800076639694,-0.00035321592836062843,-0.00028965588393992103,-0.00010756563370994954,8.28880750189942e-05,0.0002556426565594183,0.0003201749733787729,0.0003757448246240469,0.00038273482206790943,0.00037624353196569205,0.0001721450753961462,-2.7685394493659476e-05,-0.0001853736309473386,-0.00023455316578591123,-0.0002859119917758557,-0.0002975193378178531,-0.00029756827753779636,-0.00028289887733495833,-0.00026355271572076067,-0.00023553360542205581,-0.00017353586837381973,-4.8021105106210715e-05,6.326147885921118e-05,0.0002085378167301366,0.00035291585519636737,0.0004841539672615358,0.0005211081903521153,0.0005463989314540285,0.0005408126457538409,0.00044454558639361874,0.00035202156451291655,0.00025714167722534764,0.00017085445036413294,0.00012565597117231153,8.633191565382559e-05,4.9795312417610926e-05,3.2807970526127495e-05,9.015988139376985e-05,0.0001542135018094415],[-0.0016026149750279495,-0.0014137229794678463,-0.0011302857011668554,-0.0009174075084006361,-0.0007619098240147504,-0.0006737357187317494,-0.0005677841433826547,-0.0004545855834570678,-0.0003160863249139223,-0.0002012248158853036,-0.00010290795833051147,-5.126282472828203e-05,3.570004420971884e-07,0.00015641694156232067,0.0003513028901547255,0.00049085226908685,0.0005882524733635819,0.0005905912183481465,0.0005965325793554355,0.0006112225801211402,0.0006308680814465784,0.0004915197033611984,0.0002855293949559079,9.088565841114393e-05,1.79066591549093e-06,-1.984478302591297e-05,-3.258300827890803e-05,-3.0940119307099057e-05,8.152111899639713e-06,-9.181480872311187e-06,-2.4435915533527197e-05,-1.993561430602142e-06,0.00011954301429117908,0.0003021216518338532,0.00040821076265207257,0.0004895838018257881,0.000574828679930639,0.0005873913487718374,0.0006227671759933551,0.0006870451463225624,0.0006276472414260548,0.0005521106524105646,0.00046080393839204037,0.000347539648941797,0.00026519901522920053,0.00022145361299563682,0.0002158394312941625,0.00022205427850274795,0.00022145557799052584,0.00030078216921480827],[-0.000714439489155283,-0.0005281869668067318,-0.00046031313466060597,-0.0004299930482415393,-0.00039177170768817104,-0.00033851497866754787,-0.00020169145795240206,-5.969109441411602e-05,5.368418933754393e-05,0.00019061561530553384,0.0002985026066003593,0.000287494604737093,0.00033352085997540026,0.0004368582320213865,0.0005599667501324235,0.0007013992090312837,0.0008192090520923179,0.0008484740022605686,0.000902014580413224,0.000960718064189181,0.0010176922140922584,0.0009428136311543378,0.0007380739661085878,0.0005121882632015407,0.0003442492632233507,0.0003636869680678778,0.000350559831626851,0.0003367867551062331,0.00033756850530458626,0.0003128830655739212,0.00026762139404823415,0.00020575140992429297,0.0001953466219685729,0.00024013808270162418,0.00032430724502541253,0.00041183027941699146,0.0005006586663834911,0.0006239112614791487,0.0006909980885870803,0.0007623381232828019,0.0008185700843482691,0.0007385881017768492,0.000669239504437924,0.0006366429123488837,0.000685722691813162,0.00079378220307047,0.0008954483277083813,0.0009584587588630233,0.001028037644442592,0.0010040040038575282],[-8.356706821777138e-05,-5.3989341024018866e-05,-1.2449646210888066e-05,4.1202653734973005e-05,6.560893197576911e-05,9.621603451948069e-05,0.00020832096757772423,0.00025942943912810046,0.00028491114952622354,0.0003286924932370261,0.00039518513980624226,0.0005270698503278548,0.0006646292953270683,0.000813058094051855,0.0009802055835082535,0.001156518692821018,0.0013110184842251016,0.0013729417843757474,0.0014018825263172885,0.0014532341494414847,0.0014852360554458155,0.0014483506802295265,0.001284935583221014,0.0010899970960984162,0.0008144783291648694,0.0006442552388524203,0.0005472008708854448,0.0004543536215380062,0.0003568939422923245,0.00025059276235939176,0.0001977704718493789,0.00017700376800844353,0.00018046000109389615,0.00021985760241388652,0.00027845450892777235,0.0003545297197761199,0.00043408433890679277,0.0006082328969325146,0.0008041181509855222,0.0009754373134431282,0.0011493806823222874,0.0012554172789802087,0.0012787171819211851,0.0013350745465898206,0.001369874328274956,0.0013366379780242466,0.0012810957775417076,0.0011521208902366409,0.0010263196478175751,0.0009039750346780395],[0.000420808891128166,0.00043322637915688134,0.0004705866539504999,0.0004533793533250674,0.0004120402122754774,0.00037653298015832837,0.00041583707296538597,0.00047045814237078876,0.0005229864332694234,0.0006106134534951679,0.0008242078340536252,0.0010328224179378398,0.001229013551184155,0.0014433082214244108,0.0016779235125506387,0.0018804509965582583,0.0019818247431673264,0.00201469601229165,0.0019877567394243623,0.001936910012627302,0.0018597644669251512,0.0017334559805199379,0.0014588874447974964,0.001195438569027485,0.0009359846913565284,0.0006881842397131188,0.0005405802217265387,0.00040641940499974716,0.00027652497019015065,0.0001455953191599746,7.15106511353647e-05,5.564679593605959e-05,9.070789732323892e-05,0.00024751074552059604,0.0004103103140696285,0.0005750017666985019,0.0007997081769318681,0.0010807134319010814,0.001309874687338064,0.0013982125736878293,0.00148613675494369,0.0015544361924948458,0.0015375875541339679,0.0014084533945708522,0.0012284394455551184,0.0010746875246597232,0.0009508175631004478,0.0008379193635249527,0.0007283782209339118,0.0006249510363835475],[0.0012481763982324923,0.0011427694292601709,0.0010343991972292521,0.0009439599965661016,0.0008936627111644779,0.0009032494474765507,0.0009592371184956039,0.0010222782441755562,0.0012417373393610043,0.0015370573932229625,0.0018290256234312352,0.0021188984042317394,0.002360549081559693,0.0024567722963375616,0.00244781329555549,0.002445415233849002,0.002415351481810546,0.0023172579905062496,0.002203696090723184,0.002104042534989692,0.002025502676051505,0.0019264074938334375,0.0016231706604490914,0.0013012492797573882,0.0009565588872940678,0.0006157721510479663,0.00043299754604264606,0.00033361173851170767,0.00029750081132640105,0.00027349774415269534,0.00030622105340799566,0.0004070604966124325,0.000459256636426042,0.0005450110946242925,0.0006608743391282035,0.0007808073661971782,0.0009765532505974228,0.0011178853588898474,0.0012615574325169354,0.0013839171264539152,0.0013803695440352537,0.001335147837135231,0.0012965738722008902,0.0011420238878255828,0.0009767729566686478,0.0008086430142984491,0.0006639934812123216,0.0005553559248713813,0.0004505886409580384,0.0003525978514402617],[0.00170418693472707,0.0015586574925983143,0.0013964467506453748,0.0013309560653710362,0.0012799993940339482,0.001362978380987756,0.0014679436062048912,0.0016205469677948448,0.0018011743025686533,0.001996979946364663,0.0022018864690823148,0.0024136638103183783,0.002580463697939961,0.0026031738384199588,0.0026122217120918,0.0025945387451278834,0.002525256628018946,0.0024422129903063916,0.00235296803510876,0.0022717891118965716,0.002220246662945624,0.0021210284566374193,0.0018392157216745586,0.001607383391572681,0.0013686078419453684,0.0011264354928575693,0.0009791852219784292,0.0008660027191943476,0.0007698738544525963,0.0006764080173863873,0.000591987686581974,0.0005687427337207063,0.0005609627951707052,0.0005755095565165291,0.0006282159207174898,0.0008106133759266387,0.0009688119417837204,0.0010865195885621515,0.0011447924815785604,0.0012024118197471179,0.0011598196165285013,0.001106524349888116,0.001064204922433698,0.0009963367918061627,0.0008018738597111441,0.0006110961085508126,0.0004537607249108233,0.0003427572025846981,0.00024901377204705755,0.00015764496131487338],[0.0021827019996842334,0.0020701629738127947,0.0018371344690755187,0.0016203537273454804,0.001511651091163857,0.0015501711352710612,0.0016659862671583037,0.0018014812205590647,0.0019561456209394312,0.0021557878950962395,0.00230552015317792,0.0024479950769398795,0.0025125297576066297,0.002536179131721217,0.0025405926114496213,0.002567776714042458,0.0025608558268753745,0.0026046960281205234,0.0026321732789034713,0.00264101501015257,0.0025796273300103256,0.002498788750270875,0.0022120526401542273,0.0019157546640323764,0.0016237818639616153,0.0013433764938032833,0.0012255482796039163,0.0011339837701023203,0.0010126877335601137,0.0008382397888742066,0.0006774916567259814,0.0005784608153510673,0.0005658601130736352,0.0005979737712674682,0.0006700118042320402,0.000752597993776194,0.000838023063578941,0.000904899096657974,0.000958958888265582,0.0010175289109913277,0.0010839588987143212,0.0010535358926960225,0.0010212230016501955,0.0009913251572924442,0.000885744339341521,0.000693617016986503,0.0005165838623132912,0.00036190201056940374,0.0002573926030034479,0.00018432594246814427],[0.0020974542747391745,0.0020428596152943235,0.0019006729720942306,0.0017800353161047666,0.0018287463843562057,0.0018748913000385947,0.001987690074188142,0.0020658079657846495,0.0021536174025851285,0.002250433030639265,0.0023966103631685165,0.002452322908961413,0.0025326758690896733,0.0026855726443434924,0.002785618395472589,0.002822367948729365,0.002798342109275931,0.002784400241233498,0.002814686969452307,0.002843120677271327,0.0027917625778256516,0.0027208090701628107,0.002467357706252171,0.00217779580130828,0.001899657557941803,0.0015604345495686678,0.0013605192805997701,0.0011778143338062597,0.0010053496202670487,0.0008324902740436957,0.000662668989100168,0.0004567019602434441,0.00030492705819190613,0.0002917224355253878,0.00039978143303814884,0.0005115728615728288,0.0006278217974899358,0.0007466015325689468,0.0008526047115285373,0.0009596116164943824,0.0010686774852677883,0.0011013752870452365,0.001071039845967181,0.0010515945920956948,0.0010327718606305547,0.0009159405496733664,0.0007743995854895824,0.0006390992106028448,0.0005439702999636697,0.00046664752757608063],[0.0013659074860754017,0.0013791339008986658,0.0013794214213725398,0.0015169495029656033,0.0015451741929470297,0.0015829922761614879,0.0016541757873401175,0.0017561256119332236,0.0020248270255692757,0.002214828684309056,0.0023118887100176955,0.002400443532759755,0.0024926317589314406,0.0025311550064578414,0.0025338487989463587,0.0025067788411259895,0.0024737153728472405,0.0025028359223756014,0.002544034311237342,0.0025912835993489036,0.002640584909921251,0.0025971331050009816,0.002331941115153946,0.0019908601438989315,0.0016311402757875348,0.0012688459062513147,0.0010639877080360072,0.0009012635040933636,0.0006846243702566257,0.00040146878954189225,0.00014210352390425784,-7.209661841872661e-05,-0.0002241369915794711,-0.00017805133623643998,-8.862414128663065e-05,1.75107680572828e-05,0.00013204863862947835,0.00025917251201390545,0.00040422831163600126,0.0005348625904902926,0.0006574952669785028,0.000792464465949827,0.0008483203019959418,0.000870316623788614,0.0008919358253230425,0.0009294648054902765,0.0008094693072677184,0.0006748969402561311,0.0005111606352330988,0.00036211606044644906],[0.001100255523678706,0.0011418606862102498,0.0011857270437559686,0.0013539609536154518,0.0014907969792142817,0.0015727370098898574,0.001646024595766682,0.001724571642999051,0.0018365987342404688,0.0019261977766665273,0.0020232347882676582,0.0020638204814052985,0.0020915353340610343,0.0021448660362023975,0.00216562278140775,0.0021780212695261536,0.0021753741372805835,0.0021705759650504364,0.002168476407721831,0.0021641515535538725,0.0021609938363202907,0.002146721076176916,0.0019200460902791816,0.0015993128530391032,0.001277832567588788,0.0008678982457268614,0.0005058280130388892,0.00023224573397928605,-3.86154253660953e-05,-0.00028177596998241183,-0.0005178531027696942,-0.0006882486399861221,-0.0007938788607892988,-0.0007554016514992323,-0.0006193890058444063,-0.00047085724055706546,-0.00029277887745832176,-0.00010925302825981476,7.529131679573364e-05,0.00026509820713133125,0.00043878223543403205,0.0006067873931658863,0.0007889459009836064,0.0007973086658128459,0.000799140934490572,0.0008007460523478116,0.000763843515441065,0.0006138838026344962,0.00044213790865627045,0.000300418933166291],[0.0010414749406630341,0.0010392089968421225,0.0011321016899096814,0.0012904768381243326,0.0014449963804610833,0.0015691527700898988,0.0016583175541169948,0.0017595433497819557,0.0017333237688342273,0.001699644500818387,0.0017264891842621033,0.00180671258445525,0.0018733289778130047,0.0019160092465645429,0.0018930446510623256,0.0018434332122666541,0.001753782401559767,0.0016793064433744398,0.0016587405694167279,0.0016691307894894925,0.0016827562331377943,0.0017013421206630297,0.0014902825771867523,0.001089988800679953,0.0007127133532383589,0.00033771534938970005,4.221518660513235e-05,-0.00019166495436367947,-0.00043249570042630525,-0.0006578900955687694,-0.0008578879015957996,-0.0009668871352260799,-0.0010181095436829213,-0.001015778480099594,-0.0008437450169014316,-0.0006521433081658201,-0.0004461781750227378,-0.0002447330933550429,-6.648233779882329e-05,0.00011403761670886192,0.0002954091374077761,0.00047564886240847315,0.0006402271463245568,0.0007617402151118835,0.0007785120800549161,0.0007978165565322715,0.0008224707417776034,0.0007419539069944969,0.0005619747717100498,0.0004011336293779366],[0.0014924851959473573,0.0014418745545283773,0.0013906144226125683,0.0014420370682039496,0.001569362782510464,0.0017043017554563278,0.0017854228624121782,0.0017997275621524644,0.0017169950744274631,0.001636856566052003,0.0015515684172823785,0.0015400251175380353,0.0015973195819935504,0.0016226432261927104,0.0016465285084843462,0.0016762641340207773,0.0016708013598044635,0.0016358828860267849,0.00157686566279025,0.0015176750631949454,0.001406718855461897,0.0013202581625396115,0.0010703578298864591,0.0006818129156702657,0.00032130850132006117,-8.292595486125709e-06,-0.00031455732674273706,-0.00048697485487136927,-0.0006607535531361619,-0.0008378845239365718,-0.0009758035520623931,-0.0010264917928901052,-0.0010770235632168168,-0.0011449138293966321,-0.0010357525469478213,-0.0008912694008346711,-0.0007329410699925543,-0.0005196289466616322,-0.0002979616812823216,-7.346996513574178e-05,0.0001456338348892472,0.00035992954852287484,0.0005525631377372164,0.0007332945096818477,0.0008581504370704374,0.00090780464852247,0.0009215524594169966,0.0008926748023881936,0.0007380398436314661,0.000549574964731292],[0.0017913487577377873,0.0018607501514410485,0.0018496707201081097,0.001781930813610555,0.0017630438605353849,0.0018821961066899928,0.001965423403657407,0.0019350566817342707,0.001848405061994407,0.0017634067153562416,0.0016837327402362545,0.0016196730864990183,0.0015485588726159016,0.0015711647910987003,0.0015930327136527977,0.0016004410456596507,0.0015673021357868189,0.0014798086725134052,0.0014018496683952941,0.0013370852081555085,0.0012335359110465238,0.0011587310918849125,0.0009492333691656363,0.0005685048778980573,0.00018585355295813732,-0.00018846656973825482,-0.0005596678228291796,-0.0007741747830403156,-0.0009738117150867587,-0.0011647418278146193,-0.0012152917485669379,-0.0012520840333423155,-0.001310336754141661,-0.001353264846617186,-0.0012931205831568926,-0.0011321585891802544,-0.0009683281161445012,-0.0007987863577305632,-0.0006049245016247484,-0.0003939121914447452,-0.00017235229682799336,5.0023576811886183e-05,0.00021562178156719902,0.00037306461583613837,0.000521383760453964,0.0006023610698470683,0.0006153867025542326,0.000653311298926762,0.0006682295175958752,0.0005587114160201523],[0.0020044631683803216,0.0019560351226716732,0.0019183927847484794,0.0019132412086091954,0.0018019538162714066,0.001720834899032353,0.001778148835709814,0.0017472154436747878,0.0016378692120385119,0.0015479838632260212,0.0014632005049166619,0.0013570632151035378,0.00124612333919899,0.0011537592917434392,0.0011314552524274157,0.0010959015242954506,0.0010285507499392388,0.000970879219378995,0.0009309862793697166,0.0009089858090989833,0.0009122649147905726,0.0008669113406605256,0.0006534165711866158,0.000232501162417853,-0.00019478725027893828,-0.0006102967955007865,-0.0010252894639223853,-0.0012975741124560125,-0.001515449833526361,-0.0015486446073871285,-0.001575607839898463,-0.001587122915428285,-0.0015943274491319048,-0.0016011461732947097,-0.001578005322270759,-0.0014445175142767108,-0.00128957193182494,-0.0011233790266789723,-0.0009594865379961015,-0.000766082517952904,-0.0005721512330390532,-0.000377827795990493,-0.00017853806851442222,1.8401426184311287e-05,0.0002313344109081128,0.00043485522841280044,0.0005272050842741738,0.0005739358191543253,0.0006430732488506563,0.0006384923657503094],[0.0016797838026665346,0.0015294299615631335,0.0015184137647871743,0.001551079378518505,0.0015705784041293303,0.0015204542731864223,0.0014499930897403646,0.001427319729583043,0.0013316753583930696,0.0012572088327820752,0.001196356588507974,0.0010621643644355694,0.000931652772156677,0.0008031070054273504,0.0006898645901077249,0.0006193317567780299,0.0005581496817834153,0.0004986807015832095,0.0004474150990071979,0.00039355935344992377,0.0003594615767203435,0.000327118899902723,0.00015932044904526377,-0.00028167988027422153,-0.0007424715674145821,-0.001205945624720206,-0.0016613399359654002,-0.0019422934902488809,-0.001997511123908169,-0.0020166187744611874,-0.0020239280674502758,-0.0020212192834348497,-0.002017364904196406,-0.0020124748125363023,-0.0019461296923671267,-0.0017775195006106137,-0.001572257667397492,-0.0014046295019959354,-0.0012301872913021428,-0.0010549977129227783,-0.0008503178089784846,-0.0006087425830382243,-0.0003745735869674083,-0.0001275600805492605,0.00011717376337810892,0.0003401232569514301,0.000497018392429216,0.0005691599495029065,0.0006383723203213232,0.0006971627032677508],[0.0014156805868552613,0.0012137052263231363,0.001140981683396547,0.0011539492289311393,0.0012057736382682926,0.001249684645626692,0.0012853777976907232,0.0011842831131134712,0.0011359439762072543,0.0010211250238501557,0.0008754466390157312,0.0007341146381923402,0.0006035780700249238,0.0004740460159962656,0.0003319150000699045,0.00014251329952053027,2.7781107487800938e-06,-6.530446760655284e-05,-0.00014864439002459928,-0.00023046779954388752,-0.0002700979375154233,-0.00030717395034463024,-0.00045852172418442416,-0.0008735100785515204,-0.001285257660473993,-0.0017059807924608705,-0.002144825141618789,-0.002373172484172126,-0.0024375983279777413,-0.002460881852096364,-0.002438992529649797,-0.0024379643096516523,-0.002438804368773251,-0.002422757590745228,-0.0023741378198225416,-0.0022200079910556503,-0.002021123639701805,-0.0017673399812167534,-0.001489549465657214,-0.0012443336017302076,-0.0009814320527938292,-0.000714152337669971,-0.0005071807010010865,-0.0002993775234583218,-0.0001116485384483612,5.3936012014921264e-05,0.00022594308075291059,0.00041455198023421236,0.0004938947970670737,0.0005573000639121362],[0.0012762022846044552,0.0010712202103049795,0.0010108876761442676,0.001018355390392467,0.0010881851338441773,0.0011415100729680328,0.0010845065589981662,0.0010221658663777666,0.0008599560644676485,0.0006751288937946187,0.0005111431132940325,0.0003458652119080474,0.0001854167313037336,2.5907911195721667e-05,-0.00013055862054028866,-0.0003109653242504562,-0.0005043544558192004,-0.0006753584401820167,-0.0007406263433616389,-0.0008165110738348469,-0.0008769090110292699,-0.0009285275477911026,-0.0010624729882679484,-0.001470492885475183,-0.0018761987849073014,-0.002243497291484098,-0.0024727852521082005,-0.002689525696212225,-0.0027258960916272112,-0.002757187182617804,-0.002787504355051207,-0.0028168991001619736,-0.002823517460606717,-0.002814234210989308,-0.0027506239226254836,-0.0025556069079840094,-0.0023346122897914823,-0.002038901187986497,-0.0017566162264892604,-0.0014954630222624998,-0.001233433760495728,-0.001006664462260276,-0.0007727913564382627,-0.0005284018512365374,-0.00030894514512869176,-0.00013547549383419177,5.0734068940516686e-05,0.00024707771985682525,0.00044928108017544544,0.0005266188789381787],[0.00039676462809751234,0.0004004786309979025,0.0004833290613918684,0.0005642949197199321,0.0006536145735192012,0.0007119991920279678,0.0007462382438476745,0.0008045798212180655,0.0008072743514062064,0.0007019040459058101,0.0005986256093931108,0.0005017703164803544,0.00037907461838609935,0.00024053691714764902,0.00010322086784919637,-6.033258137544406e-05,-0.0002000946153420946,-0.00031568537045273404,-0.0004121474002103387,-0.0004912434950526401,-0.0005613213419669583,-0.0006540625133399369,-0.0009598744946189841,-0.0012382220047302273,-0.001668095935804248,-0.002102418912565629,-0.002455803365391085,-0.0025523213199181716,-0.0026376275536923455,-0.0027185401773908713,-0.002745937529601561,-0.0027683295835563837,-0.002769107501392254,-0.00265569562331347,-0.002577512477450361,-0.0024570610697193795,-0.00221550269139964,-0.002025112414839436,-0.0018324717687064895,-0.0016325011120629784,-0.0014329948940383086,-0.0012400483393402717,-0.0010334109473986164,-0.0008240347958015093,-0.0006046623076582103,-0.00036282008101401475,-0.00012203551671119417,8.325672186099142e-05,0.00022762264570136415,0.0003654392444648602],[-3.458225961650019e-06,3.0148982261279933e-06,8.161565861369846e-05,0.00016330419209464875,0.00023531202385573824,0.0003692154661805169,0.0004629067634940309,0.00048154555734714055,0.00047806260486848995,0.00041750463688994266,0.00030357479468856585,0.0001997920719258306,9.71986191785068e-05,-2.311515154967969e-05,-0.0001564533054516648,-0.00033766564577208946,-0.0004387304676459203,-0.0005157729165383707,-0.0005916273508325687,-0.0006729439727788389,-0.0007622886613334323,-0.0009524674053088544,-0.0012327516794846671,-0.0015015743044042296,-0.0018297734251219722,-0.002237045351272504,-0.0025355718274125416,-0.0026463717370504014,-0.002746107391002117,-0.0028448154664070247,-0.002941683787719307,-0.002981301556547078,-0.002936867472291549,-0.002888927502078198,-0.0028397660489530296,-0.002655619278813859,-0.0024752649885312894,-0.002284117643235495,-0.0020877971268248308,-0.0018909095119996056,-0.0017125442900685073,-0.0015170137931879157,-0.0013163136030797662,-0.0010967790480960193,-0.0008765441024533027,-0.0006696892080904626,-0.0004899367786229125,-0.0003038317666013146,-9.618757580032167e-05,0.00010347926294074217],[-0.00032879124828805173,-0.00033174082988446374,-0.00029221908824988985,-0.00021292532836519884,2.389406347336198e-06,0.0001752008278443351,0.0002419956350532826,0.0002565063807211665,0.00024412685045982485,0.00018146742105229485,9.699727890188914e-05,-5.430435020198354e-05,-0.00020590576712986586,-0.0003559142920465108,-0.00048705718405567255,-0.0005724634282554542,-0.0006299934956718323,-0.0007089774250593206,-0.0007857577884789468,-0.0008408778031115394,-0.0008754130928889658,-0.001093987832202381,-0.0013189505701862725,-0.0016288294529610559,-0.0019459873555079943,-0.0022743848693588253,-0.002514329121989456,-0.0026349994724852444,-0.002723680995930622,-0.0028110335117381147,-0.002897973319911318,-0.002949861786916641,-0.0029680011532733364,-0.0029360201894441107,-0.002901741207171127,-0.002793031539204238,-0.002663821738541683,-0.0024348552022763204,-0.0022674689236774626,-0.0020855642644129757,-0.001883226548170025,-0.001668756319950504,-0.0014507516811096965,-0.0012365585871222384,-0.0010540861650841782,-0.0008812646332581053,-0.000705351938601384,-0.000528804828379803,-0.0003519935185363754,-0.00017367854367073],[-0.0005305199658083293,-0.000501359917851163,-0.0004385807234537076,-0.0001808193283695525,3.617587457555027e-05,0.00013312280665644938,0.00021286516162638547,0.00015988849943227024,5.904259863886985e-05,-4.812257449315904e-05,-0.00012744528933511523,-0.00020523018720597364,-0.0003303399086918568,-0.00047850000106786084,-0.0005947375746657158,-0.0006530754932786431,-0.0006974808857072579,-0.0007226559734717086,-0.0007497360727983793,-0.0007873976597146948,-0.0008928340096555076,-0.0011381680611519118,-0.0013844018751695275,-0.0016362729567618861,-0.0018796826501842334,-0.002057735130757077,-0.0022354846977963305,-0.002380829151256536,-0.0025057728471648,-0.0026184748049394857,-0.002683611659660412,-0.0027032910057110393,-0.0027213131647071953,-0.0027388902513148516,-0.002744627341003225,-0.0026622194237341246,-0.002591999254581534,-0.0024914862860973552,-0.002359147812629747,-0.002137362631727424,-0.001946548110557167,-0.00175766248573328,-0.0015892578383620015,-0.0014266264117749339,-0.0012538083231263264,-0.0010804434723585832,-0.0009062471895282531,-0.0007296529231192173,-0.0005528190442933845,-0.0003741186750417236],[-0.0006376976712956228,-0.0005312493311207533,-0.00036909723033512476,-0.00016070466558060215,-1.4205976396564068e-05,0.00012665818175738863,0.00025675810955783085,0.0002447845158857209,0.00012268840419660254,-1.4335764162043407e-05,-0.00012413894918550383,-0.00021329639419526147,-0.00026975455590461106,-0.00028762679926769286,-0.0003930189505518267,-0.0003920772131392747,-0.0004035127809539074,-0.00041192474309231786,-0.0004173184387645801,-0.0003858721130259313,-0.0005316881650613281,-0.0008187964147416404,-0.0011246199186171202,-0.0014133351464918897,-0.0016806483410964912,-0.0017737001423058785,-0.0018631046256402661,-0.0019837253668864574,-0.0021176749567499153,-0.0022290943546706132,-0.002299111053603864,-0.0023479822435120146,-0.002378142608736422,-0.0024245404837134332,-0.0024509258021711555,-0.002431627698942118,-0.0023976587300961194,-0.002328562270780543,-0.002198486929858634,-0.002043927251582811,-0.0018906782449468196,-0.001718638861298194,-0.0015770575942565257,-0.0014503922448296236,-0.0013227127572986719,-0.0011911122806346208,-0.0010500907670356607,-0.0009052938572323699,-0.0007413859909311538,-0.0005740256703210544],[-0.000471816241901013,-0.000398905667805316,-0.00032032649797936186,-0.0002144874608044911,-7.526029559512537e-05,6.516149861413023e-05,0.00021514908149389278,0.0002909282348259601,0.0002618058142490609,0.00023564257056157834,0.00015674679435989658,8.384037668041078e-05,7.26076853679869e-05,6.58440408418115e-05,6.237513415535689e-05,0.00014754466959576717,0.000165209882893258,0.00018513125198277303,0.0002084658452681798,0.00018847984214642732,-5.888832244632658e-05,-0.00031670868793304274,-0.0006018791102369025,-0.0009199118207097734,-0.0011427439666447103,-0.0012868529400802409,-0.001434012060935963,-0.001539155047956875,-0.00164316465086356,-0.0016908401073300605,-0.00173683123085705,-0.001822107822037733,-0.0019056229783945278,-0.002044766189291669,-0.0020768957496773988,-0.002074390449503305,-0.002062570619437265,-0.0020434208050006397,-0.0019798839666639867,-0.0018864307602216024,-0.0017951147129106615,-0.0017027327259729885,-0.0015984220442240016,-0.001446434531736207,-0.001307014908479509,-0.0011822333528038742,-0.001047724990532628,-0.000912205144705247,-0.000781766173419296,-0.0006691757998548153],[-3.54566895293118e-05,6.106631158608877e-05,0.00012291019799293146,0.00011516157452223785,0.00013934642038748724,0.0001899149505729114,0.00024683710716444374,0.00024034612061446525,0.00021568548671846433,0.00021881682417984605,0.00024265627219821617,0.000262241037863431,0.00028211491656454646,0.00029174385391050883,0.00030431843098255307,0.00040857996805698793,0.0004782179597917491,0.0005316734034737092,0.0005318074872548983,0.000354907082429079,9.022780080986115e-05,-0.000172168816607976,-0.0004324316643399828,-0.0006767908246529952,-0.0008436723886242059,-0.0010209302828156352,-0.001174853804764675,-0.0012481875105043727,-0.0012679262604134989,-0.0013366129837059648,-0.0014031588590020516,-0.0014800426770279485,-0.0015601921983081635,-0.0016740556326234057,-0.0017148408513232294,-0.001719044676497694,-0.0017039706450842629,-0.0017038494528483494,-0.001695303363837275,-0.0016345395351117786,-0.0015723870012677166,-0.0015064771753348083,-0.0014235035607650937,-0.0013280406150298907,-0.0012140527462703443,-0.0010574139465361898,-0.0009126163425674516,-0.000800802885830898,-0.000691945576858588,-0.0005892456554306147],[0.0004271836475267521,0.0005634118965641699,0.0005636095243293782,0.0005683397353723474,0.0005715724013250489,0.0006623805385310155,0.0007433080399828484,0.0007473302974410068,0.0006582983349373572,0.0005701259889272503,0.000520522541090862,0.0004733197515873755,0.0003995340032685868,0.0003575641943123764,0.0003967810851425724,0.0005431922463182692,0.0006221181274841947,0.0006727124475058299,0.0006958046461825185,0.0005037556927152131,0.00024742266624294684,-1.457428697410057e-05,-0.0002747844245492015,-0.0004173946421152652,-0.0005305280705141802,-0.0006480964157109526,-0.0007548962082736255,-0.0007971886764345792,-0.0007642687477120713,-0.0008289532387741883,-0.0009178314058986836,-0.0010029701132056035,-0.001119974074331287,-0.0012058910530761136,-0.0012146064857996852,-0.0012420132636956072,-0.0012810068669626973,-0.0013229920998248934,-0.0013332961980403457,-0.0013113993446026706,-0.0012568110314800096,-0.0012010479712603606,-0.0011432909017665138,-0.0010807531702189954,-0.0010537418613452143,-0.0010217993615108667,-0.0009659551416537071,-0.0008731391570908631,-0.0008107472716494257,-0.0007798052281685619],[0.0005949500548916298,0.000809993806404119,0.0009978824294254451,0.0010339389747166527,0.0011051634204008454,0.0012131891865183042,0.0013651964967715258,0.0014488019468162916,0.0013720993589494968,0.0012899485923959508,0.0012233698711950347,0.0011606926813249596,0.0010810398300523105,0.0009595426977968002,0.0008804111085479738,0.000877878206704541,0.0008567771525271883,0.0008147471264619566,0.0006609159065715242,0.00045670254001017874,0.00028143858937329513,9.447271059354057e-05,-0.00013167264103958187,-0.0002264672725234007,-0.00029958137834140697,-0.00037339315885237534,-0.0004964463133650399,-0.0006103529163755117,-0.0006172063155274743,-0.0006335267623073793,-0.0007432300005976167,-0.0008431618660238449,-0.001004600490407015,-0.0010920846301810672,-0.0011338267610990216,-0.0011878112716736111,-0.0012694046483094357,-0.0013412525126952346,-0.0014195547266547814,-0.0015064141422305166,-0.001501830364305734,-0.0014965075875746359,-0.0014978222606309988,-0.0014935404686858278,-0.0014875509343397209,-0.0014805829318607633,-0.0014590602315846524,-0.001426870391051327,-0.0013698403997632336,-0.001270727260126503],[0.0006132065068162884,0.000809124942674655,0.0010465616893064467,0.001290068457035276,0.0014283244323550215,0.0014881762105013463,0.0015916327303175382,0.0016638320418828068,0.0016553067719717873,0.0016022739972120226,0.0015173797252159837,0.0014116928232871806,0.001297357257067644,0.001168190626071819,0.0011217245349268157,0.001078466589793381,0.0010189181526374935,0.0009520135759232828,0.0007266800215641189,0.00048483267019178156,0.00022801907282815614,-3.08573040717075e-05,-0.00021723082703556384,-0.0003580414749605465,-0.0005032057790775313,-0.0006196100172949914,-0.0007223000884639119,-0.00081001913649692,-0.0008580848394971197,-0.0008927462452449353,-0.0010213139574818952,-0.0012129640906002326,-0.0013906784676965822,-0.001467543880610933,-0.001556232643386668,-0.0016347397719654877,-0.001712411748113818,-0.0017892365714319292,-0.0018653507231374267,-0.0019418140480937929,-0.0019819859653993355,-0.001983647107838604,-0.001968061887809014,-0.001932563019649114,-0.001891380717637503,-0.001862857515192995,-0.0018326722137446128,-0.0018084079490535698,-0.0017836106036360766,-0.0017440771091317697],[0.00044325169995101943,0.0006913013216802155,0.0009440734198184475,0.0011902600847122358,0.001429405588774968,0.0016618626656239588,0.0016995772540928655,0.0017442234763237474,0.0017376915752482236,0.0016812109590845226,0.0015910339457718137,0.0015011177893602956,0.0014098379614908008,0.0012628814677538291,0.0011831418253926973,0.0010976236642415982,0.0010042926071421876,0.0008166858564447876,0.0005043406412806872,0.00024556083413651564,7.072178431766218e-07,-0.00022470768554933018,-0.0003343625292722141,-0.00045980343362794773,-0.0006215916425327817,-0.0007770170950918698,-0.0009583216473384448,-0.001121124507426241,-0.0012580585345355888,-0.0014221054979291492,-0.0015286192872139281,-0.0017550644979272279,-0.0019131709388796603,-0.001994047941933641,-0.0020576773796301406,-0.0021210357742005304,-0.002183187878605053,-0.002243346908002486,-0.0022961955977891524,-0.002364758186590543,-0.0024381731872643586,-0.002463050732459948,-0.002477314822484311,-0.002491679506212874,-0.0024929867573320053,-0.0024895060196966634,-0.00245073353063191,-0.0024014484641946,-0.0023466408942061645,-0.0022499349253353174],[2.3309027603057864e-06,0.00021809011102719156,0.0004391788934205443,0.0006869829768068603,0.0009392913812477088,0.0012069476528704937,0.0014312997699160168,0.0016306782851873147,0.0016611132347713053,0.001647066882951409,0.0015927218309536584,0.0015214855091124635,0.0013796391034909816,0.0012423310599145587,0.0011370875953053416,0.0010232787740427907,0.0008848632224066622,0.0005650745430294535,0.0002668618178063853,-2.8315370197540268e-05,-0.00029345820801712774,-0.00045397236614919123,-0.0005914265445320921,-0.0006926765855228556,-0.0007840355861676862,-0.0008920839013504267,-0.0010335363991600954,-0.001103930836480027,-0.0011515410461486186,-0.0012857348357636633,-0.0015126142171108525,-0.0018150644790629333,-0.0020071698753936773,-0.0021869407347551717,-0.0023631288084262625,-0.002493404072195393,-0.002559516208707424,-0.0026191208698826407,-0.002691100362751775,-0.0027689151110160126,-0.002845190590913982,-0.0028984851189115535,-0.0029041975194791236,-0.0029085067037906698,-0.0029113081633247995,-0.002914195724048718,-0.0029127725615933353,-0.002880438751525216,-0.002798938662762651,-0.002675139677433991],[-0.00017275535458022295,7.340500659525073e-05,0.00027710395953500777,0.0004681617737845589,0.0007244739050864535,0.0009681925788744272,0.0011490703785558276,0.001336340536913283,0.0015290249124194633,0.0015182768441954764,0.0014494527559670844,0.0013361255042187992,0.0011766709057229319,0.0010455819031985336,0.000935188298414269,0.0008329042498221306,0.0007217944052587133,0.00043022108351953303,0.00016122283348557476,-0.0001373577353394606,-0.00037081090037893727,-0.0005503133948221439,-0.0007301945859823911,-0.0009014826416411381,-0.001033598036317085,-0.001144180445664389,-0.0012315269308337817,-0.0012230339666999823,-0.0012346565013425792,-0.0013154722951039255,-0.0014731331348651344,-0.0016879613708763452,-0.0018981083914725305,-0.0021048462582688443,-0.0022985685679926537,-0.0024883841851882638,-0.002677172723321797,-0.0028755320551584473,-0.0030512037937670544,-0.003217586210863266,-0.003381192762099583,-0.0034541524871180562,-0.0034742703756143745,-0.00347580451413404,-0.0034751609870441458,-0.0034616253692331123,-0.0034081809833143573,-0.003340531091755139,-0.003262503696759067,-0.003160164272953958],[-0.00024350975940501396,-9.498299235749519e-05,0.0001339700614732542,0.0003819154387981194,0.0006092086658641138,0.0008453205171205513,0.0010076385999924775,0.0011359517622971382,0.001296337364141642,0.0013717103397938857,0.0014006158075507424,0.0012091702082555056,0.0010406948124340176,0.0009496853516828274,0.0008379620977259084,0.0007671769011716179,0.0005725749794579515,0.0002663692506480464,-3.974579707938242e-05,-0.00030771588090627855,-0.000484167068949215,-0.0006527851263881113,-0.000797625537198754,-0.0009165114019858978,-0.0010479747939312611,-0.0011886447735129924,-0.0012850816007622945,-0.001321455212838163,-0.0013567385643572516,-0.0014539569531519247,-0.0015438126294726184,-0.0016827133374482384,-0.001864451471391304,-0.0020429432766614353,-0.00221844700063234,-0.00241464492676835,-0.0026228236534245886,-0.00282848758992843,-0.003031207325096763,-0.003230970184174786,-0.0034106266803937135,-0.003578478051791789,-0.0037261357950466034,-0.003770556164612582,-0.0037839353032171896,-0.003787030150875337,-0.003749873714622265,-0.0036557010633442855,-0.00355965991554158,-0.003453925340251629],[-0.00023619698607540984,-8.823343310487841e-05,7.102840465184057e-05,0.0003030300121303897,0.0005503055522498301,0.0008065931972696117,0.000958971934591768,0.0010961961351076965,0.0012214605317061866,0.001252727833903844,0.0012218974560309626,0.0011981835725866086,0.001078157599321783,0.0009934140179316264,0.0009130072644449316,0.0007517830548069981,0.0004405627395743794,9.276799555052451e-05,-0.0002598364618338067,-0.0004704178311383256,-0.0006499321572319694,-0.00080854285919435,-0.000965650969888987,-0.00112498045480397,-0.0012513324563968586,-0.0013639858241664693,-0.0013856291904306706,-0.0013994060454586288,-0.0014393150455650483,-0.001512740607426899,-0.0015538421118480028,-0.0015522105631342042,-0.0016905851522615034,-0.001864112023857667,-0.0020848810278711882,-0.0023089828686277958,-0.002522548434012284,-0.0027295596681207734,-0.0029328357102695324,-0.0031257478738756506,-0.0032990443915493772,-0.003395670115301619,-0.0034673181339943127,-0.00349516881908174,-0.003501380328351511,-0.0035097793572653746,-0.003531198410161862,-0.0035568000931812116,-0.003562398463500316,-0.003555546710607871],[-0.00021982322043090363,-8.734181845226896e-05,4.43222720615255e-05,0.00018764578866425907,0.00040058771001261206,0.0006402893355734185,0.0008074794566494403,0.0009729717495556289,0.0011009797813800182,0.0011080955963210792,0.0010664817601346854,0.0010212723591934703,0.00100139108777203,0.0010342734538202891,0.0009616286930910212,0.0007517679902645513,0.0004305225878482588,7.35546914442109e-05,-0.0002474060157507396,-0.0004766025871756896,-0.0006858605900810777,-0.000879651183794905,-0.0010643815837768078,-0.0012432691217778569,-0.0014287688693682132,-0.0015836842999468748,-0.0016167565923794203,-0.0016450145189373933,-0.0016319146877702417,-0.0016526418548938326,-0.0016593560662453988,-0.0016195052690705092,-0.0017075138805125456,-0.0018479132144376686,-0.0020039471986475488,-0.002162909657789258,-0.002360254416139018,-0.002534815638008947,-0.002636811465315192,-0.002734536351620076,-0.0028282157759554893,-0.002917895950153293,-0.0030114308587897987,-0.0030711659202459773,-0.003102123073774332,-0.0031427918762568785,-0.003201888987734991,-0.0032392548957158596,-0.0032798478106390028,-0.0033019551663348023],[-0.00010300370093119238,-4.8063231131989514e-05,8.245769564524386e-05,0.00021788780099041283,0.00032955113092536514,0.00042727986620999525,0.0005517846444064167,0.0006433750744755384,0.0007277769871480433,0.0007672994296863411,0.0008003093477769729,0.0008046473714921065,0.0008131116617619005,0.000811533827463351,0.0008669585868448237,0.0007011128134319367,0.0003815510885133988,1.3767811533393903e-05,-0.0002553756222311021,-0.0004918647106054164,-0.0007206459409746513,-0.0009278024222905135,-0.0011433448042176275,-0.001352847449141048,-0.0015565762941878725,-0.0017289875454961079,-0.0017961971692370127,-0.0017930987786354269,-0.0017870995313451488,-0.0018214063475414655,-0.0018281521751963847,-0.00178277205277938,-0.0017927544559218633,-0.0018651832114135458,-0.0019140986976811658,-0.0019434841294264094,-0.002008701376101041,-0.002073022604185959,-0.002157983014744347,-0.0022561792674252734,-0.0023498959498629013,-0.002439417805666977,-0.002524880130616136,-0.0026062389900934346,-0.0026360643543479334,-0.002664289992510227,-0.002695728582699619,-0.0027300664414529607,-0.0028045702638689884,-0.00283753553568733],[0.0001460958689400993,0.0001380356411451178,0.00013896247381045557,0.0001079184646678999,0.0002189434708126381,0.0002680681858299727,0.0002627441912756434,0.0003326453537055296,0.00044031685042644764,0.00050431815860974,0.0005043356648051778,0.0005475522665608357,0.0005700577536114082,0.0005661477380221602,0.0005073208161793241,0.0004243838522976495,0.00032171059217595,8.157611248249541e-05,-0.00016370166740914405,-0.00043689483657893824,-0.0007074579266390102,-0.0009569738774855563,-0.0011949791389384012,-0.0014257639352835416,-0.0016378223006794923,-0.0017997394074479311,-0.0018460057067730684,-0.0018552348594026435,-0.0018687272368040908,-0.001853753497081112,-0.0017894449126573675,-0.0017159970368453292,-0.001639034081472146,-0.001657282094230439,-0.001671221481494678,-0.00168370305907517,-0.0016958783657552434,-0.0017020140811467854,-0.0017070754165432467,-0.0017525945502315787,-0.0018324194804597571,-0.001940606374875864,-0.0020445378921367663,-0.002144498040118792,-0.0022493534949492577,-0.0023035379246872933,-0.0023244705150182177,-0.0023517728184354603,-0.002375415370970524,-0.0023634040600992168],[0.0004367270461144157,0.00038623308984336857,0.00030030602304692566,0.000237855981303714,0.00018922171852125969,9.312781916120949e-05,7.557983818884395e-05,0.00015786089493113886,0.00026922724187672387,0.0003455835488439529,0.00030745880520599567,0.00033853865918676007,0.000392168611212218,0.0004617503484902752,0.0003400580651367613,0.00020306584443352538,0.00012717973500142588,7.177349515968823e-05,-6.0670407243723634e-05,-0.0003329187331393979,-0.0006271647819823811,-0.000897007094952218,-0.001150253577379412,-0.0013916712927881658,-0.0016011116161878114,-0.0016837105965218369,-0.0016904261915996477,-0.00168511995153936,-0.0017085260503350574,-0.0017023448073487102,-0.0016245181044188262,-0.001521082817001862,-0.0014130710304626204,-0.0014167326364691868,-0.001443038542440489,-0.0014652757487708667,-0.0014836124104941617,-0.0015009579777863769,-0.0015102972293127293,-0.0015127803011129037,-0.0015209115531935047,-0.0015344991124723317,-0.0015354394825348172,-0.0016209339400335976,-0.0017204856957798165,-0.0018069599556743143,-0.0018728910874739046,-0.0019349231792483157,-0.0019725364765508235,-0.0019643764241243367],[0.00032545447604509503,0.00030167783599294173,0.00030885317067341767,0.00032044781003209843,0.00032429752278778645,0.00022020542829453982,0.00011847159160804921,2.571668980066999e-05,-1.8176535828584583e-05,9.411978369255891e-05,0.00010706273137661704,0.0001302197696471663,0.00017964065264969298,0.00016787351339858647,6.981466503658273e-05,-1.685240133608712e-05,-5.0679669513054026e-05,-0.00010623815047561269,-0.00019175755743200407,-0.00027064366127299566,-0.00044106715758168713,-0.0006819585395240191,-0.0009293021044901595,-0.0011494199215364431,-0.0013208222695782479,-0.0013826496668496446,-0.0013981386578699184,-0.0014603869066990294,-0.001489608040007362,-0.0014827559345547692,-0.0013962228099252405,-0.001306652591577584,-0.0012122488568473977,-0.0011932305661598308,-0.0012281901782240645,-0.001258883923043519,-0.001285450244624231,-0.0013080866773875766,-0.0013268114476492898,-0.001337976620832515,-0.0013431492113737398,-0.0013052421810246795,-0.0012674555234442608,-0.001261961963502034,-0.0012733693243009436,-0.001318292741543936,-0.0013887004615287801,-0.001459841271154394,-0.0015231760758025459,-0.001549750856206289],[0.0001586572191533686,0.00010200882601879568,7.948692127912604e-05,0.00012028962788096509,0.00018215277389149742,0.00020907669250264105,0.00017978452604716644,0.00015212744354503593,9.827757891123223e-05,4.441131842919388e-05,-0.0001025913825673519,-0.00015460394844413194,-7.23604468047534e-05,-0.0001535083760198508,-0.00021209124667342927,-0.00020660283424633885,-0.0002054165862195867,-0.00017891451592377816,-0.00024476040051246706,-0.0003181398031666949,-0.00037840152296825247,-0.00043403993186336143,-0.0006310562794675234,-0.0008228516323557367,-0.0009790551842839834,-0.001042711575191424,-0.0010567023871805858,-0.0011104894359669215,-0.0011572179544461214,-0.001162311013129247,-0.001125791486384975,-0.0010527777882086142,-0.0009744945375226299,-0.0009567364446410598,-0.0010067658818492808,-0.001048904804932027,-0.0010827255028254545,-0.0011125681261965337,-0.0011388384290785813,-0.0011566964853441664,-0.001124496046861101,-0.0010920239533442344,-0.0010685950691698975,-0.0010668319098394163,-0.0010766472285944628,-0.0010976391542350528,-0.0010979043942460076,-0.001108124178638148,-0.0011304883742037641,-0.0011482918432367817],[-1.3975078508254857e-05,-3.6359261083085403e-05,-4.95161354765461e-05,-4.299279510000531e-05,1.3217625161099367e-05,5.638049942457979e-05,0.00012774457357456193,0.00019298273250634157,0.00020710124186257284,0.00022742015658816506,0.00017554199604119525,4.692151449892101e-05,-0.0001420037635123661,-0.0003201668531350732,-0.00035984487130047427,-0.00037408632356839,-0.0003659676718822946,-0.00035173662211551715,-0.00033616568719185835,-0.0003186617400350866,-0.00038839509723848087,-0.00043006125513811444,-0.00037138923711355076,-0.00037184995425476597,-0.0004627932136077595,-0.0004915386086660201,-0.0005639400506811665,-0.0006369284576254741,-0.000702570935080582,-0.0007208367721980302,-0.0007082891854637285,-0.0006894777623975279,-0.000629495833553595,-0.0006141057363289737,-0.0006761701142584675,-0.0007331266681493975,-0.0007852630289338358,-0.000832478891971189,-0.0008602193403747238,-0.0008561641639147632,-0.0008532624298727698,-0.000848223147671856,-0.0008615073593066236,-0.000889018589415147,-0.00090728846321253,-0.0009289984462836909,-0.0009576505247037015,-0.0009582417316834069,-0.0009368661619674201,-0.0009059356723577494],[-0.00018117586445454137,-0.00019966786389336022,-0.00018090277390414577,-0.0001504880552069543,-0.00012988505185324017,-0.00011477279984234423,-6.577976930122187e-05,2.3298382180014787e-05,0.0001013885153217653,0.0001746105390784125,0.00014918919187062452,6.161722072017817e-05,-0.0001231660898250997,-0.00023988846075562176,-0.000349743796330404,-0.0004486275560754427,-0.000494256966958484,-0.0005203736131934034,-0.0005636682245380165,-0.0005362268124355363,-0.00043691861252498354,-0.00029465252704768963,-0.00020121934328903857,-9.754953205759476e-05,-2.9527619505587133e-06,6.637749273896709e-06,-4.0908907214864954e-05,-0.00011268626816735017,-0.0001912843334588299,-0.00021324781065090725,-0.0002126339275859701,-0.0002054092580558997,-0.00019171472550238988,-0.0001828367311309531,-0.0002592919049436704,-0.0003305906081076393,-0.00039925572871518655,-0.0004456069238500393,-0.00046504334410302217,-0.00047704395304382086,-0.0004844277695674193,-0.0005222892973815174,-0.0005629589341422658,-0.0005954857797008106,-0.0006287072889284429,-0.0006747984027488108,-0.0007171148545584427,-0.0007453003176908779,-0.0007278980822604253,-0.0006955889521817471],[-0.00021563688456993635,-0.0003044430762539907,-0.0003078458413138807,-0.0002858440812541496,-0.0002821908779929716,-0.00028845218417394847,-0.0002692496518785781,-0.00021033201293879644,-0.00012450595404395193,-1.0777322707156145e-05,6.506321979843355e-05,-1.0248052907335659e-05,-0.000161115658043276,-0.00028458381704710156,-0.00036698286325514973,-0.00045069975933298423,-0.0005427744722261152,-0.0006186849575177678,-0.0006542357262530607,-0.0006041896549004444,-0.00045340883958178146,-0.0003017316737353726,-0.00016712856721157188,-3.8690529513940586e-05,8.692254010589373e-05,0.0002230949789982506,0.0003124910246908308,0.0003154782657602828,0.00027777887679347746,0.00028320310056978437,0.0002804679223527562,0.00027554122446027396,0.0002677157826436738,0.00022239971601878405,0.00013748623566745,6.23675034877591e-05,2.6319630095472668e-05,-4.5915034863619475e-06,-3.0473903055994178e-05,-5.0868870862530446e-05,-9.20797520354566e-05,-0.00014923623574097933,-0.0002018809847987857,-0.0002502390762346707,-0.00030743960854967556,-0.0003591037653590812,-0.00041135636882511095,-0.00046111297575829324,-0.00047292348406091644,-0.00046682938955416864],[-4.289861148065732e-05,-0.0001315901589064028,-0.00022701152893184195,-0.00028628357100302093,-0.00032788660092430977,-0.00034281996620660893,-0.0003374282414390639,-0.0003057449061630857,-0.00025157607492459766,-0.00017488102497892344,-6.494763536502024e-05,-0.00014459277094930334,-0.00023984330575255175,-0.0003232325853230744,-0.0004286851119113533,-0.0005134722925353441,-0.0005783456971802381,-0.0006067702118922602,-0.0006216081369487814,-0.0006423529285048413,-0.0006535984097612579,-0.0005064825536036932,-0.00034798999441520984,-0.0001767186639469176,3.6837986261917255e-05,0.0001862291545308703,0.00033428203268709433,0.0005092538817685899,0.0005360912462694101,0.0005855675125963633,0.0006230889250167793,0.000651434472089818,0.0006582441668906425,0.0006386985906911002,0.0005346029169387423,0.0004950678089847282,0.0004617504743731904,0.0004334694664833716,0.0004106829392637179,0.0003649710515229443,0.0002920244795921456,0.00022323750508818074,0.00015936803050708992,8.698844719112753e-05,1.5470304196907314e-05,-5.7705607534319636e-05,-0.00013303158252081504,-0.00020778091916962005,-0.0002361324231950901,-0.0001805198193386981]],\"type\":\"heatmap\",\"xaxis\":\"x\",\"yaxis\":\"y\",\"hovertemplate\":\"x: %{x}<br>y: %{y}<br>color: %{z}<extra></extra>\"}],                        {\"template\":{\"data\":{\"histogram2dcontour\":[{\"type\":\"histogram2dcontour\",\"colorbar\":{\"outlinewidth\":0,\"ticks\":\"\"},\"colorscale\":[[0.0,\"#0d0887\"],[0.1111111111111111,\"#46039f\"],[0.2222222222222222,\"#7201a8\"],[0.3333333333333333,\"#9c179e\"],[0.4444444444444444,\"#bd3786\"],[0.5555555555555556,\"#d8576b\"],[0.6666666666666666,\"#ed7953\"],[0.7777777777777778,\"#fb9f3a\"],[0.8888888888888888,\"#fdca26\"],[1.0,\"#f0f921\"]]}],\"choropleth\":[{\"type\":\"choropleth\",\"colorbar\":{\"outlinewidth\":0,\"ticks\":\"\"}}],\"histogram2d\":[{\"type\":\"histogram2d\",\"colorbar\":{\"outlinewidth\":0,\"ticks\":\"\"},\"colorscale\":[[0.0,\"#0d0887\"],[0.1111111111111111,\"#46039f\"],[0.2222222222222222,\"#7201a8\"],[0.3333333333333333,\"#9c179e\"],[0.4444444444444444,\"#bd3786\"],[0.5555555555555556,\"#d8576b\"],[0.6666666666666666,\"#ed7953\"],[0.7777777777777778,\"#fb9f3a\"],[0.8888888888888888,\"#fdca26\"],[1.0,\"#f0f921\"]]}],\"heatmap\":[{\"type\":\"heatmap\",\"colorbar\":{\"outlinewidth\":0,\"ticks\":\"\"},\"colorscale\":[[0.0,\"#0d0887\"],[0.1111111111111111,\"#46039f\"],[0.2222222222222222,\"#7201a8\"],[0.3333333333333333,\"#9c179e\"],[0.4444444444444444,\"#bd3786\"],[0.5555555555555556,\"#d8576b\"],[0.6666666666666666,\"#ed7953\"],[0.7777777777777778,\"#fb9f3a\"],[0.8888888888888888,\"#fdca26\"],[1.0,\"#f0f921\"]]}],\"heatmapgl\":[{\"type\":\"heatmapgl\",\"colorbar\":{\"outlinewidth\":0,\"ticks\":\"\"},\"colorscale\":[[0.0,\"#0d0887\"],[0.1111111111111111,\"#46039f\"],[0.2222222222222222,\"#7201a8\"],[0.3333333333333333,\"#9c179e\"],[0.4444444444444444,\"#bd3786\"],[0.5555555555555556,\"#d8576b\"],[0.6666666666666666,\"#ed7953\"],[0.7777777777777778,\"#fb9f3a\"],[0.8888888888888888,\"#fdca26\"],[1.0,\"#f0f921\"]]}],\"contourcarpet\":[{\"type\":\"contourcarpet\",\"colorbar\":{\"outlinewidth\":0,\"ticks\":\"\"}}],\"contour\":[{\"type\":\"contour\",\"colorbar\":{\"outlinewidth\":0,\"ticks\":\"\"},\"colorscale\":[[0.0,\"#0d0887\"],[0.1111111111111111,\"#46039f\"],[0.2222222222222222,\"#7201a8\"],[0.3333333333333333,\"#9c179e\"],[0.4444444444444444,\"#bd3786\"],[0.5555555555555556,\"#d8576b\"],[0.6666666666666666,\"#ed7953\"],[0.7777777777777778,\"#fb9f3a\"],[0.8888888888888888,\"#fdca26\"],[1.0,\"#f0f921\"]]}],\"surface\":[{\"type\":\"surface\",\"colorbar\":{\"outlinewidth\":0,\"ticks\":\"\"},\"colorscale\":[[0.0,\"#0d0887\"],[0.1111111111111111,\"#46039f\"],[0.2222222222222222,\"#7201a8\"],[0.3333333333333333,\"#9c179e\"],[0.4444444444444444,\"#bd3786\"],[0.5555555555555556,\"#d8576b\"],[0.6666666666666666,\"#ed7953\"],[0.7777777777777778,\"#fb9f3a\"],[0.8888888888888888,\"#fdca26\"],[1.0,\"#f0f921\"]]}],\"mesh3d\":[{\"type\":\"mesh3d\",\"colorbar\":{\"outlinewidth\":0,\"ticks\":\"\"}}],\"scatter\":[{\"fillpattern\":{\"fillmode\":\"overlay\",\"size\":10,\"solidity\":0.2},\"type\":\"scatter\"}],\"parcoords\":[{\"type\":\"parcoords\",\"line\":{\"colorbar\":{\"outlinewidth\":0,\"ticks\":\"\"}}}],\"scatterpolargl\":[{\"type\":\"scatterpolargl\",\"marker\":{\"colorbar\":{\"outlinewidth\":0,\"ticks\":\"\"}}}],\"bar\":[{\"error_x\":{\"color\":\"#2a3f5f\"},\"error_y\":{\"color\":\"#2a3f5f\"},\"marker\":{\"line\":{\"color\":\"#E5ECF6\",\"width\":0.5},\"pattern\":{\"fillmode\":\"overlay\",\"size\":10,\"solidity\":0.2}},\"type\":\"bar\"}],\"scattergeo\":[{\"type\":\"scattergeo\",\"marker\":{\"colorbar\":{\"outlinewidth\":0,\"ticks\":\"\"}}}],\"scatterpolar\":[{\"type\":\"scatterpolar\",\"marker\":{\"colorbar\":{\"outlinewidth\":0,\"ticks\":\"\"}}}],\"histogram\":[{\"marker\":{\"pattern\":{\"fillmode\":\"overlay\",\"size\":10,\"solidity\":0.2}},\"type\":\"histogram\"}],\"scattergl\":[{\"type\":\"scattergl\",\"marker\":{\"colorbar\":{\"outlinewidth\":0,\"ticks\":\"\"}}}],\"scatter3d\":[{\"type\":\"scatter3d\",\"line\":{\"colorbar\":{\"outlinewidth\":0,\"ticks\":\"\"}},\"marker\":{\"colorbar\":{\"outlinewidth\":0,\"ticks\":\"\"}}}],\"scattermapbox\":[{\"type\":\"scattermapbox\",\"marker\":{\"colorbar\":{\"outlinewidth\":0,\"ticks\":\"\"}}}],\"scatterternary\":[{\"type\":\"scatterternary\",\"marker\":{\"colorbar\":{\"outlinewidth\":0,\"ticks\":\"\"}}}],\"scattercarpet\":[{\"type\":\"scattercarpet\",\"marker\":{\"colorbar\":{\"outlinewidth\":0,\"ticks\":\"\"}}}],\"carpet\":[{\"aaxis\":{\"endlinecolor\":\"#2a3f5f\",\"gridcolor\":\"white\",\"linecolor\":\"white\",\"minorgridcolor\":\"white\",\"startlinecolor\":\"#2a3f5f\"},\"baxis\":{\"endlinecolor\":\"#2a3f5f\",\"gridcolor\":\"white\",\"linecolor\":\"white\",\"minorgridcolor\":\"white\",\"startlinecolor\":\"#2a3f5f\"},\"type\":\"carpet\"}],\"table\":[{\"cells\":{\"fill\":{\"color\":\"#EBF0F8\"},\"line\":{\"color\":\"white\"}},\"header\":{\"fill\":{\"color\":\"#C8D4E3\"},\"line\":{\"color\":\"white\"}},\"type\":\"table\"}],\"barpolar\":[{\"marker\":{\"line\":{\"color\":\"#E5ECF6\",\"width\":0.5},\"pattern\":{\"fillmode\":\"overlay\",\"size\":10,\"solidity\":0.2}},\"type\":\"barpolar\"}],\"pie\":[{\"automargin\":true,\"type\":\"pie\"}]},\"layout\":{\"autotypenumbers\":\"strict\",\"colorway\":[\"#636efa\",\"#EF553B\",\"#00cc96\",\"#ab63fa\",\"#FFA15A\",\"#19d3f3\",\"#FF6692\",\"#B6E880\",\"#FF97FF\",\"#FECB52\"],\"font\":{\"color\":\"#2a3f5f\"},\"hovermode\":\"closest\",\"hoverlabel\":{\"align\":\"left\"},\"paper_bgcolor\":\"white\",\"plot_bgcolor\":\"#E5ECF6\",\"polar\":{\"bgcolor\":\"#E5ECF6\",\"angularaxis\":{\"gridcolor\":\"white\",\"linecolor\":\"white\",\"ticks\":\"\"},\"radialaxis\":{\"gridcolor\":\"white\",\"linecolor\":\"white\",\"ticks\":\"\"}},\"ternary\":{\"bgcolor\":\"#E5ECF6\",\"aaxis\":{\"gridcolor\":\"white\",\"linecolor\":\"white\",\"ticks\":\"\"},\"baxis\":{\"gridcolor\":\"white\",\"linecolor\":\"white\",\"ticks\":\"\"},\"caxis\":{\"gridcolor\":\"white\",\"linecolor\":\"white\",\"ticks\":\"\"}},\"coloraxis\":{\"colorbar\":{\"outlinewidth\":0,\"ticks\":\"\"}},\"colorscale\":{\"sequential\":[[0.0,\"#0d0887\"],[0.1111111111111111,\"#46039f\"],[0.2222222222222222,\"#7201a8\"],[0.3333333333333333,\"#9c179e\"],[0.4444444444444444,\"#bd3786\"],[0.5555555555555556,\"#d8576b\"],[0.6666666666666666,\"#ed7953\"],[0.7777777777777778,\"#fb9f3a\"],[0.8888888888888888,\"#fdca26\"],[1.0,\"#f0f921\"]],\"sequentialminus\":[[0.0,\"#0d0887\"],[0.1111111111111111,\"#46039f\"],[0.2222222222222222,\"#7201a8\"],[0.3333333333333333,\"#9c179e\"],[0.4444444444444444,\"#bd3786\"],[0.5555555555555556,\"#d8576b\"],[0.6666666666666666,\"#ed7953\"],[0.7777777777777778,\"#fb9f3a\"],[0.8888888888888888,\"#fdca26\"],[1.0,\"#f0f921\"]],\"diverging\":[[0,\"#8e0152\"],[0.1,\"#c51b7d\"],[0.2,\"#de77ae\"],[0.3,\"#f1b6da\"],[0.4,\"#fde0ef\"],[0.5,\"#f7f7f7\"],[0.6,\"#e6f5d0\"],[0.7,\"#b8e186\"],[0.8,\"#7fbc41\"],[0.9,\"#4d9221\"],[1,\"#276419\"]]},\"xaxis\":{\"gridcolor\":\"white\",\"linecolor\":\"white\",\"ticks\":\"\",\"title\":{\"standoff\":15},\"zerolinecolor\":\"white\",\"automargin\":true,\"zerolinewidth\":2},\"yaxis\":{\"gridcolor\":\"white\",\"linecolor\":\"white\",\"ticks\":\"\",\"title\":{\"standoff\":15},\"zerolinecolor\":\"white\",\"automargin\":true,\"zerolinewidth\":2},\"scene\":{\"xaxis\":{\"backgroundcolor\":\"#E5ECF6\",\"gridcolor\":\"white\",\"linecolor\":\"white\",\"showbackground\":true,\"ticks\":\"\",\"zerolinecolor\":\"white\",\"gridwidth\":2},\"yaxis\":{\"backgroundcolor\":\"#E5ECF6\",\"gridcolor\":\"white\",\"linecolor\":\"white\",\"showbackground\":true,\"ticks\":\"\",\"zerolinecolor\":\"white\",\"gridwidth\":2},\"zaxis\":{\"backgroundcolor\":\"#E5ECF6\",\"gridcolor\":\"white\",\"linecolor\":\"white\",\"showbackground\":true,\"ticks\":\"\",\"zerolinecolor\":\"white\",\"gridwidth\":2}},\"shapedefaults\":{\"line\":{\"color\":\"#2a3f5f\"}},\"annotationdefaults\":{\"arrowcolor\":\"#2a3f5f\",\"arrowhead\":0,\"arrowwidth\":1},\"geo\":{\"bgcolor\":\"white\",\"landcolor\":\"#E5ECF6\",\"subunitcolor\":\"white\",\"showland\":true,\"showlakes\":true,\"lakecolor\":\"white\"},\"title\":{\"x\":0.05},\"mapbox\":{\"style\":\"light\"}}},\"xaxis\":{\"anchor\":\"y\",\"domain\":[0.0,1.0],\"scaleanchor\":\"y\",\"constrain\":\"domain\"},\"yaxis\":{\"anchor\":\"x\",\"domain\":[0.0,1.0],\"autorange\":\"reversed\",\"constrain\":\"domain\"},\"coloraxis\":{\"colorscale\":[[0.0,\"#440154\"],[0.1111111111111111,\"#482878\"],[0.2222222222222222,\"#3e4989\"],[0.3333333333333333,\"#31688e\"],[0.4444444444444444,\"#26828e\"],[0.5555555555555556,\"#1f9e89\"],[0.6666666666666666,\"#35b779\"],[0.7777777777777778,\"#6ece58\"],[0.8888888888888888,\"#b5de2b\"],[1.0,\"#fde725\"]]},\"margin\":{\"t\":60}},                        {\"responsive\": true}                    ).then(function(){\n",
              "                            \n",
              "var gd = document.getElementById('85e0ffad-6e1e-477e-9df4-222978ace338');\n",
              "var x = new MutationObserver(function (mutations, observer) {{\n",
              "        var display = window.getComputedStyle(gd).display;\n",
              "        if (!display || display === 'none') {{\n",
              "            console.log([gd, 'removed!']);\n",
              "            Plotly.purge(gd);\n",
              "            observer.disconnect();\n",
              "        }}\n",
              "}});\n",
              "\n",
              "// Listen for the removal of the full notebook cells\n",
              "var notebookContainer = gd.closest('#notebook-container');\n",
              "if (notebookContainer) {{\n",
              "    x.observe(notebookContainer, {childList: true});\n",
              "}}\n",
              "\n",
              "// Listen for the clearing of the current output cell\n",
              "var outputEl = gd.closest('.output');\n",
              "if (outputEl) {{\n",
              "    x.observe(outputEl, {childList: true});\n",
              "}}\n",
              "\n",
              "                        })                };                            </script>        </div>\n",
              "</body>\n",
              "</html>"
            ]
          },
          "metadata": {}
        }
      ]
    }
  ]
}